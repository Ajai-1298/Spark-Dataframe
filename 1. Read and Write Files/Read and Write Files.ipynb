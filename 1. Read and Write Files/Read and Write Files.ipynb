{
 "cells": [
  {
   "cell_type": "markdown",
   "metadata": {
    "application/vnd.databricks.v1+cell": {
     "cellMetadata": {},
     "inputWidgets": {},
     "nuid": "be4facae-66af-45a0-b2e5-0105e212cc00",
     "showTitle": false,
     "title": ""
    }
   },
   "source": [
    "### *READING AND WRITING DIFFERENT FILE FORMATS*\n",
    "Databricks can read data from and write data to a variety of data formats such as CSV, JSON, Parquet, avro , xlsx(excel format). So in this Notebook we are going to see how to read and write these formats."
   ]
  },
  {
   "cell_type": "markdown",
   "metadata": {
    "application/vnd.databricks.v1+cell": {
     "cellMetadata": {},
     "inputWidgets": {},
     "nuid": "7d0474ac-ed70-43c1-bcf1-4a54826f4c5b",
     "showTitle": false,
     "title": ""
    }
   },
   "source": [
    "###*CSV FILE FORMAT (READ)*\n",
    "Comma-separated values (CSV) is a text file format that uses commas to separate values. A CSV file stores tabular data (numbers and text) in plain text, where each line of the file typically represents one data record. Each record consists of the same number of fields, and these are separated by commas in the CSV file."
   ]
  },
  {
   "cell_type": "code",
   "execution_count": 0,
   "metadata": {
    "application/vnd.databricks.v1+cell": {
     "cellMetadata": {
      "byteLimit": 2048000,
      "rowLimit": 10000
     },
     "inputWidgets": {},
     "nuid": "f0c4f904-97fa-4980-8ea3-cda6e1eecce0",
     "showTitle": false,
     "title": ""
    }
   },
   "outputs": [
    {
     "output_type": "display_data",
     "data": {
      "text/html": [
       "<style scoped>\n",
       "  .table-result-container {\n",
       "    max-height: 300px;\n",
       "    overflow: auto;\n",
       "  }\n",
       "  table, th, td {\n",
       "    border: 1px solid black;\n",
       "    border-collapse: collapse;\n",
       "  }\n",
       "  th, td {\n",
       "    padding: 5px;\n",
       "  }\n",
       "  th {\n",
       "    text-align: left;\n",
       "  }\n",
       "</style><div class='table-result-container'><table class='table-result'><thead style='background-color: white'><tr><th>date</th><th>state</th><th>county</th><th>fips</th><th>cases</th><th>deaths</th></tr></thead><tbody><tr><td>2020-01-21</td><td>Washington</td><td>Snohomish</td><td>53061</td><td>1</td><td>0</td></tr><tr><td>2020-01-22</td><td>Washington</td><td>Snohomish</td><td>53061</td><td>1</td><td>0</td></tr><tr><td>2020-01-23</td><td>Washington</td><td>Snohomish</td><td>53061</td><td>1</td><td>0</td></tr><tr><td>2020-01-24</td><td>Illinois</td><td>Cook</td><td>17031</td><td>1</td><td>0</td></tr><tr><td>2020-01-24</td><td>Washington</td><td>Snohomish</td><td>53061</td><td>1</td><td>0</td></tr><tr><td>2020-01-25</td><td>California</td><td>Orange</td><td>6059</td><td>1</td><td>0</td></tr><tr><td>2020-01-25</td><td>Illinois</td><td>Cook</td><td>17031</td><td>1</td><td>0</td></tr><tr><td>2020-01-25</td><td>Washington</td><td>Snohomish</td><td>53061</td><td>1</td><td>0</td></tr><tr><td>2020-01-26</td><td>Arizona</td><td>Maricopa</td><td>4013</td><td>1</td><td>0</td></tr><tr><td>2020-01-26</td><td>California</td><td>Los Angeles</td><td>6037</td><td>1</td><td>0</td></tr></tbody></table></div>"
      ]
     },
     "metadata": {
      "application/vnd.databricks.v1+output": {
       "addedWidgets": {},
       "aggData": [],
       "aggError": "",
       "aggOverflow": false,
       "aggSchema": [],
       "aggSeriesLimitReached": false,
       "aggType": "",
       "arguments": {},
       "columnCustomDisplayInfos": {},
       "data": [
        [
         "2020-01-21",
         "Washington",
         "Snohomish",
         53061,
         1,
         0
        ],
        [
         "2020-01-22",
         "Washington",
         "Snohomish",
         53061,
         1,
         0
        ],
        [
         "2020-01-23",
         "Washington",
         "Snohomish",
         53061,
         1,
         0
        ],
        [
         "2020-01-24",
         "Illinois",
         "Cook",
         17031,
         1,
         0
        ],
        [
         "2020-01-24",
         "Washington",
         "Snohomish",
         53061,
         1,
         0
        ],
        [
         "2020-01-25",
         "California",
         "Orange",
         6059,
         1,
         0
        ],
        [
         "2020-01-25",
         "Illinois",
         "Cook",
         17031,
         1,
         0
        ],
        [
         "2020-01-25",
         "Washington",
         "Snohomish",
         53061,
         1,
         0
        ],
        [
         "2020-01-26",
         "Arizona",
         "Maricopa",
         4013,
         1,
         0
        ],
        [
         "2020-01-26",
         "California",
         "Los Angeles",
         6037,
         1,
         0
        ]
       ],
       "datasetInfos": [],
       "dbfsResultPath": null,
       "isJsonSchema": true,
       "metadata": {},
       "overflow": false,
       "plotOptions": {
        "customPlotOptions": {},
        "displayType": "table",
        "pivotAggregation": null,
        "pivotColumns": null,
        "xColumns": null,
        "yColumns": null
       },
       "removedWidgets": [],
       "schema": [
        {
         "metadata": "{\"__detected_date_formats\":\"d-M-yyyy\"}",
         "name": "date",
         "type": "\"date\""
        },
        {
         "metadata": "{}",
         "name": "state",
         "type": "\"string\""
        },
        {
         "metadata": "{}",
         "name": "county",
         "type": "\"string\""
        },
        {
         "metadata": "{}",
         "name": "fips",
         "type": "\"integer\""
        },
        {
         "metadata": "{}",
         "name": "cases",
         "type": "\"integer\""
        },
        {
         "metadata": "{}",
         "name": "deaths",
         "type": "\"integer\""
        }
       ],
       "type": "table"
      }
     },
     "output_type": "display_data"
    },
    {
     "output_type": "stream",
     "name": "stdout",
     "output_type": "stream",
     "text": [
      "root\n |-- date: date (nullable = true)\n |-- state: string (nullable = true)\n |-- county: string (nullable = true)\n |-- fips: integer (nullable = true)\n |-- cases: integer (nullable = true)\n |-- deaths: integer (nullable = true)\n\n"
     ]
    }
   ],
   "source": [
    "# file location and type\n",
    "file_location = \"/FileStore/tables/us_counties.csv\"\n",
    "file_type = \"csv\"\n",
    "\n",
    "# file options\n",
    "infer_schema = \"true\"\n",
    "header = \"true\"\n",
    "delimeter = \",\"\n",
    "\n",
    "# creating a csv file\n",
    "\n",
    "csv_df = (\n",
    "    spark.read.format(file_type)\n",
    "    .option(\"header\", header)\n",
    "    .option(\"inferSchema\", infer_schema)\n",
    "    .option(\"sep\", delimeter)\n",
    "    .load(file_location)\n",
    ")\n",
    "\n",
    "csv_df.limit(10).display()\n",
    "csv_df.printSchema()"
   ]
  },
  {
   "cell_type": "markdown",
   "metadata": {
    "application/vnd.databricks.v1+cell": {
     "cellMetadata": {},
     "inputWidgets": {},
     "nuid": "f40d86f3-eaf6-43c7-afd3-7070b3d9e19f",
     "showTitle": false,
     "title": ""
    }
   },
   "source": [
    "If we want to see how originally the csv file has been stored means we have to use the text file format and load the csv file."
   ]
  },
  {
   "cell_type": "code",
   "execution_count": 0,
   "metadata": {
    "application/vnd.databricks.v1+cell": {
     "cellMetadata": {
      "byteLimit": 2048000,
      "rowLimit": 10000
     },
     "inputWidgets": {},
     "nuid": "94ce0087-1228-42e4-aa8e-80dd719a2696",
     "showTitle": false,
     "title": ""
    }
   },
   "outputs": [
    {
     "output_type": "display_data",
     "data": {
      "text/html": [
       "<style scoped>\n",
       "  .table-result-container {\n",
       "    max-height: 300px;\n",
       "    overflow: auto;\n",
       "  }\n",
       "  table, th, td {\n",
       "    border: 1px solid black;\n",
       "    border-collapse: collapse;\n",
       "  }\n",
       "  th, td {\n",
       "    padding: 5px;\n",
       "  }\n",
       "  th {\n",
       "    text-align: left;\n",
       "  }\n",
       "</style><div class='table-result-container'><table class='table-result'><thead style='background-color: white'><tr><th>value</th></tr></thead><tbody><tr><td>date,state,county,fips,cases,deaths</td></tr><tr><td>21-01-2020,Washington,Snohomish,53061,1,0</td></tr><tr><td>22-01-2020,Washington,Snohomish,53061,1,0</td></tr><tr><td>23-01-2020,Washington,Snohomish,53061,1,0</td></tr><tr><td>24-01-2020,Illinois,Cook,17031,1,0</td></tr><tr><td>24-01-2020,Washington,Snohomish,53061,1,0</td></tr><tr><td>25-01-2020,California,Orange,6059,1,0</td></tr><tr><td>25-01-2020,Illinois,Cook,17031,1,0</td></tr><tr><td>25-01-2020,Washington,Snohomish,53061,1,0</td></tr><tr><td>26-01-2020,Arizona,Maricopa,4013,1,0</td></tr></tbody></table></div>"
      ]
     },
     "metadata": {
      "application/vnd.databricks.v1+output": {
       "addedWidgets": {},
       "aggData": [],
       "aggError": "",
       "aggOverflow": false,
       "aggSchema": [],
       "aggSeriesLimitReached": false,
       "aggType": "",
       "arguments": {},
       "columnCustomDisplayInfos": {},
       "data": [
        [
         "date,state,county,fips,cases,deaths"
        ],
        [
         "21-01-2020,Washington,Snohomish,53061,1,0"
        ],
        [
         "22-01-2020,Washington,Snohomish,53061,1,0"
        ],
        [
         "23-01-2020,Washington,Snohomish,53061,1,0"
        ],
        [
         "24-01-2020,Illinois,Cook,17031,1,0"
        ],
        [
         "24-01-2020,Washington,Snohomish,53061,1,0"
        ],
        [
         "25-01-2020,California,Orange,6059,1,0"
        ],
        [
         "25-01-2020,Illinois,Cook,17031,1,0"
        ],
        [
         "25-01-2020,Washington,Snohomish,53061,1,0"
        ],
        [
         "26-01-2020,Arizona,Maricopa,4013,1,0"
        ]
       ],
       "datasetInfos": [],
       "dbfsResultPath": null,
       "isJsonSchema": true,
       "metadata": {},
       "overflow": false,
       "plotOptions": {
        "customPlotOptions": {},
        "displayType": "table",
        "pivotAggregation": null,
        "pivotColumns": null,
        "xColumns": null,
        "yColumns": null
       },
       "removedWidgets": [],
       "schema": [
        {
         "metadata": "{}",
         "name": "value",
         "type": "\"string\""
        }
       ],
       "type": "table"
      }
     },
     "output_type": "display_data"
    }
   ],
   "source": [
    "text_df = spark.read.format(\"text\").load(\"/FileStore/tables/us_counties.csv\")\n",
    "text_df.limit(10).display(10)"
   ]
  },
  {
   "cell_type": "markdown",
   "metadata": {
    "application/vnd.databricks.v1+cell": {
     "cellMetadata": {},
     "inputWidgets": {},
     "nuid": "0c7eabff-a741-4fdb-ad5f-3777a93d21d9",
     "showTitle": false,
     "title": ""
    }
   },
   "source": [
    "###*CSV FILE FORMAT (WRITE)*\n",
    "Using the write() method we can write a file in different location.\n",
    "\n",
    "Saving modes available in write() method:\n",
    "\n",
    "-> append   : Append contents of this DataFrame to existing data.\n",
    "\n",
    "-> overwrite: Overwrite existing data.\n",
    "\n",
    "-> ignore   : ignore this operation if data already exists.\n",
    "\n",
    "-> error    : Throw an exception if data already \\exists.\n"
   ]
  },
  {
   "cell_type": "code",
   "execution_count": 0,
   "metadata": {
    "application/vnd.databricks.v1+cell": {
     "cellMetadata": {
      "byteLimit": 2048000,
      "rowLimit": 10000
     },
     "inputWidgets": {},
     "nuid": "9518b53d-ff47-4201-a440-2f6974b8aabf",
     "showTitle": false,
     "title": ""
    }
   },
   "outputs": [],
   "source": [
    "csv_df.write.csv(path=\"/mnt/FileStore\", header=\"true\", mode=\"overwrite\")"
   ]
  },
  {
   "cell_type": "code",
   "execution_count": 0,
   "metadata": {
    "application/vnd.databricks.v1+cell": {
     "cellMetadata": {
      "byteLimit": 2048000,
      "rowLimit": 10000
     },
     "inputWidgets": {},
     "nuid": "da30e02a-a5f3-4efa-bf68-c027f317ef82",
     "showTitle": false,
     "title": ""
    }
   },
   "outputs": [
    {
     "output_type": "display_data",
     "data": {
      "text/html": [
       "<style scoped>\n",
       "  .table-result-container {\n",
       "    max-height: 300px;\n",
       "    overflow: auto;\n",
       "  }\n",
       "  table, th, td {\n",
       "    border: 1px solid black;\n",
       "    border-collapse: collapse;\n",
       "  }\n",
       "  th, td {\n",
       "    padding: 5px;\n",
       "  }\n",
       "  th {\n",
       "    text-align: left;\n",
       "  }\n",
       "</style><div class='table-result-container'><table class='table-result'><thead style='background-color: white'><tr><th>date</th><th>state</th><th>county</th><th>fips</th><th>cases</th><th>deaths</th></tr></thead><tbody><tr><td>2020-01-21</td><td>Washington</td><td>Snohomish</td><td>53061</td><td>1</td><td>0</td></tr><tr><td>2020-01-22</td><td>Washington</td><td>Snohomish</td><td>53061</td><td>1</td><td>0</td></tr><tr><td>2020-01-23</td><td>Washington</td><td>Snohomish</td><td>53061</td><td>1</td><td>0</td></tr><tr><td>2020-01-24</td><td>Illinois</td><td>Cook</td><td>17031</td><td>1</td><td>0</td></tr><tr><td>2020-01-24</td><td>Washington</td><td>Snohomish</td><td>53061</td><td>1</td><td>0</td></tr><tr><td>2020-01-25</td><td>California</td><td>Orange</td><td>6059</td><td>1</td><td>0</td></tr><tr><td>2020-01-25</td><td>Illinois</td><td>Cook</td><td>17031</td><td>1</td><td>0</td></tr><tr><td>2020-01-25</td><td>Washington</td><td>Snohomish</td><td>53061</td><td>1</td><td>0</td></tr><tr><td>2020-01-26</td><td>Arizona</td><td>Maricopa</td><td>4013</td><td>1</td><td>0</td></tr><tr><td>2020-01-26</td><td>California</td><td>Los Angeles</td><td>6037</td><td>1</td><td>0</td></tr></tbody></table></div>"
      ]
     },
     "metadata": {
      "application/vnd.databricks.v1+output": {
       "addedWidgets": {},
       "aggData": [],
       "aggError": "",
       "aggOverflow": false,
       "aggSchema": [],
       "aggSeriesLimitReached": false,
       "aggType": "",
       "arguments": {},
       "columnCustomDisplayInfos": {},
       "data": [
        [
         "2020-01-21",
         "Washington",
         "Snohomish",
         53061,
         1,
         0
        ],
        [
         "2020-01-22",
         "Washington",
         "Snohomish",
         53061,
         1,
         0
        ],
        [
         "2020-01-23",
         "Washington",
         "Snohomish",
         53061,
         1,
         0
        ],
        [
         "2020-01-24",
         "Illinois",
         "Cook",
         17031,
         1,
         0
        ],
        [
         "2020-01-24",
         "Washington",
         "Snohomish",
         53061,
         1,
         0
        ],
        [
         "2020-01-25",
         "California",
         "Orange",
         6059,
         1,
         0
        ],
        [
         "2020-01-25",
         "Illinois",
         "Cook",
         17031,
         1,
         0
        ],
        [
         "2020-01-25",
         "Washington",
         "Snohomish",
         53061,
         1,
         0
        ],
        [
         "2020-01-26",
         "Arizona",
         "Maricopa",
         4013,
         1,
         0
        ],
        [
         "2020-01-26",
         "California",
         "Los Angeles",
         6037,
         1,
         0
        ]
       ],
       "datasetInfos": [],
       "dbfsResultPath": null,
       "isJsonSchema": true,
       "metadata": {},
       "overflow": false,
       "plotOptions": {
        "customPlotOptions": {},
        "displayType": "table",
        "pivotAggregation": null,
        "pivotColumns": null,
        "xColumns": null,
        "yColumns": null
       },
       "removedWidgets": [],
       "schema": [
        {
         "metadata": "{\"__detected_date_formats\":\"yyyy-M-d\"}",
         "name": "date",
         "type": "\"date\""
        },
        {
         "metadata": "{}",
         "name": "state",
         "type": "\"string\""
        },
        {
         "metadata": "{}",
         "name": "county",
         "type": "\"string\""
        },
        {
         "metadata": "{}",
         "name": "fips",
         "type": "\"integer\""
        },
        {
         "metadata": "{}",
         "name": "cases",
         "type": "\"integer\""
        },
        {
         "metadata": "{}",
         "name": "deaths",
         "type": "\"integer\""
        }
       ],
       "type": "table"
      }
     },
     "output_type": "display_data"
    }
   ],
   "source": [
    "df1 = (\n",
    "    spark.read.format(file_type)\n",
    "    .option(\"header\", header)\n",
    "    .option(\"inferSchema\", infer_schema)\n",
    "    .option(\"sep\", delimeter)\n",
    "    .load(\"/mnt/FileStore\")\n",
    ")\n",
    "\n",
    "df1.limit(10).display()"
   ]
  },
  {
   "cell_type": "markdown",
   "metadata": {
    "application/vnd.databricks.v1+cell": {
     "cellMetadata": {},
     "inputWidgets": {},
     "nuid": "1ffe12f2-52ab-4352-9249-5cfaff179b1e",
     "showTitle": false,
     "title": ""
    }
   },
   "source": [
    "###*JSON FILE FORMAT* \n",
    "JavaScript Object Notation (JSON) is a standard text-based format for representing structured data based on JavaScript object syntax. It is commonly used for transmitting data in web applications (e.g., sending some data from the server to the client, so it can be displayed on a web page, or vice versa)."
   ]
  },
  {
   "cell_type": "code",
   "execution_count": 0,
   "metadata": {
    "application/vnd.databricks.v1+cell": {
     "cellMetadata": {
      "byteLimit": 2048000,
      "rowLimit": 10000
     },
     "inputWidgets": {},
     "nuid": "c74b3a7f-13cc-4dfe-a265-ffc78606fdeb",
     "showTitle": false,
     "title": ""
    }
   },
   "outputs": [
    {
     "output_type": "display_data",
     "data": {
      "text/html": [
       "<style scoped>\n",
       "  .table-result-container {\n",
       "    max-height: 300px;\n",
       "    overflow: auto;\n",
       "  }\n",
       "  table, th, td {\n",
       "    border: 1px solid black;\n",
       "    border-collapse: collapse;\n",
       "  }\n",
       "  th, td {\n",
       "    padding: 5px;\n",
       "  }\n",
       "  th {\n",
       "    text-align: left;\n",
       "  }\n",
       "</style><div class='table-result-container'><table class='table-result'><thead style='background-color: white'><tr><th>code</th><th>name</th><th>rank</th></tr></thead><tbody><tr><td>US</td><td>United States</td><td>1</td></tr><tr><td>CA</td><td>Canada</td><td>10</td></tr><tr><td>GB</td><td>United Kingdom</td><td>6</td></tr><tr><td>AU</td><td>Australia</td><td>13</td></tr><tr><td>DE</td><td>Germany</td><td>4</td></tr><tr><td>BR</td><td>Brazil</td><td>null</td></tr><tr><td>IT</td><td>Italy</td><td>null</td></tr><tr><td>NL</td><td>Netherlands</td><td>19</td></tr><tr><td>SE</td><td>Sweden</td><td>14</td></tr><tr><td>NO</td><td>Norway</td><td>9</td></tr><tr><td>CH</td><td>Switzerland</td><td>11</td></tr><tr><td>AE</td><td>United Arab Emirates</td><td>22</td></tr><tr><td>GR</td><td>Greece</td><td>28</td></tr></tbody></table></div>"
      ]
     },
     "metadata": {
      "application/vnd.databricks.v1+output": {
       "addedWidgets": {},
       "aggData": [],
       "aggError": "",
       "aggOverflow": false,
       "aggSchema": [],
       "aggSeriesLimitReached": false,
       "aggType": "",
       "arguments": {},
       "columnCustomDisplayInfos": {},
       "data": [
        [
         "US",
         "United States",
         1
        ],
        [
         "CA",
         "Canada",
         10
        ],
        [
         "GB",
         "United Kingdom",
         6
        ],
        [
         "AU",
         "Australia",
         13
        ],
        [
         "DE",
         "Germany",
         4
        ],
        [
         "BR",
         "Brazil",
         null
        ],
        [
         "IT",
         "Italy",
         null
        ],
        [
         "NL",
         "Netherlands",
         19
        ],
        [
         "SE",
         "Sweden",
         14
        ],
        [
         "NO",
         "Norway",
         9
        ],
        [
         "CH",
         "Switzerland",
         11
        ],
        [
         "AE",
         "United Arab Emirates",
         22
        ],
        [
         "GR",
         "Greece",
         28
        ]
       ],
       "datasetInfos": [],
       "dbfsResultPath": null,
       "isJsonSchema": true,
       "metadata": {},
       "overflow": false,
       "plotOptions": {
        "customPlotOptions": {},
        "displayType": "table",
        "pivotAggregation": null,
        "pivotColumns": null,
        "xColumns": null,
        "yColumns": null
       },
       "removedWidgets": [],
       "schema": [
        {
         "metadata": "{}",
         "name": "code",
         "type": "\"string\""
        },
        {
         "metadata": "{}",
         "name": "name",
         "type": "\"string\""
        },
        {
         "metadata": "{}",
         "name": "rank",
         "type": "\"long\""
        }
       ],
       "type": "table"
      }
     },
     "output_type": "display_data"
    }
   ],
   "source": [
    "json_df = spark.read.json(\"/FileStore/tables/test_file-1.json\", multiLine=True)\n",
    "display(json_df)"
   ]
  },
  {
   "cell_type": "markdown",
   "metadata": {
    "application/vnd.databricks.v1+cell": {
     "cellMetadata": {},
     "inputWidgets": {},
     "nuid": "3d21df8f-baa1-4a33-823d-3050aa801d6e",
     "showTitle": false,
     "title": ""
    }
   },
   "source": [
    "To view the original JSON file load the data using text format ."
   ]
  },
  {
   "cell_type": "code",
   "execution_count": 0,
   "metadata": {
    "application/vnd.databricks.v1+cell": {
     "cellMetadata": {
      "byteLimit": 2048000,
      "rowLimit": 10000
     },
     "inputWidgets": {},
     "nuid": "be2d2f28-e095-4fcf-a6c3-61a63d9c922f",
     "showTitle": false,
     "title": ""
    }
   },
   "outputs": [
    {
     "output_type": "display_data",
     "data": {
      "text/html": [
       "<style scoped>\n",
       "  .table-result-container {\n",
       "    max-height: 300px;\n",
       "    overflow: auto;\n",
       "  }\n",
       "  table, th, td {\n",
       "    border: 1px solid black;\n",
       "    border-collapse: collapse;\n",
       "  }\n",
       "  th, td {\n",
       "    padding: 5px;\n",
       "  }\n",
       "  th {\n",
       "    text-align: left;\n",
       "  }\n",
       "</style><div class='table-result-container'><table class='table-result'><thead style='background-color: white'><tr><th>value</th></tr></thead><tbody><tr><td>[</td></tr><tr><td>    {</td></tr><tr><td>      \"name\": \"United States\",</td></tr><tr><td>      \"code\": \"US\",</td></tr><tr><td>      \"rank\": 1</td></tr><tr><td>    },</td></tr><tr><td>    {</td></tr><tr><td>      \"name\": \"Canada\",</td></tr><tr><td>      \"code\": \"CA\",</td></tr><tr><td>      \"rank\": 10</td></tr></tbody></table></div>"
      ]
     },
     "metadata": {
      "application/vnd.databricks.v1+output": {
       "addedWidgets": {},
       "aggData": [],
       "aggError": "",
       "aggOverflow": false,
       "aggSchema": [],
       "aggSeriesLimitReached": false,
       "aggType": "",
       "arguments": {},
       "columnCustomDisplayInfos": {},
       "data": [
        [
         "["
        ],
        [
         "    {"
        ],
        [
         "      \"name\": \"United States\","
        ],
        [
         "      \"code\": \"US\","
        ],
        [
         "      \"rank\": 1"
        ],
        [
         "    },"
        ],
        [
         "    {"
        ],
        [
         "      \"name\": \"Canada\","
        ],
        [
         "      \"code\": \"CA\","
        ],
        [
         "      \"rank\": 10"
        ]
       ],
       "datasetInfos": [],
       "dbfsResultPath": null,
       "isJsonSchema": true,
       "metadata": {},
       "overflow": false,
       "plotOptions": {
        "customPlotOptions": {},
        "displayType": "table",
        "pivotAggregation": null,
        "pivotColumns": null,
        "xColumns": null,
        "yColumns": null
       },
       "removedWidgets": [],
       "schema": [
        {
         "metadata": "{}",
         "name": "value",
         "type": "\"string\""
        }
       ],
       "type": "table"
      }
     },
     "output_type": "display_data"
    }
   ],
   "source": [
    "json_df = spark.read.text(\"/FileStore/tables/test_file-1.json\")\n",
    "json_df.limit(10).display()"
   ]
  },
  {
   "cell_type": "markdown",
   "metadata": {
    "application/vnd.databricks.v1+cell": {
     "cellMetadata": {},
     "inputWidgets": {},
     "nuid": "00fa031d-e11d-4ec5-8926-36da1b3e1a20",
     "showTitle": false,
     "title": ""
    }
   },
   "source": [
    "###*PARQUET FILE FORMAT* \n",
    "Parquet is an open source, column-oriented data file format designed for efficient data storage and retrieval. It provides efficient data compression and encoding schemes with enhanced performance to handle complex data in bulk"
   ]
  },
  {
   "cell_type": "code",
   "execution_count": 0,
   "metadata": {
    "application/vnd.databricks.v1+cell": {
     "cellMetadata": {
      "byteLimit": 2048000,
      "rowLimit": 10000
     },
     "inputWidgets": {},
     "nuid": "9ef1d9d7-6e22-4098-8b12-0a05621d11ff",
     "showTitle": false,
     "title": ""
    }
   },
   "outputs": [
    {
     "output_type": "display_data",
     "data": {
      "text/html": [
       "<style scoped>\n",
       "  .table-result-container {\n",
       "    max-height: 300px;\n",
       "    overflow: auto;\n",
       "  }\n",
       "  table, th, td {\n",
       "    border: 1px solid black;\n",
       "    border-collapse: collapse;\n",
       "  }\n",
       "  th, td {\n",
       "    padding: 5px;\n",
       "  }\n",
       "  th {\n",
       "    text-align: left;\n",
       "  }\n",
       "</style><div class='table-result-container'><table class='table-result'><thead style='background-color: white'><tr><th>PassengerId</th><th>Survived</th><th>Pclass</th><th>Name</th><th>Sex</th><th>Age</th><th>SibSp</th><th>Parch</th><th>Ticket</th><th>Fare</th><th>Cabin</th><th>Embarked</th></tr></thead><tbody><tr><td>1</td><td>0</td><td>3</td><td>Braund, Mr. Owen Harris</td><td>male</td><td>22.0</td><td>1</td><td>0</td><td>A/5 21171</td><td>7.25</td><td>null</td><td>S</td></tr><tr><td>2</td><td>1</td><td>1</td><td>Cumings, Mrs. John Bradley (Florence Briggs Thayer)</td><td>female</td><td>38.0</td><td>1</td><td>0</td><td>PC 17599</td><td>71.2833</td><td>C85</td><td>C</td></tr><tr><td>3</td><td>1</td><td>3</td><td>Heikkinen, Miss. Laina</td><td>female</td><td>26.0</td><td>0</td><td>0</td><td>STON/O2. 3101282</td><td>7.925</td><td>null</td><td>S</td></tr><tr><td>4</td><td>1</td><td>1</td><td>Futrelle, Mrs. Jacques Heath (Lily May Peel)</td><td>female</td><td>35.0</td><td>1</td><td>0</td><td>113803</td><td>53.1</td><td>C123</td><td>S</td></tr><tr><td>5</td><td>0</td><td>3</td><td>Allen, Mr. William Henry</td><td>male</td><td>35.0</td><td>0</td><td>0</td><td>373450</td><td>8.05</td><td>null</td><td>S</td></tr><tr><td>6</td><td>0</td><td>3</td><td>Moran, Mr. James</td><td>male</td><td>null</td><td>0</td><td>0</td><td>330877</td><td>8.4583</td><td>null</td><td>Q</td></tr><tr><td>7</td><td>0</td><td>1</td><td>McCarthy, Mr. Timothy J</td><td>male</td><td>54.0</td><td>0</td><td>0</td><td>17463</td><td>51.8625</td><td>E46</td><td>S</td></tr><tr><td>8</td><td>0</td><td>3</td><td>Palsson, Master. Gosta Leonard</td><td>male</td><td>2.0</td><td>3</td><td>1</td><td>349909</td><td>21.075</td><td>null</td><td>S</td></tr><tr><td>9</td><td>1</td><td>3</td><td>Johnson, Mrs. Oscar W (Elisabeth Vilhelmina Berg)</td><td>female</td><td>27.0</td><td>0</td><td>2</td><td>347742</td><td>11.1333</td><td>null</td><td>S</td></tr><tr><td>10</td><td>1</td><td>2</td><td>Nasser, Mrs. Nicholas (Adele Achem)</td><td>female</td><td>14.0</td><td>1</td><td>0</td><td>237736</td><td>30.0708</td><td>null</td><td>C</td></tr></tbody></table></div>"
      ]
     },
     "metadata": {
      "application/vnd.databricks.v1+output": {
       "addedWidgets": {},
       "aggData": [],
       "aggError": "",
       "aggOverflow": false,
       "aggSchema": [],
       "aggSeriesLimitReached": false,
       "aggType": "",
       "arguments": {},
       "columnCustomDisplayInfos": {},
       "data": [
        [
         1,
         0,
         3,
         "Braund, Mr. Owen Harris",
         "male",
         22.0,
         1,
         0,
         "A/5 21171",
         7.25,
         null,
         "S"
        ],
        [
         2,
         1,
         1,
         "Cumings, Mrs. John Bradley (Florence Briggs Thayer)",
         "female",
         38.0,
         1,
         0,
         "PC 17599",
         71.2833,
         "C85",
         "C"
        ],
        [
         3,
         1,
         3,
         "Heikkinen, Miss. Laina",
         "female",
         26.0,
         0,
         0,
         "STON/O2. 3101282",
         7.925,
         null,
         "S"
        ],
        [
         4,
         1,
         1,
         "Futrelle, Mrs. Jacques Heath (Lily May Peel)",
         "female",
         35.0,
         1,
         0,
         "113803",
         53.1,
         "C123",
         "S"
        ],
        [
         5,
         0,
         3,
         "Allen, Mr. William Henry",
         "male",
         35.0,
         0,
         0,
         "373450",
         8.05,
         null,
         "S"
        ],
        [
         6,
         0,
         3,
         "Moran, Mr. James",
         "male",
         null,
         0,
         0,
         "330877",
         8.4583,
         null,
         "Q"
        ],
        [
         7,
         0,
         1,
         "McCarthy, Mr. Timothy J",
         "male",
         54.0,
         0,
         0,
         "17463",
         51.8625,
         "E46",
         "S"
        ],
        [
         8,
         0,
         3,
         "Palsson, Master. Gosta Leonard",
         "male",
         2.0,
         3,
         1,
         "349909",
         21.075,
         null,
         "S"
        ],
        [
         9,
         1,
         3,
         "Johnson, Mrs. Oscar W (Elisabeth Vilhelmina Berg)",
         "female",
         27.0,
         0,
         2,
         "347742",
         11.1333,
         null,
         "S"
        ],
        [
         10,
         1,
         2,
         "Nasser, Mrs. Nicholas (Adele Achem)",
         "female",
         14.0,
         1,
         0,
         "237736",
         30.0708,
         null,
         "C"
        ]
       ],
       "datasetInfos": [],
       "dbfsResultPath": null,
       "isJsonSchema": true,
       "metadata": {},
       "overflow": false,
       "plotOptions": {
        "customPlotOptions": {},
        "displayType": "table",
        "pivotAggregation": null,
        "pivotColumns": null,
        "xColumns": null,
        "yColumns": null
       },
       "removedWidgets": [],
       "schema": [
        {
         "metadata": "{}",
         "name": "PassengerId",
         "type": "\"long\""
        },
        {
         "metadata": "{}",
         "name": "Survived",
         "type": "\"long\""
        },
        {
         "metadata": "{}",
         "name": "Pclass",
         "type": "\"long\""
        },
        {
         "metadata": "{}",
         "name": "Name",
         "type": "\"string\""
        },
        {
         "metadata": "{}",
         "name": "Sex",
         "type": "\"string\""
        },
        {
         "metadata": "{}",
         "name": "Age",
         "type": "\"double\""
        },
        {
         "metadata": "{}",
         "name": "SibSp",
         "type": "\"long\""
        },
        {
         "metadata": "{}",
         "name": "Parch",
         "type": "\"long\""
        },
        {
         "metadata": "{}",
         "name": "Ticket",
         "type": "\"string\""
        },
        {
         "metadata": "{}",
         "name": "Fare",
         "type": "\"double\""
        },
        {
         "metadata": "{}",
         "name": "Cabin",
         "type": "\"string\""
        },
        {
         "metadata": "{}",
         "name": "Embarked",
         "type": "\"string\""
        }
       ],
       "type": "table"
      }
     },
     "output_type": "display_data"
    }
   ],
   "source": [
    "parquet_df = spark.read.format(\"parquet\").load(\"/FileStore/tables/Titanic.parquet\")\n",
    "parquet_df.limit(10).display()"
   ]
  },
  {
   "cell_type": "code",
   "execution_count": 0,
   "metadata": {
    "application/vnd.databricks.v1+cell": {
     "cellMetadata": {},
     "inputWidgets": {},
     "nuid": "827dad30-f234-4fb2-925e-4531d643ce85",
     "showTitle": false,
     "title": ""
    }
   },
   "outputs": [],
   "source": [
    "csv_df.write.parquet(path='/mnt/FileStore/sample')"
   ]
  },
  {
   "cell_type": "code",
   "execution_count": 0,
   "metadata": {
    "application/vnd.databricks.v1+cell": {
     "cellMetadata": {
      "byteLimit": 2048000,
      "rowLimit": 10000
     },
     "inputWidgets": {},
     "nuid": "4e16da01-6955-45ee-a047-1cb5f57bbce3",
     "showTitle": false,
     "title": ""
    }
   },
   "outputs": [
    {
     "output_type": "display_data",
     "data": {
      "text/html": [
       "<style scoped>\n",
       "  .table-result-container {\n",
       "    max-height: 300px;\n",
       "    overflow: auto;\n",
       "  }\n",
       "  table, th, td {\n",
       "    border: 1px solid black;\n",
       "    border-collapse: collapse;\n",
       "  }\n",
       "  th, td {\n",
       "    padding: 5px;\n",
       "  }\n",
       "  th {\n",
       "    text-align: left;\n",
       "  }\n",
       "</style><div class='table-result-container'><table class='table-result'><thead style='background-color: white'><tr><th>date</th><th>state</th><th>county</th><th>fips</th><th>cases</th><th>deaths</th></tr></thead><tbody><tr><td>2020-01-21</td><td>Washington</td><td>Snohomish</td><td>53061</td><td>1</td><td>0</td></tr><tr><td>2020-01-22</td><td>Washington</td><td>Snohomish</td><td>53061</td><td>1</td><td>0</td></tr><tr><td>2020-01-23</td><td>Washington</td><td>Snohomish</td><td>53061</td><td>1</td><td>0</td></tr><tr><td>2020-01-24</td><td>Illinois</td><td>Cook</td><td>17031</td><td>1</td><td>0</td></tr><tr><td>2020-01-24</td><td>Washington</td><td>Snohomish</td><td>53061</td><td>1</td><td>0</td></tr><tr><td>2020-01-25</td><td>California</td><td>Orange</td><td>6059</td><td>1</td><td>0</td></tr><tr><td>2020-01-25</td><td>Illinois</td><td>Cook</td><td>17031</td><td>1</td><td>0</td></tr><tr><td>2020-01-25</td><td>Washington</td><td>Snohomish</td><td>53061</td><td>1</td><td>0</td></tr><tr><td>2020-01-26</td><td>Arizona</td><td>Maricopa</td><td>4013</td><td>1</td><td>0</td></tr><tr><td>2020-01-26</td><td>California</td><td>Los Angeles</td><td>6037</td><td>1</td><td>0</td></tr></tbody></table></div>"
      ]
     },
     "metadata": {
      "application/vnd.databricks.v1+output": {
       "addedWidgets": {},
       "aggData": [],
       "aggError": "",
       "aggOverflow": false,
       "aggSchema": [],
       "aggSeriesLimitReached": false,
       "aggType": "",
       "arguments": {},
       "columnCustomDisplayInfos": {},
       "data": [
        [
         "2020-01-21",
         "Washington",
         "Snohomish",
         53061,
         1,
         0
        ],
        [
         "2020-01-22",
         "Washington",
         "Snohomish",
         53061,
         1,
         0
        ],
        [
         "2020-01-23",
         "Washington",
         "Snohomish",
         53061,
         1,
         0
        ],
        [
         "2020-01-24",
         "Illinois",
         "Cook",
         17031,
         1,
         0
        ],
        [
         "2020-01-24",
         "Washington",
         "Snohomish",
         53061,
         1,
         0
        ],
        [
         "2020-01-25",
         "California",
         "Orange",
         6059,
         1,
         0
        ],
        [
         "2020-01-25",
         "Illinois",
         "Cook",
         17031,
         1,
         0
        ],
        [
         "2020-01-25",
         "Washington",
         "Snohomish",
         53061,
         1,
         0
        ],
        [
         "2020-01-26",
         "Arizona",
         "Maricopa",
         4013,
         1,
         0
        ],
        [
         "2020-01-26",
         "California",
         "Los Angeles",
         6037,
         1,
         0
        ]
       ],
       "datasetInfos": [],
       "dbfsResultPath": null,
       "isJsonSchema": true,
       "metadata": {},
       "overflow": false,
       "plotOptions": {
        "customPlotOptions": {},
        "displayType": "table",
        "pivotAggregation": null,
        "pivotColumns": null,
        "xColumns": null,
        "yColumns": null
       },
       "removedWidgets": [],
       "schema": [
        {
         "metadata": "{\"__detected_date_formats\":\"d-M-yyyy\"}",
         "name": "date",
         "type": "\"date\""
        },
        {
         "metadata": "{}",
         "name": "state",
         "type": "\"string\""
        },
        {
         "metadata": "{}",
         "name": "county",
         "type": "\"string\""
        },
        {
         "metadata": "{}",
         "name": "fips",
         "type": "\"integer\""
        },
        {
         "metadata": "{}",
         "name": "cases",
         "type": "\"integer\""
        },
        {
         "metadata": "{}",
         "name": "deaths",
         "type": "\"integer\""
        }
       ],
       "type": "table"
      }
     },
     "output_type": "display_data"
    }
   ],
   "source": [
    "par = spark.read.format(\"parquet\").load(\"/mnt/FileStore/sample\")\n",
    "par.limit(10).display()"
   ]
  },
  {
   "cell_type": "markdown",
   "metadata": {
    "application/vnd.databricks.v1+cell": {
     "cellMetadata": {},
     "inputWidgets": {},
     "nuid": "d43b15c6-8b67-46e9-ab81-5967ce37b4ec",
     "showTitle": false,
     "title": ""
    }
   },
   "source": [
    "###*Avro File Format*\n",
    "Avro stores the data definition in JSON format making it easy to read and interpret; the data itself is stored in binary format making it compact and efficient. Avro files include markers that can be used to split large data sets into subsets suitable for Apache MapReduce processing."
   ]
  },
  {
   "cell_type": "code",
   "execution_count": 0,
   "metadata": {
    "application/vnd.databricks.v1+cell": {
     "cellMetadata": {
      "byteLimit": 2048000,
      "rowLimit": 10000
     },
     "inputWidgets": {},
     "nuid": "51e0066f-6c4e-4b4f-88e8-80017846ea17",
     "showTitle": false,
     "title": ""
    }
   },
   "outputs": [
    {
     "output_type": "display_data",
     "data": {
      "text/html": [
       "<style scoped>\n",
       "  .table-result-container {\n",
       "    max-height: 300px;\n",
       "    overflow: auto;\n",
       "  }\n",
       "  table, th, td {\n",
       "    border: 1px solid black;\n",
       "    border-collapse: collapse;\n",
       "  }\n",
       "  th, td {\n",
       "    padding: 5px;\n",
       "  }\n",
       "  th {\n",
       "    text-align: left;\n",
       "  }\n",
       "</style><div class='table-result-container'><table class='table-result'><thead style='background-color: white'><tr><th>username</th><th>tweet</th><th>timestamp</th></tr></thead><tbody><tr><td>miguno</td><td>Rock: Nerf paper, scissors is fine.</td><td>1366150681</td></tr><tr><td>BlizzardCS</td><td>Works as intended.  Terran is IMBA.</td><td>1366154481</td></tr></tbody></table></div>"
      ]
     },
     "metadata": {
      "application/vnd.databricks.v1+output": {
       "addedWidgets": {},
       "aggData": [],
       "aggError": "",
       "aggOverflow": false,
       "aggSchema": [],
       "aggSeriesLimitReached": false,
       "aggType": "",
       "arguments": {},
       "columnCustomDisplayInfos": {},
       "data": [
        [
         "miguno",
         "Rock: Nerf paper, scissors is fine.",
         1366150681
        ],
        [
         "BlizzardCS",
         "Works as intended.  Terran is IMBA.",
         1366154481
        ]
       ],
       "datasetInfos": [],
       "dbfsResultPath": null,
       "isJsonSchema": true,
       "metadata": {},
       "overflow": false,
       "plotOptions": {
        "customPlotOptions": {},
        "displayType": "table",
        "pivotAggregation": null,
        "pivotColumns": null,
        "xColumns": null,
        "yColumns": null
       },
       "removedWidgets": [],
       "schema": [
        {
         "metadata": "{}",
         "name": "username",
         "type": "\"string\""
        },
        {
         "metadata": "{}",
         "name": "tweet",
         "type": "\"string\""
        },
        {
         "metadata": "{}",
         "name": "timestamp",
         "type": "\"long\""
        }
       ],
       "type": "table"
      }
     },
     "output_type": "display_data"
    }
   ],
   "source": [
    "avro_df = spark.read.format(\"avro\").load(\"/FileStore/tables/twitter.avro\")\n",
    "display(avro_df)"
   ]
  },
  {
   "cell_type": "code",
   "execution_count": 0,
   "metadata": {
    "application/vnd.databricks.v1+cell": {
     "cellMetadata": {},
     "inputWidgets": {},
     "nuid": "4e11374f-65aa-41b7-a960-721447a3d36b",
     "showTitle": false,
     "title": ""
    }
   },
   "outputs": [],
   "source": []
  }
 ],
 "metadata": {
  "application/vnd.databricks.v1+notebook": {
   "dashboards": [],
   "language": "python",
   "notebookMetadata": {
    "mostRecentlyExecutedCommandWithImplicitDF": {
     "commandId": 3595661850587217,
     "dataframes": [
      "_sqldf"
     ]
    },
    "pythonIndentUnit": 2
   },
   "notebookName": "Read and Write Files",
   "widgets": {}
  }
 },
 "nbformat": 4,
 "nbformat_minor": 0
}
