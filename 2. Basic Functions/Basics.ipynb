{
 "cells": [
  {
   "cell_type": "markdown",
   "metadata": {
    "application/vnd.databricks.v1+cell": {
     "cellMetadata": {},
     "inputWidgets": {},
     "nuid": "a6bdf6db-9a52-4ca0-8eb3-b69dbb3bfa3c",
     "showTitle": false,
     "title": ""
    }
   },
   "source": [
    "### *Pyspark Dataframe Commonly Used Functions*\n",
    "Apache Spark is the most successful software of Apache Software Foundation and designed for fast computing. PySpark SQL is a module in Spark which integrates relational processing with Spark's functional programming API. We can extract the data by using an SQL query language. We can use the queries same as the SQL language."
   ]
  },
  {
   "cell_type": "code",
   "execution_count": 0,
   "metadata": {
    "application/vnd.databricks.v1+cell": {
     "cellMetadata": {
      "byteLimit": 2048000,
      "rowLimit": 10000
     },
     "inputWidgets": {},
     "nuid": "3369d946-89c5-4f91-859b-bd739e9c678b",
     "showTitle": false,
     "title": ""
    }
   },
   "outputs": [
    {
     "output_type": "display_data",
     "data": {
      "text/html": [
       "<style scoped>\n",
       "  .table-result-container {\n",
       "    max-height: 300px;\n",
       "    overflow: auto;\n",
       "  }\n",
       "  table, th, td {\n",
       "    border: 1px solid black;\n",
       "    border-collapse: collapse;\n",
       "  }\n",
       "  th, td {\n",
       "    padding: 5px;\n",
       "  }\n",
       "  th {\n",
       "    text-align: left;\n",
       "  }\n",
       "</style><div class='table-result-container'><table class='table-result'><thead style='background-color: white'><tr><th>Film</th><th>Year</th><th>Actor</th><th>Director</th><th>Box Office</th><th>Budget</th><th>Bond Actor Salary</th></tr></thead><tbody><tr><td>Dr. No</td><td>1962</td><td>Sean Connery</td><td>Terence Young</td><td>448.8</td><td>7.0</td><td>0.6</td></tr><tr><td>From Russia with Love</td><td>1963</td><td>Sean Connery</td><td>Terence Young</td><td>543.8</td><td>12.6</td><td>1.6</td></tr><tr><td>Goldfinger</td><td>1964</td><td>Sean Connery</td><td>Guy Hamilton</td><td>820.4</td><td>18.6</td><td>3.2</td></tr><tr><td>Thunderball</td><td>1965</td><td>Sean Connery</td><td>Terence Young</td><td>848.1</td><td>41.9</td><td>4.7</td></tr><tr><td>Casino Royale</td><td>1967</td><td>David Niven</td><td>Ken Hughes</td><td>315.0</td><td>85.0</td><td>null</td></tr><tr><td>You Only Live Twice</td><td>1967</td><td>Sean Connery</td><td>Lewis Gilbert</td><td>514.2</td><td>59.9</td><td>4.4</td></tr><tr><td>On Her Majesty's Secret Service</td><td>1969</td><td>George Lazenby</td><td>Peter R. Hunt</td><td>291.5</td><td>37.3</td><td>0.6</td></tr><tr><td>Diamonds Are Forever</td><td>1971</td><td>Sean Connery</td><td>Guy Hamilton</td><td>442.5</td><td>34.7</td><td>5.8</td></tr><tr><td>Live and Let Die</td><td>1973</td><td>Roger Moore</td><td>Guy Hamilton</td><td>460.3</td><td>30.8</td><td>null</td></tr><tr><td>The Man with the Golden Gun</td><td>1974</td><td>Roger Moore</td><td>Guy Hamilton</td><td>334.0</td><td>27.7</td><td>null</td></tr><tr><td>The Spy Who Loved Me</td><td>1977</td><td>Roger Moore</td><td>Lewis Gilbert</td><td>533.0</td><td>45.1</td><td>null</td></tr><tr><td>Moonraker</td><td>1979</td><td>Roger Moore</td><td>Lewis Gilbert</td><td>535.0</td><td>91.5</td><td>null</td></tr><tr><td>For Your Eyes Only</td><td>1981</td><td>Roger Moore</td><td>John Glen</td><td>449.4</td><td>60.2</td><td>null</td></tr><tr><td>Never Say Never Again</td><td>1983</td><td>Sean Connery</td><td>Irvin Kershner</td><td>380.0</td><td>86.0</td><td>null</td></tr><tr><td>Octopussy</td><td>1983</td><td>Roger Moore</td><td>John Glen</td><td>373.8</td><td>53.9</td><td>7.8</td></tr><tr><td>A View to a Kill</td><td>1985</td><td>Roger Moore</td><td>John Glen</td><td>275.2</td><td>54.5</td><td>9.1</td></tr><tr><td>The Living Daylights</td><td>1987</td><td>Timothy Dalton</td><td>John Glen</td><td>313.5</td><td>68.8</td><td>5.2</td></tr><tr><td>Licence to Kill</td><td>1989</td><td>Timothy Dalton</td><td>John Glen</td><td>250.9</td><td>56.7</td><td>7.9</td></tr><tr><td>GoldenEye</td><td>1995</td><td>Pierce Brosnan</td><td>Martin Campbell</td><td>518.5</td><td>76.9</td><td>5.1</td></tr><tr><td>Tomorrow Never Dies</td><td>1997</td><td>Pierce Brosnan</td><td>Roger Spottiswoode</td><td>463.2</td><td>133.9</td><td>10.0</td></tr><tr><td>The World Is Not Enough</td><td>1999</td><td>Pierce Brosnan</td><td>Michael Apted</td><td>439.5</td><td>158.3</td><td>13.5</td></tr><tr><td>Die Another Day</td><td>2002</td><td>Pierce Brosnan</td><td>Lee Tamahori</td><td>465.4</td><td>154.2</td><td>17.9</td></tr><tr><td>Casino Royale</td><td>2006</td><td>Daniel Craig</td><td>Martin Campbell</td><td>581.5</td><td>145.3</td><td>3.3</td></tr><tr><td>Quantum of Solace</td><td>2008</td><td>Daniel Craig</td><td>Marc Forster</td><td>514.2</td><td>181.4</td><td>8.1</td></tr><tr><td>Skyfall</td><td>2012</td><td>Daniel Craig</td><td>Sam Mendes</td><td>943.5</td><td>170.2</td><td>14.5</td></tr><tr><td>Spectre</td><td>2015</td><td>Daniel Craig</td><td>Sam Mendes</td><td>726.7</td><td>206.3</td><td>null</td></tr></tbody></table></div>"
      ]
     },
     "metadata": {
      "application/vnd.databricks.v1+output": {
       "addedWidgets": {},
       "aggData": [],
       "aggError": "",
       "aggOverflow": false,
       "aggSchema": [],
       "aggSeriesLimitReached": false,
       "aggType": "",
       "arguments": {},
       "columnCustomDisplayInfos": {},
       "data": [
        [
         "Dr. No",
         1962,
         "Sean Connery",
         "Terence Young",
         448.8,
         7.0,
         0.6
        ],
        [
         "From Russia with Love",
         1963,
         "Sean Connery",
         "Terence Young",
         543.8,
         12.6,
         1.6
        ],
        [
         "Goldfinger",
         1964,
         "Sean Connery",
         "Guy Hamilton",
         820.4,
         18.6,
         3.2
        ],
        [
         "Thunderball",
         1965,
         "Sean Connery",
         "Terence Young",
         848.1,
         41.9,
         4.7
        ],
        [
         "Casino Royale",
         1967,
         "David Niven",
         "Ken Hughes",
         315.0,
         85.0,
         null
        ],
        [
         "You Only Live Twice",
         1967,
         "Sean Connery",
         "Lewis Gilbert",
         514.2,
         59.9,
         4.4
        ],
        [
         "On Her Majesty's Secret Service",
         1969,
         "George Lazenby",
         "Peter R. Hunt",
         291.5,
         37.3,
         0.6
        ],
        [
         "Diamonds Are Forever",
         1971,
         "Sean Connery",
         "Guy Hamilton",
         442.5,
         34.7,
         5.8
        ],
        [
         "Live and Let Die",
         1973,
         "Roger Moore",
         "Guy Hamilton",
         460.3,
         30.8,
         null
        ],
        [
         "The Man with the Golden Gun",
         1974,
         "Roger Moore",
         "Guy Hamilton",
         334.0,
         27.7,
         null
        ],
        [
         "The Spy Who Loved Me",
         1977,
         "Roger Moore",
         "Lewis Gilbert",
         533.0,
         45.1,
         null
        ],
        [
         "Moonraker",
         1979,
         "Roger Moore",
         "Lewis Gilbert",
         535.0,
         91.5,
         null
        ],
        [
         "For Your Eyes Only",
         1981,
         "Roger Moore",
         "John Glen",
         449.4,
         60.2,
         null
        ],
        [
         "Never Say Never Again",
         1983,
         "Sean Connery",
         "Irvin Kershner",
         380.0,
         86.0,
         null
        ],
        [
         "Octopussy",
         1983,
         "Roger Moore",
         "John Glen",
         373.8,
         53.9,
         7.8
        ],
        [
         "A View to a Kill",
         1985,
         "Roger Moore",
         "John Glen",
         275.2,
         54.5,
         9.1
        ],
        [
         "The Living Daylights",
         1987,
         "Timothy Dalton",
         "John Glen",
         313.5,
         68.8,
         5.2
        ],
        [
         "Licence to Kill",
         1989,
         "Timothy Dalton",
         "John Glen",
         250.9,
         56.7,
         7.9
        ],
        [
         "GoldenEye",
         1995,
         "Pierce Brosnan",
         "Martin Campbell",
         518.5,
         76.9,
         5.1
        ],
        [
         "Tomorrow Never Dies",
         1997,
         "Pierce Brosnan",
         "Roger Spottiswoode",
         463.2,
         133.9,
         10.0
        ],
        [
         "The World Is Not Enough",
         1999,
         "Pierce Brosnan",
         "Michael Apted",
         439.5,
         158.3,
         13.5
        ],
        [
         "Die Another Day",
         2002,
         "Pierce Brosnan",
         "Lee Tamahori",
         465.4,
         154.2,
         17.9
        ],
        [
         "Casino Royale",
         2006,
         "Daniel Craig",
         "Martin Campbell",
         581.5,
         145.3,
         3.3
        ],
        [
         "Quantum of Solace",
         2008,
         "Daniel Craig",
         "Marc Forster",
         514.2,
         181.4,
         8.1
        ],
        [
         "Skyfall",
         2012,
         "Daniel Craig",
         "Sam Mendes",
         943.5,
         170.2,
         14.5
        ],
        [
         "Spectre",
         2015,
         "Daniel Craig",
         "Sam Mendes",
         726.7,
         206.3,
         null
        ]
       ],
       "datasetInfos": [],
       "dbfsResultPath": null,
       "isJsonSchema": true,
       "metadata": {},
       "overflow": false,
       "plotOptions": {
        "customPlotOptions": {},
        "displayType": "table",
        "pivotAggregation": null,
        "pivotColumns": null,
        "xColumns": null,
        "yColumns": null
       },
       "removedWidgets": [],
       "schema": [
        {
         "metadata": "{}",
         "name": "Film",
         "type": "\"string\""
        },
        {
         "metadata": "{}",
         "name": "Year",
         "type": "\"integer\""
        },
        {
         "metadata": "{}",
         "name": "Actor",
         "type": "\"string\""
        },
        {
         "metadata": "{}",
         "name": "Director",
         "type": "\"string\""
        },
        {
         "metadata": "{}",
         "name": "Box Office",
         "type": "\"double\""
        },
        {
         "metadata": "{}",
         "name": "Budget",
         "type": "\"double\""
        },
        {
         "metadata": "{}",
         "name": "Bond Actor Salary",
         "type": "\"double\""
        }
       ],
       "type": "table"
      }
     },
     "output_type": "display_data"
    }
   ],
   "source": [
    "df=spark.read.format(\"csv\").option(\"header\",True).option(\"inferschema\",True).option(\"delimeter\",',').load(\"/FileStore/tables/jamesbond.csv\")\n",
    "display(df)"
   ]
  },
  {
   "cell_type": "markdown",
   "metadata": {
    "application/vnd.databricks.v1+cell": {
     "cellMetadata": {},
     "inputWidgets": {},
     "nuid": "26e532bd-6bf4-41e9-9b1e-9e5b3c72c3b5",
     "showTitle": false,
     "title": ""
    }
   },
   "source": [
    "#### *printSchema()*\n",
    "DataFrame. printSchema() is used to print or display the schema of the DataFrame in the tree format along with column name and data type."
   ]
  },
  {
   "cell_type": "code",
   "execution_count": 0,
   "metadata": {
    "application/vnd.databricks.v1+cell": {
     "cellMetadata": {
      "byteLimit": 2048000,
      "rowLimit": 10000
     },
     "inputWidgets": {},
     "nuid": "10728a8d-f55f-4beb-b492-c45cef009da6",
     "showTitle": false,
     "title": ""
    }
   },
   "outputs": [
    {
     "output_type": "stream",
     "name": "stdout",
     "output_type": "stream",
     "text": [
      "root\n |-- Film: string (nullable = true)\n |-- Year: integer (nullable = true)\n |-- Actor: string (nullable = true)\n |-- Director: string (nullable = true)\n |-- Box Office: double (nullable = true)\n |-- Budget: double (nullable = true)\n |-- Bond Actor Salary: double (nullable = true)\n\n"
     ]
    }
   ],
   "source": [
    "df.printSchema()"
   ]
  },
  {
   "cell_type": "code",
   "execution_count": 0,
   "metadata": {
    "application/vnd.databricks.v1+cell": {
     "cellMetadata": {
      "byteLimit": 2048000,
      "rowLimit": 10000
     },
     "inputWidgets": {},
     "nuid": "18d62720-e767-433e-836a-2b2ef1172a0e",
     "showTitle": false,
     "title": ""
    }
   },
   "outputs": [
    {
     "output_type": "stream",
     "name": "stdout",
     "output_type": "stream",
     "text": [
      "Out[94]: 26"
     ]
    }
   ],
   "source": [
    "# df.count() will get the count of rows\n",
    "df.count()"
   ]
  },
  {
   "cell_type": "code",
   "execution_count": 0,
   "metadata": {
    "application/vnd.databricks.v1+cell": {
     "cellMetadata": {
      "byteLimit": 2048000,
      "rowLimit": 10000
     },
     "inputWidgets": {},
     "nuid": "d0e1d236-b55c-40d3-a137-576e92ac1340",
     "showTitle": false,
     "title": ""
    }
   },
   "outputs": [
    {
     "output_type": "stream",
     "name": "stdout",
     "output_type": "stream",
     "text": [
      "+--------------------+----+--------------+------------------+----------+------+-----------------+\n|                Film|Year|         Actor|          Director|Box Office|Budget|Bond Actor Salary|\n+--------------------+----+--------------+------------------+----------+------+-----------------+\n|              Dr. No|1962|  Sean Connery|     Terence Young|     448.8|   7.0|              0.6|\n|From Russia with ...|1963|  Sean Connery|     Terence Young|     543.8|  12.6|              1.6|\n|          Goldfinger|1964|  Sean Connery|      Guy Hamilton|     820.4|  18.6|              3.2|\n|         Thunderball|1965|  Sean Connery|     Terence Young|     848.1|  41.9|              4.7|\n|       Casino Royale|1967|   David Niven|        Ken Hughes|     315.0|  85.0|             null|\n| You Only Live Twice|1967|  Sean Connery|     Lewis Gilbert|     514.2|  59.9|              4.4|\n|On Her Majesty's ...|1969|George Lazenby|     Peter R. Hunt|     291.5|  37.3|              0.6|\n|Diamonds Are Forever|1971|  Sean Connery|      Guy Hamilton|     442.5|  34.7|              5.8|\n|    Live and Let Die|1973|   Roger Moore|      Guy Hamilton|     460.3|  30.8|             null|\n|The Man with the ...|1974|   Roger Moore|      Guy Hamilton|     334.0|  27.7|             null|\n|The Spy Who Loved Me|1977|   Roger Moore|     Lewis Gilbert|     533.0|  45.1|             null|\n|           Moonraker|1979|   Roger Moore|     Lewis Gilbert|     535.0|  91.5|             null|\n|  For Your Eyes Only|1981|   Roger Moore|         John Glen|     449.4|  60.2|             null|\n|Never Say Never A...|1983|  Sean Connery|    Irvin Kershner|     380.0|  86.0|             null|\n|           Octopussy|1983|   Roger Moore|         John Glen|     373.8|  53.9|              7.8|\n|    A View to a Kill|1985|   Roger Moore|         John Glen|     275.2|  54.5|              9.1|\n|The Living Daylights|1987|Timothy Dalton|         John Glen|     313.5|  68.8|              5.2|\n|     Licence to Kill|1989|Timothy Dalton|         John Glen|     250.9|  56.7|              7.9|\n|           GoldenEye|1995|Pierce Brosnan|   Martin Campbell|     518.5|  76.9|              5.1|\n| Tomorrow Never Dies|1997|Pierce Brosnan|Roger Spottiswoode|     463.2| 133.9|             10.0|\n+--------------------+----+--------------+------------------+----------+------+-----------------+\nonly showing top 20 rows\n\n"
     ]
    }
   ],
   "source": [
    "df.show()"
   ]
  },
  {
   "cell_type": "markdown",
   "metadata": {
    "application/vnd.databricks.v1+cell": {
     "cellMetadata": {},
     "inputWidgets": {},
     "nuid": "fb52f852-e090-4f36-ba6f-2582caa3cf82",
     "showTitle": false,
     "title": ""
    }
   },
   "source": [
    "#### *select()*\n",
    "In PySpark, select() function is used to select single, multiple, all columns from a DataFrame, PySpark select() is a transformation function hence it returns a new DataFrame with the selected columns."
   ]
  },
  {
   "cell_type": "code",
   "execution_count": 0,
   "metadata": {
    "application/vnd.databricks.v1+cell": {
     "cellMetadata": {
      "byteLimit": 2048000,
      "rowLimit": 10000
     },
     "inputWidgets": {},
     "nuid": "c768bd50-f156-4e64-8de6-ab83433f6968",
     "showTitle": false,
     "title": ""
    }
   },
   "outputs": [
    {
     "output_type": "display_data",
     "data": {
      "text/html": [
       "<style scoped>\n",
       "  .table-result-container {\n",
       "    max-height: 300px;\n",
       "    overflow: auto;\n",
       "  }\n",
       "  table, th, td {\n",
       "    border: 1px solid black;\n",
       "    border-collapse: collapse;\n",
       "  }\n",
       "  th, td {\n",
       "    padding: 5px;\n",
       "  }\n",
       "  th {\n",
       "    text-align: left;\n",
       "  }\n",
       "</style><div class='table-result-container'><table class='table-result'><thead style='background-color: white'><tr><th>Film</th><th>Year</th><th>Actor</th><th>Director</th><th>Box Office</th><th>Budget</th><th>Bond Actor Salary</th></tr></thead><tbody><tr><td>Dr. No</td><td>1962</td><td>Sean Connery</td><td>Terence Young</td><td>448.8</td><td>7.0</td><td>0.6</td></tr><tr><td>From Russia with Love</td><td>1963</td><td>Sean Connery</td><td>Terence Young</td><td>543.8</td><td>12.6</td><td>1.6</td></tr><tr><td>Goldfinger</td><td>1964</td><td>Sean Connery</td><td>Guy Hamilton</td><td>820.4</td><td>18.6</td><td>3.2</td></tr><tr><td>Thunderball</td><td>1965</td><td>Sean Connery</td><td>Terence Young</td><td>848.1</td><td>41.9</td><td>4.7</td></tr><tr><td>Casino Royale</td><td>1967</td><td>David Niven</td><td>Ken Hughes</td><td>315.0</td><td>85.0</td><td>null</td></tr><tr><td>You Only Live Twice</td><td>1967</td><td>Sean Connery</td><td>Lewis Gilbert</td><td>514.2</td><td>59.9</td><td>4.4</td></tr><tr><td>On Her Majesty's Secret Service</td><td>1969</td><td>George Lazenby</td><td>Peter R. Hunt</td><td>291.5</td><td>37.3</td><td>0.6</td></tr><tr><td>Diamonds Are Forever</td><td>1971</td><td>Sean Connery</td><td>Guy Hamilton</td><td>442.5</td><td>34.7</td><td>5.8</td></tr><tr><td>Live and Let Die</td><td>1973</td><td>Roger Moore</td><td>Guy Hamilton</td><td>460.3</td><td>30.8</td><td>null</td></tr><tr><td>The Man with the Golden Gun</td><td>1974</td><td>Roger Moore</td><td>Guy Hamilton</td><td>334.0</td><td>27.7</td><td>null</td></tr><tr><td>The Spy Who Loved Me</td><td>1977</td><td>Roger Moore</td><td>Lewis Gilbert</td><td>533.0</td><td>45.1</td><td>null</td></tr><tr><td>Moonraker</td><td>1979</td><td>Roger Moore</td><td>Lewis Gilbert</td><td>535.0</td><td>91.5</td><td>null</td></tr><tr><td>For Your Eyes Only</td><td>1981</td><td>Roger Moore</td><td>John Glen</td><td>449.4</td><td>60.2</td><td>null</td></tr><tr><td>Never Say Never Again</td><td>1983</td><td>Sean Connery</td><td>Irvin Kershner</td><td>380.0</td><td>86.0</td><td>null</td></tr><tr><td>Octopussy</td><td>1983</td><td>Roger Moore</td><td>John Glen</td><td>373.8</td><td>53.9</td><td>7.8</td></tr><tr><td>A View to a Kill</td><td>1985</td><td>Roger Moore</td><td>John Glen</td><td>275.2</td><td>54.5</td><td>9.1</td></tr><tr><td>The Living Daylights</td><td>1987</td><td>Timothy Dalton</td><td>John Glen</td><td>313.5</td><td>68.8</td><td>5.2</td></tr><tr><td>Licence to Kill</td><td>1989</td><td>Timothy Dalton</td><td>John Glen</td><td>250.9</td><td>56.7</td><td>7.9</td></tr><tr><td>GoldenEye</td><td>1995</td><td>Pierce Brosnan</td><td>Martin Campbell</td><td>518.5</td><td>76.9</td><td>5.1</td></tr><tr><td>Tomorrow Never Dies</td><td>1997</td><td>Pierce Brosnan</td><td>Roger Spottiswoode</td><td>463.2</td><td>133.9</td><td>10.0</td></tr><tr><td>The World Is Not Enough</td><td>1999</td><td>Pierce Brosnan</td><td>Michael Apted</td><td>439.5</td><td>158.3</td><td>13.5</td></tr><tr><td>Die Another Day</td><td>2002</td><td>Pierce Brosnan</td><td>Lee Tamahori</td><td>465.4</td><td>154.2</td><td>17.9</td></tr><tr><td>Casino Royale</td><td>2006</td><td>Daniel Craig</td><td>Martin Campbell</td><td>581.5</td><td>145.3</td><td>3.3</td></tr><tr><td>Quantum of Solace</td><td>2008</td><td>Daniel Craig</td><td>Marc Forster</td><td>514.2</td><td>181.4</td><td>8.1</td></tr><tr><td>Skyfall</td><td>2012</td><td>Daniel Craig</td><td>Sam Mendes</td><td>943.5</td><td>170.2</td><td>14.5</td></tr><tr><td>Spectre</td><td>2015</td><td>Daniel Craig</td><td>Sam Mendes</td><td>726.7</td><td>206.3</td><td>null</td></tr></tbody></table></div>"
      ]
     },
     "metadata": {
      "application/vnd.databricks.v1+output": {
       "addedWidgets": {},
       "aggData": [],
       "aggError": "",
       "aggOverflow": false,
       "aggSchema": [],
       "aggSeriesLimitReached": false,
       "aggType": "",
       "arguments": {},
       "columnCustomDisplayInfos": {},
       "data": [
        [
         "Dr. No",
         1962,
         "Sean Connery",
         "Terence Young",
         448.8,
         7.0,
         0.6
        ],
        [
         "From Russia with Love",
         1963,
         "Sean Connery",
         "Terence Young",
         543.8,
         12.6,
         1.6
        ],
        [
         "Goldfinger",
         1964,
         "Sean Connery",
         "Guy Hamilton",
         820.4,
         18.6,
         3.2
        ],
        [
         "Thunderball",
         1965,
         "Sean Connery",
         "Terence Young",
         848.1,
         41.9,
         4.7
        ],
        [
         "Casino Royale",
         1967,
         "David Niven",
         "Ken Hughes",
         315.0,
         85.0,
         null
        ],
        [
         "You Only Live Twice",
         1967,
         "Sean Connery",
         "Lewis Gilbert",
         514.2,
         59.9,
         4.4
        ],
        [
         "On Her Majesty's Secret Service",
         1969,
         "George Lazenby",
         "Peter R. Hunt",
         291.5,
         37.3,
         0.6
        ],
        [
         "Diamonds Are Forever",
         1971,
         "Sean Connery",
         "Guy Hamilton",
         442.5,
         34.7,
         5.8
        ],
        [
         "Live and Let Die",
         1973,
         "Roger Moore",
         "Guy Hamilton",
         460.3,
         30.8,
         null
        ],
        [
         "The Man with the Golden Gun",
         1974,
         "Roger Moore",
         "Guy Hamilton",
         334.0,
         27.7,
         null
        ],
        [
         "The Spy Who Loved Me",
         1977,
         "Roger Moore",
         "Lewis Gilbert",
         533.0,
         45.1,
         null
        ],
        [
         "Moonraker",
         1979,
         "Roger Moore",
         "Lewis Gilbert",
         535.0,
         91.5,
         null
        ],
        [
         "For Your Eyes Only",
         1981,
         "Roger Moore",
         "John Glen",
         449.4,
         60.2,
         null
        ],
        [
         "Never Say Never Again",
         1983,
         "Sean Connery",
         "Irvin Kershner",
         380.0,
         86.0,
         null
        ],
        [
         "Octopussy",
         1983,
         "Roger Moore",
         "John Glen",
         373.8,
         53.9,
         7.8
        ],
        [
         "A View to a Kill",
         1985,
         "Roger Moore",
         "John Glen",
         275.2,
         54.5,
         9.1
        ],
        [
         "The Living Daylights",
         1987,
         "Timothy Dalton",
         "John Glen",
         313.5,
         68.8,
         5.2
        ],
        [
         "Licence to Kill",
         1989,
         "Timothy Dalton",
         "John Glen",
         250.9,
         56.7,
         7.9
        ],
        [
         "GoldenEye",
         1995,
         "Pierce Brosnan",
         "Martin Campbell",
         518.5,
         76.9,
         5.1
        ],
        [
         "Tomorrow Never Dies",
         1997,
         "Pierce Brosnan",
         "Roger Spottiswoode",
         463.2,
         133.9,
         10.0
        ],
        [
         "The World Is Not Enough",
         1999,
         "Pierce Brosnan",
         "Michael Apted",
         439.5,
         158.3,
         13.5
        ],
        [
         "Die Another Day",
         2002,
         "Pierce Brosnan",
         "Lee Tamahori",
         465.4,
         154.2,
         17.9
        ],
        [
         "Casino Royale",
         2006,
         "Daniel Craig",
         "Martin Campbell",
         581.5,
         145.3,
         3.3
        ],
        [
         "Quantum of Solace",
         2008,
         "Daniel Craig",
         "Marc Forster",
         514.2,
         181.4,
         8.1
        ],
        [
         "Skyfall",
         2012,
         "Daniel Craig",
         "Sam Mendes",
         943.5,
         170.2,
         14.5
        ],
        [
         "Spectre",
         2015,
         "Daniel Craig",
         "Sam Mendes",
         726.7,
         206.3,
         null
        ]
       ],
       "datasetInfos": [],
       "dbfsResultPath": null,
       "isJsonSchema": true,
       "metadata": {},
       "overflow": false,
       "plotOptions": {
        "customPlotOptions": {},
        "displayType": "table",
        "pivotAggregation": null,
        "pivotColumns": null,
        "xColumns": null,
        "yColumns": null
       },
       "removedWidgets": [],
       "schema": [
        {
         "metadata": "{}",
         "name": "Film",
         "type": "\"string\""
        },
        {
         "metadata": "{}",
         "name": "Year",
         "type": "\"integer\""
        },
        {
         "metadata": "{}",
         "name": "Actor",
         "type": "\"string\""
        },
        {
         "metadata": "{}",
         "name": "Director",
         "type": "\"string\""
        },
        {
         "metadata": "{}",
         "name": "Box Office",
         "type": "\"double\""
        },
        {
         "metadata": "{}",
         "name": "Budget",
         "type": "\"double\""
        },
        {
         "metadata": "{}",
         "name": "Bond Actor Salary",
         "type": "\"double\""
        }
       ],
       "type": "table"
      }
     },
     "output_type": "display_data"
    }
   ],
   "source": [
    "df.select(\"*\").display()"
   ]
  },
  {
   "cell_type": "markdown",
   "metadata": {
    "application/vnd.databricks.v1+cell": {
     "cellMetadata": {},
     "inputWidgets": {},
     "nuid": "d68a65d1-bb44-45dd-960a-b35c27ddac2c",
     "showTitle": false,
     "title": ""
    }
   },
   "source": [
    "####Select Single & Multiple Columns From PySpark"
   ]
  },
  {
   "cell_type": "code",
   "execution_count": 0,
   "metadata": {
    "application/vnd.databricks.v1+cell": {
     "cellMetadata": {
      "byteLimit": 2048000,
      "rowLimit": 10000
     },
     "inputWidgets": {},
     "nuid": "edf4b4c0-18fe-49fe-ba4e-5ca346a253f4",
     "showTitle": false,
     "title": ""
    }
   },
   "outputs": [
    {
     "output_type": "display_data",
     "data": {
      "text/html": [
       "<style scoped>\n",
       "  .table-result-container {\n",
       "    max-height: 300px;\n",
       "    overflow: auto;\n",
       "  }\n",
       "  table, th, td {\n",
       "    border: 1px solid black;\n",
       "    border-collapse: collapse;\n",
       "  }\n",
       "  th, td {\n",
       "    padding: 5px;\n",
       "  }\n",
       "  th {\n",
       "    text-align: left;\n",
       "  }\n",
       "</style><div class='table-result-container'><table class='table-result'><thead style='background-color: white'><tr><th>Film</th></tr></thead><tbody><tr><td>Dr. No</td></tr><tr><td>From Russia with Love</td></tr><tr><td>Goldfinger</td></tr><tr><td>Thunderball</td></tr><tr><td>Casino Royale</td></tr><tr><td>You Only Live Twice</td></tr><tr><td>On Her Majesty's Secret Service</td></tr><tr><td>Diamonds Are Forever</td></tr><tr><td>Live and Let Die</td></tr><tr><td>The Man with the Golden Gun</td></tr><tr><td>The Spy Who Loved Me</td></tr><tr><td>Moonraker</td></tr><tr><td>For Your Eyes Only</td></tr><tr><td>Never Say Never Again</td></tr><tr><td>Octopussy</td></tr><tr><td>A View to a Kill</td></tr><tr><td>The Living Daylights</td></tr><tr><td>Licence to Kill</td></tr><tr><td>GoldenEye</td></tr><tr><td>Tomorrow Never Dies</td></tr><tr><td>The World Is Not Enough</td></tr><tr><td>Die Another Day</td></tr><tr><td>Casino Royale</td></tr><tr><td>Quantum of Solace</td></tr><tr><td>Skyfall</td></tr><tr><td>Spectre</td></tr></tbody></table></div>"
      ]
     },
     "metadata": {
      "application/vnd.databricks.v1+output": {
       "addedWidgets": {},
       "aggData": [],
       "aggError": "",
       "aggOverflow": false,
       "aggSchema": [],
       "aggSeriesLimitReached": false,
       "aggType": "",
       "arguments": {},
       "columnCustomDisplayInfos": {},
       "data": [
        [
         "Dr. No"
        ],
        [
         "From Russia with Love"
        ],
        [
         "Goldfinger"
        ],
        [
         "Thunderball"
        ],
        [
         "Casino Royale"
        ],
        [
         "You Only Live Twice"
        ],
        [
         "On Her Majesty's Secret Service"
        ],
        [
         "Diamonds Are Forever"
        ],
        [
         "Live and Let Die"
        ],
        [
         "The Man with the Golden Gun"
        ],
        [
         "The Spy Who Loved Me"
        ],
        [
         "Moonraker"
        ],
        [
         "For Your Eyes Only"
        ],
        [
         "Never Say Never Again"
        ],
        [
         "Octopussy"
        ],
        [
         "A View to a Kill"
        ],
        [
         "The Living Daylights"
        ],
        [
         "Licence to Kill"
        ],
        [
         "GoldenEye"
        ],
        [
         "Tomorrow Never Dies"
        ],
        [
         "The World Is Not Enough"
        ],
        [
         "Die Another Day"
        ],
        [
         "Casino Royale"
        ],
        [
         "Quantum of Solace"
        ],
        [
         "Skyfall"
        ],
        [
         "Spectre"
        ]
       ],
       "datasetInfos": [],
       "dbfsResultPath": null,
       "isJsonSchema": true,
       "metadata": {},
       "overflow": false,
       "plotOptions": {
        "customPlotOptions": {},
        "displayType": "table",
        "pivotAggregation": null,
        "pivotColumns": null,
        "xColumns": null,
        "yColumns": null
       },
       "removedWidgets": [],
       "schema": [
        {
         "metadata": "{}",
         "name": "Film",
         "type": "\"string\""
        }
       ],
       "type": "table"
      }
     },
     "output_type": "display_data"
    },
    {
     "output_type": "display_data",
     "data": {
      "text/html": [
       "<style scoped>\n",
       "  .table-result-container {\n",
       "    max-height: 300px;\n",
       "    overflow: auto;\n",
       "  }\n",
       "  table, th, td {\n",
       "    border: 1px solid black;\n",
       "    border-collapse: collapse;\n",
       "  }\n",
       "  th, td {\n",
       "    padding: 5px;\n",
       "  }\n",
       "  th {\n",
       "    text-align: left;\n",
       "  }\n",
       "</style><div class='table-result-container'><table class='table-result'><thead style='background-color: white'><tr><th>Film</th><th>Actor</th><th>Director</th></tr></thead><tbody><tr><td>Dr. No</td><td>Sean Connery</td><td>Terence Young</td></tr><tr><td>From Russia with Love</td><td>Sean Connery</td><td>Terence Young</td></tr><tr><td>Goldfinger</td><td>Sean Connery</td><td>Guy Hamilton</td></tr><tr><td>Thunderball</td><td>Sean Connery</td><td>Terence Young</td></tr><tr><td>Casino Royale</td><td>David Niven</td><td>Ken Hughes</td></tr><tr><td>You Only Live Twice</td><td>Sean Connery</td><td>Lewis Gilbert</td></tr><tr><td>On Her Majesty's Secret Service</td><td>George Lazenby</td><td>Peter R. Hunt</td></tr><tr><td>Diamonds Are Forever</td><td>Sean Connery</td><td>Guy Hamilton</td></tr><tr><td>Live and Let Die</td><td>Roger Moore</td><td>Guy Hamilton</td></tr><tr><td>The Man with the Golden Gun</td><td>Roger Moore</td><td>Guy Hamilton</td></tr><tr><td>The Spy Who Loved Me</td><td>Roger Moore</td><td>Lewis Gilbert</td></tr><tr><td>Moonraker</td><td>Roger Moore</td><td>Lewis Gilbert</td></tr><tr><td>For Your Eyes Only</td><td>Roger Moore</td><td>John Glen</td></tr><tr><td>Never Say Never Again</td><td>Sean Connery</td><td>Irvin Kershner</td></tr><tr><td>Octopussy</td><td>Roger Moore</td><td>John Glen</td></tr><tr><td>A View to a Kill</td><td>Roger Moore</td><td>John Glen</td></tr><tr><td>The Living Daylights</td><td>Timothy Dalton</td><td>John Glen</td></tr><tr><td>Licence to Kill</td><td>Timothy Dalton</td><td>John Glen</td></tr><tr><td>GoldenEye</td><td>Pierce Brosnan</td><td>Martin Campbell</td></tr><tr><td>Tomorrow Never Dies</td><td>Pierce Brosnan</td><td>Roger Spottiswoode</td></tr><tr><td>The World Is Not Enough</td><td>Pierce Brosnan</td><td>Michael Apted</td></tr><tr><td>Die Another Day</td><td>Pierce Brosnan</td><td>Lee Tamahori</td></tr><tr><td>Casino Royale</td><td>Daniel Craig</td><td>Martin Campbell</td></tr><tr><td>Quantum of Solace</td><td>Daniel Craig</td><td>Marc Forster</td></tr><tr><td>Skyfall</td><td>Daniel Craig</td><td>Sam Mendes</td></tr><tr><td>Spectre</td><td>Daniel Craig</td><td>Sam Mendes</td></tr></tbody></table></div>"
      ]
     },
     "metadata": {
      "application/vnd.databricks.v1+output": {
       "addedWidgets": {},
       "aggData": [],
       "aggError": "",
       "aggOverflow": false,
       "aggSchema": [],
       "aggSeriesLimitReached": false,
       "aggType": "",
       "arguments": {},
       "columnCustomDisplayInfos": {},
       "data": [
        [
         "Dr. No",
         "Sean Connery",
         "Terence Young"
        ],
        [
         "From Russia with Love",
         "Sean Connery",
         "Terence Young"
        ],
        [
         "Goldfinger",
         "Sean Connery",
         "Guy Hamilton"
        ],
        [
         "Thunderball",
         "Sean Connery",
         "Terence Young"
        ],
        [
         "Casino Royale",
         "David Niven",
         "Ken Hughes"
        ],
        [
         "You Only Live Twice",
         "Sean Connery",
         "Lewis Gilbert"
        ],
        [
         "On Her Majesty's Secret Service",
         "George Lazenby",
         "Peter R. Hunt"
        ],
        [
         "Diamonds Are Forever",
         "Sean Connery",
         "Guy Hamilton"
        ],
        [
         "Live and Let Die",
         "Roger Moore",
         "Guy Hamilton"
        ],
        [
         "The Man with the Golden Gun",
         "Roger Moore",
         "Guy Hamilton"
        ],
        [
         "The Spy Who Loved Me",
         "Roger Moore",
         "Lewis Gilbert"
        ],
        [
         "Moonraker",
         "Roger Moore",
         "Lewis Gilbert"
        ],
        [
         "For Your Eyes Only",
         "Roger Moore",
         "John Glen"
        ],
        [
         "Never Say Never Again",
         "Sean Connery",
         "Irvin Kershner"
        ],
        [
         "Octopussy",
         "Roger Moore",
         "John Glen"
        ],
        [
         "A View to a Kill",
         "Roger Moore",
         "John Glen"
        ],
        [
         "The Living Daylights",
         "Timothy Dalton",
         "John Glen"
        ],
        [
         "Licence to Kill",
         "Timothy Dalton",
         "John Glen"
        ],
        [
         "GoldenEye",
         "Pierce Brosnan",
         "Martin Campbell"
        ],
        [
         "Tomorrow Never Dies",
         "Pierce Brosnan",
         "Roger Spottiswoode"
        ],
        [
         "The World Is Not Enough",
         "Pierce Brosnan",
         "Michael Apted"
        ],
        [
         "Die Another Day",
         "Pierce Brosnan",
         "Lee Tamahori"
        ],
        [
         "Casino Royale",
         "Daniel Craig",
         "Martin Campbell"
        ],
        [
         "Quantum of Solace",
         "Daniel Craig",
         "Marc Forster"
        ],
        [
         "Skyfall",
         "Daniel Craig",
         "Sam Mendes"
        ],
        [
         "Spectre",
         "Daniel Craig",
         "Sam Mendes"
        ]
       ],
       "datasetInfos": [],
       "dbfsResultPath": null,
       "isJsonSchema": true,
       "metadata": {},
       "overflow": false,
       "plotOptions": {
        "customPlotOptions": {},
        "displayType": "table",
        "pivotAggregation": null,
        "pivotColumns": null,
        "xColumns": null,
        "yColumns": null
       },
       "removedWidgets": [],
       "schema": [
        {
         "metadata": "{}",
         "name": "Film",
         "type": "\"string\""
        },
        {
         "metadata": "{}",
         "name": "Actor",
         "type": "\"string\""
        },
        {
         "metadata": "{}",
         "name": "Director",
         "type": "\"string\""
        }
       ],
       "type": "table"
      }
     },
     "output_type": "display_data"
    }
   ],
   "source": [
    "df.select(df.Film).display()\n",
    "df1=df.select(\"Film\",\"Actor\",df.Director).display()"
   ]
  },
  {
   "cell_type": "code",
   "execution_count": 0,
   "metadata": {
    "application/vnd.databricks.v1+cell": {
     "cellMetadata": {
      "byteLimit": 2048000,
      "rowLimit": 10000
     },
     "inputWidgets": {},
     "nuid": "f18eaa0b-ff01-4f5d-b87d-675db6b0a7b2",
     "showTitle": false,
     "title": ""
    }
   },
   "outputs": [
    {
     "output_type": "display_data",
     "data": {
      "text/html": [
       "<style scoped>\n",
       "  .table-result-container {\n",
       "    max-height: 300px;\n",
       "    overflow: auto;\n",
       "  }\n",
       "  table, th, td {\n",
       "    border: 1px solid black;\n",
       "    border-collapse: collapse;\n",
       "  }\n",
       "  th, td {\n",
       "    padding: 5px;\n",
       "  }\n",
       "  th {\n",
       "    text-align: left;\n",
       "  }\n",
       "</style><div class='table-result-container'><table class='table-result'><thead style='background-color: white'><tr><th>Actor</th></tr></thead><tbody><tr><td>George Lazenby</td></tr><tr><td>Sean Connery</td></tr><tr><td>Roger Moore</td></tr><tr><td>David Niven</td></tr><tr><td>Daniel Craig</td></tr><tr><td>Timothy Dalton</td></tr><tr><td>Pierce Brosnan</td></tr></tbody></table></div>"
      ]
     },
     "metadata": {
      "application/vnd.databricks.v1+output": {
       "addedWidgets": {},
       "aggData": [],
       "aggError": "",
       "aggOverflow": false,
       "aggSchema": [],
       "aggSeriesLimitReached": false,
       "aggType": "",
       "arguments": {},
       "columnCustomDisplayInfos": {},
       "data": [
        [
         "George Lazenby"
        ],
        [
         "Sean Connery"
        ],
        [
         "Roger Moore"
        ],
        [
         "David Niven"
        ],
        [
         "Daniel Craig"
        ],
        [
         "Timothy Dalton"
        ],
        [
         "Pierce Brosnan"
        ]
       ],
       "datasetInfos": [],
       "dbfsResultPath": null,
       "isJsonSchema": true,
       "metadata": {},
       "overflow": false,
       "plotOptions": {
        "customPlotOptions": {},
        "displayType": "table",
        "pivotAggregation": null,
        "pivotColumns": null,
        "xColumns": null,
        "yColumns": null
       },
       "removedWidgets": [],
       "schema": [
        {
         "metadata": "{}",
         "name": "Actor",
         "type": "\"string\""
        }
       ],
       "type": "table"
      }
     },
     "output_type": "display_data"
    }
   ],
   "source": [
    "# Use pyspark distinct() to select unique rows from all columns.\n",
    "\n",
    "df.select(df.Actor).distinct().display(truncate=False)"
   ]
  },
  {
   "cell_type": "markdown",
   "metadata": {
    "application/vnd.databricks.v1+cell": {
     "cellMetadata": {},
     "inputWidgets": {},
     "nuid": "8afd9148-979e-442c-b44e-e1286e02a3a4",
     "showTitle": false,
     "title": ""
    }
   },
   "source": [
    "#### *filter() , where()*\n",
    "PySpark filter() function is used to filter the rows from DataFrame based on the given condition or SQL expression, you can also use where() clause instead of the filter() if you are coming from an SQL background, both these functions operate exactly the same. filter() function returns a new DataFrame or RDD with only the rows that meet the condition specified."
   ]
  },
  {
   "cell_type": "code",
   "execution_count": 0,
   "metadata": {
    "application/vnd.databricks.v1+cell": {
     "cellMetadata": {
      "byteLimit": 2048000,
      "rowLimit": 10000
     },
     "inputWidgets": {},
     "nuid": "92b70b4e-18a1-415b-9175-d153e6ae9092",
     "showTitle": false,
     "title": ""
    }
   },
   "outputs": [
    {
     "output_type": "display_data",
     "data": {
      "text/html": [
       "<style scoped>\n",
       "  .table-result-container {\n",
       "    max-height: 300px;\n",
       "    overflow: auto;\n",
       "  }\n",
       "  table, th, td {\n",
       "    border: 1px solid black;\n",
       "    border-collapse: collapse;\n",
       "  }\n",
       "  th, td {\n",
       "    padding: 5px;\n",
       "  }\n",
       "  th {\n",
       "    text-align: left;\n",
       "  }\n",
       "</style><div class='table-result-container'><table class='table-result'><thead style='background-color: white'><tr><th>Film</th><th>Year</th><th>Actor</th><th>Director</th><th>Box Office</th><th>Budget</th><th>Bond Actor Salary</th></tr></thead><tbody><tr><td>The World Is Not Enough</td><td>1999</td><td>Pierce Brosnan</td><td>Michael Apted</td><td>439.5</td><td>158.3</td><td>13.5</td></tr><tr><td>Die Another Day</td><td>2002</td><td>Pierce Brosnan</td><td>Lee Tamahori</td><td>465.4</td><td>154.2</td><td>17.9</td></tr><tr><td>Casino Royale</td><td>2006</td><td>Daniel Craig</td><td>Martin Campbell</td><td>581.5</td><td>145.3</td><td>3.3</td></tr><tr><td>Quantum of Solace</td><td>2008</td><td>Daniel Craig</td><td>Marc Forster</td><td>514.2</td><td>181.4</td><td>8.1</td></tr><tr><td>Skyfall</td><td>2012</td><td>Daniel Craig</td><td>Sam Mendes</td><td>943.5</td><td>170.2</td><td>14.5</td></tr><tr><td>Spectre</td><td>2015</td><td>Daniel Craig</td><td>Sam Mendes</td><td>726.7</td><td>206.3</td><td>null</td></tr></tbody></table></div>"
      ]
     },
     "metadata": {
      "application/vnd.databricks.v1+output": {
       "addedWidgets": {},
       "aggData": [],
       "aggError": "",
       "aggOverflow": false,
       "aggSchema": [],
       "aggSeriesLimitReached": false,
       "aggType": "",
       "arguments": {},
       "columnCustomDisplayInfos": {},
       "data": [
        [
         "The World Is Not Enough",
         1999,
         "Pierce Brosnan",
         "Michael Apted",
         439.5,
         158.3,
         13.5
        ],
        [
         "Die Another Day",
         2002,
         "Pierce Brosnan",
         "Lee Tamahori",
         465.4,
         154.2,
         17.9
        ],
        [
         "Casino Royale",
         2006,
         "Daniel Craig",
         "Martin Campbell",
         581.5,
         145.3,
         3.3
        ],
        [
         "Quantum of Solace",
         2008,
         "Daniel Craig",
         "Marc Forster",
         514.2,
         181.4,
         8.1
        ],
        [
         "Skyfall",
         2012,
         "Daniel Craig",
         "Sam Mendes",
         943.5,
         170.2,
         14.5
        ],
        [
         "Spectre",
         2015,
         "Daniel Craig",
         "Sam Mendes",
         726.7,
         206.3,
         null
        ]
       ],
       "datasetInfos": [],
       "dbfsResultPath": null,
       "isJsonSchema": true,
       "metadata": {},
       "overflow": false,
       "plotOptions": {
        "customPlotOptions": {},
        "displayType": "table",
        "pivotAggregation": null,
        "pivotColumns": null,
        "xColumns": null,
        "yColumns": null
       },
       "removedWidgets": [],
       "schema": [
        {
         "metadata": "{}",
         "name": "Film",
         "type": "\"string\""
        },
        {
         "metadata": "{}",
         "name": "Year",
         "type": "\"integer\""
        },
        {
         "metadata": "{}",
         "name": "Actor",
         "type": "\"string\""
        },
        {
         "metadata": "{}",
         "name": "Director",
         "type": "\"string\""
        },
        {
         "metadata": "{}",
         "name": "Box Office",
         "type": "\"double\""
        },
        {
         "metadata": "{}",
         "name": "Budget",
         "type": "\"double\""
        },
        {
         "metadata": "{}",
         "name": "Bond Actor Salary",
         "type": "\"double\""
        }
       ],
       "type": "table"
      }
     },
     "output_type": "display_data"
    }
   ],
   "source": [
    "# DataFrame where() with Column Condition\n",
    "\n",
    "df2=df.where(df.Year>=1998).display()"
   ]
  },
  {
   "cell_type": "code",
   "execution_count": 0,
   "metadata": {
    "application/vnd.databricks.v1+cell": {
     "cellMetadata": {
      "byteLimit": 2048000,
      "rowLimit": 10000
     },
     "inputWidgets": {},
     "nuid": "056db0f7-31a1-433c-8352-449d9bf25304",
     "showTitle": false,
     "title": ""
    }
   },
   "outputs": [
    {
     "output_type": "display_data",
     "data": {
      "text/html": [
       "<style scoped>\n",
       "  .table-result-container {\n",
       "    max-height: 300px;\n",
       "    overflow: auto;\n",
       "  }\n",
       "  table, th, td {\n",
       "    border: 1px solid black;\n",
       "    border-collapse: collapse;\n",
       "  }\n",
       "  th, td {\n",
       "    padding: 5px;\n",
       "  }\n",
       "  th {\n",
       "    text-align: left;\n",
       "  }\n",
       "</style><div class='table-result-container'><table class='table-result'><thead style='background-color: white'><tr><th>Film</th><th>Year</th><th>Actor</th><th>Director</th><th>Box Office</th><th>Budget</th><th>Bond Actor Salary</th></tr></thead><tbody><tr><td>Tomorrow Never Dies</td><td>1997</td><td>Pierce Brosnan</td><td>Roger Spottiswoode</td><td>463.2</td><td>133.9</td><td>10.0</td></tr><tr><td>The World Is Not Enough</td><td>1999</td><td>Pierce Brosnan</td><td>Michael Apted</td><td>439.5</td><td>158.3</td><td>13.5</td></tr><tr><td>Die Another Day</td><td>2002</td><td>Pierce Brosnan</td><td>Lee Tamahori</td><td>465.4</td><td>154.2</td><td>17.9</td></tr><tr><td>Casino Royale</td><td>2006</td><td>Daniel Craig</td><td>Martin Campbell</td><td>581.5</td><td>145.3</td><td>3.3</td></tr><tr><td>Quantum of Solace</td><td>2008</td><td>Daniel Craig</td><td>Marc Forster</td><td>514.2</td><td>181.4</td><td>8.1</td></tr><tr><td>Skyfall</td><td>2012</td><td>Daniel Craig</td><td>Sam Mendes</td><td>943.5</td><td>170.2</td><td>14.5</td></tr><tr><td>Spectre</td><td>2015</td><td>Daniel Craig</td><td>Sam Mendes</td><td>726.7</td><td>206.3</td><td>null</td></tr></tbody></table></div>"
      ]
     },
     "metadata": {
      "application/vnd.databricks.v1+output": {
       "addedWidgets": {},
       "aggData": [],
       "aggError": "",
       "aggOverflow": false,
       "aggSchema": [],
       "aggSeriesLimitReached": false,
       "aggType": "",
       "arguments": {},
       "columnCustomDisplayInfos": {},
       "data": [
        [
         "Tomorrow Never Dies",
         1997,
         "Pierce Brosnan",
         "Roger Spottiswoode",
         463.2,
         133.9,
         10.0
        ],
        [
         "The World Is Not Enough",
         1999,
         "Pierce Brosnan",
         "Michael Apted",
         439.5,
         158.3,
         13.5
        ],
        [
         "Die Another Day",
         2002,
         "Pierce Brosnan",
         "Lee Tamahori",
         465.4,
         154.2,
         17.9
        ],
        [
         "Casino Royale",
         2006,
         "Daniel Craig",
         "Martin Campbell",
         581.5,
         145.3,
         3.3
        ],
        [
         "Quantum of Solace",
         2008,
         "Daniel Craig",
         "Marc Forster",
         514.2,
         181.4,
         8.1
        ],
        [
         "Skyfall",
         2012,
         "Daniel Craig",
         "Sam Mendes",
         943.5,
         170.2,
         14.5
        ],
        [
         "Spectre",
         2015,
         "Daniel Craig",
         "Sam Mendes",
         726.7,
         206.3,
         null
        ]
       ],
       "datasetInfos": [],
       "dbfsResultPath": null,
       "isJsonSchema": true,
       "metadata": {},
       "overflow": false,
       "plotOptions": {
        "customPlotOptions": {},
        "displayType": "table",
        "pivotAggregation": null,
        "pivotColumns": null,
        "xColumns": null,
        "yColumns": null
       },
       "removedWidgets": [],
       "schema": [
        {
         "metadata": "{}",
         "name": "Film",
         "type": "\"string\""
        },
        {
         "metadata": "{}",
         "name": "Year",
         "type": "\"integer\""
        },
        {
         "metadata": "{}",
         "name": "Actor",
         "type": "\"string\""
        },
        {
         "metadata": "{}",
         "name": "Director",
         "type": "\"string\""
        },
        {
         "metadata": "{}",
         "name": "Box Office",
         "type": "\"double\""
        },
        {
         "metadata": "{}",
         "name": "Budget",
         "type": "\"double\""
        },
        {
         "metadata": "{}",
         "name": "Bond Actor Salary",
         "type": "\"double\""
        }
       ],
       "type": "table"
      }
     },
     "output_type": "display_data"
    }
   ],
   "source": [
    "#  PySpark where() with Multiple Conditions\n",
    "\n",
    "df2=df.where((df.Year >=1962) & (df.Budget>=100)).display()"
   ]
  },
  {
   "cell_type": "markdown",
   "metadata": {
    "application/vnd.databricks.v1+cell": {
     "cellMetadata": {},
     "inputWidgets": {},
     "nuid": "c3983198-e5a9-4863-a98b-c99ec53f31ea",
     "showTitle": false,
     "title": ""
    }
   },
   "source": [
    "### Filter Based on Starts With(), Ends With(), Contains()."
   ]
  },
  {
   "cell_type": "code",
   "execution_count": 0,
   "metadata": {
    "application/vnd.databricks.v1+cell": {
     "cellMetadata": {
      "byteLimit": 2048000,
      "rowLimit": 10000
     },
     "inputWidgets": {},
     "nuid": "120bc3fb-1784-4ddb-bee2-8d4abaa8b6f8",
     "showTitle": false,
     "title": ""
    }
   },
   "outputs": [
    {
     "output_type": "display_data",
     "data": {
      "text/html": [
       "<style scoped>\n",
       "  .table-result-container {\n",
       "    max-height: 300px;\n",
       "    overflow: auto;\n",
       "  }\n",
       "  table, th, td {\n",
       "    border: 1px solid black;\n",
       "    border-collapse: collapse;\n",
       "  }\n",
       "  th, td {\n",
       "    padding: 5px;\n",
       "  }\n",
       "  th {\n",
       "    text-align: left;\n",
       "  }\n",
       "</style><div class='table-result-container'><table class='table-result'><thead style='background-color: white'><tr><th>Film</th><th>Year</th><th>Actor</th><th>Director</th><th>Box Office</th><th>Budget</th><th>Bond Actor Salary</th></tr></thead><tbody><tr><td>Casino Royale</td><td>2006</td><td>Daniel Craig</td><td>Martin Campbell</td><td>581.5</td><td>145.3</td><td>3.3</td></tr><tr><td>Quantum of Solace</td><td>2008</td><td>Daniel Craig</td><td>Marc Forster</td><td>514.2</td><td>181.4</td><td>8.1</td></tr><tr><td>Skyfall</td><td>2012</td><td>Daniel Craig</td><td>Sam Mendes</td><td>943.5</td><td>170.2</td><td>14.5</td></tr><tr><td>Spectre</td><td>2015</td><td>Daniel Craig</td><td>Sam Mendes</td><td>726.7</td><td>206.3</td><td>null</td></tr></tbody></table></div>"
      ]
     },
     "metadata": {
      "application/vnd.databricks.v1+output": {
       "addedWidgets": {},
       "aggData": [],
       "aggError": "",
       "aggOverflow": false,
       "aggSchema": [],
       "aggSeriesLimitReached": false,
       "aggType": "",
       "arguments": {},
       "columnCustomDisplayInfos": {},
       "data": [
        [
         "Casino Royale",
         2006,
         "Daniel Craig",
         "Martin Campbell",
         581.5,
         145.3,
         3.3
        ],
        [
         "Quantum of Solace",
         2008,
         "Daniel Craig",
         "Marc Forster",
         514.2,
         181.4,
         8.1
        ],
        [
         "Skyfall",
         2012,
         "Daniel Craig",
         "Sam Mendes",
         943.5,
         170.2,
         14.5
        ],
        [
         "Spectre",
         2015,
         "Daniel Craig",
         "Sam Mendes",
         726.7,
         206.3,
         null
        ]
       ],
       "datasetInfos": [],
       "dbfsResultPath": null,
       "isJsonSchema": true,
       "metadata": {},
       "overflow": false,
       "plotOptions": {
        "customPlotOptions": {},
        "displayType": "table",
        "pivotAggregation": null,
        "pivotColumns": null,
        "xColumns": null,
        "yColumns": null
       },
       "removedWidgets": [],
       "schema": [
        {
         "metadata": "{}",
         "name": "Film",
         "type": "\"string\""
        },
        {
         "metadata": "{}",
         "name": "Year",
         "type": "\"integer\""
        },
        {
         "metadata": "{}",
         "name": "Actor",
         "type": "\"string\""
        },
        {
         "metadata": "{}",
         "name": "Director",
         "type": "\"string\""
        },
        {
         "metadata": "{}",
         "name": "Box Office",
         "type": "\"double\""
        },
        {
         "metadata": "{}",
         "name": "Budget",
         "type": "\"double\""
        },
        {
         "metadata": "{}",
         "name": "Bond Actor Salary",
         "type": "\"double\""
        }
       ],
       "type": "table"
      }
     },
     "output_type": "display_data"
    },
    {
     "output_type": "display_data",
     "data": {
      "text/html": [
       "<style scoped>\n",
       "  .table-result-container {\n",
       "    max-height: 300px;\n",
       "    overflow: auto;\n",
       "  }\n",
       "  table, th, td {\n",
       "    border: 1px solid black;\n",
       "    border-collapse: collapse;\n",
       "  }\n",
       "  th, td {\n",
       "    padding: 5px;\n",
       "  }\n",
       "  th {\n",
       "    text-align: left;\n",
       "  }\n",
       "</style><div class='table-result-container'><table class='table-result'><thead style='background-color: white'><tr><th>Film</th><th>Year</th><th>Actor</th><th>Director</th><th>Box Office</th><th>Budget</th><th>Bond Actor Salary</th></tr></thead><tbody><tr><td>Casino Royale</td><td>1967</td><td>David Niven</td><td>Ken Hughes</td><td>315.0</td><td>85.0</td><td>null</td></tr></tbody></table></div>"
      ]
     },
     "metadata": {
      "application/vnd.databricks.v1+output": {
       "addedWidgets": {},
       "aggData": [],
       "aggError": "",
       "aggOverflow": false,
       "aggSchema": [],
       "aggSeriesLimitReached": false,
       "aggType": "",
       "arguments": {},
       "columnCustomDisplayInfos": {},
       "data": [
        [
         "Casino Royale",
         1967,
         "David Niven",
         "Ken Hughes",
         315.0,
         85.0,
         null
        ]
       ],
       "datasetInfos": [],
       "dbfsResultPath": null,
       "isJsonSchema": true,
       "metadata": {},
       "overflow": false,
       "plotOptions": {
        "customPlotOptions": {},
        "displayType": "table",
        "pivotAggregation": null,
        "pivotColumns": null,
        "xColumns": null,
        "yColumns": null
       },
       "removedWidgets": [],
       "schema": [
        {
         "metadata": "{}",
         "name": "Film",
         "type": "\"string\""
        },
        {
         "metadata": "{}",
         "name": "Year",
         "type": "\"integer\""
        },
        {
         "metadata": "{}",
         "name": "Actor",
         "type": "\"string\""
        },
        {
         "metadata": "{}",
         "name": "Director",
         "type": "\"string\""
        },
        {
         "metadata": "{}",
         "name": "Box Office",
         "type": "\"double\""
        },
        {
         "metadata": "{}",
         "name": "Budget",
         "type": "\"double\""
        },
        {
         "metadata": "{}",
         "name": "Bond Actor Salary",
         "type": "\"double\""
        }
       ],
       "type": "table"
      }
     },
     "output_type": "display_data"
    },
    {
     "output_type": "display_data",
     "data": {
      "text/html": [
       "<style scoped>\n",
       "  .table-result-container {\n",
       "    max-height: 300px;\n",
       "    overflow: auto;\n",
       "  }\n",
       "  table, th, td {\n",
       "    border: 1px solid black;\n",
       "    border-collapse: collapse;\n",
       "  }\n",
       "  th, td {\n",
       "    padding: 5px;\n",
       "  }\n",
       "  th {\n",
       "    text-align: left;\n",
       "  }\n",
       "</style><div class='table-result-container'><table class='table-result'><thead style='background-color: white'><tr><th>Film</th><th>Year</th><th>Actor</th><th>Director</th><th>Box Office</th><th>Budget</th><th>Bond Actor Salary</th></tr></thead><tbody><tr><td>GoldenEye</td><td>1995</td><td>Pierce Brosnan</td><td>Martin Campbell</td><td>518.5</td><td>76.9</td><td>5.1</td></tr><tr><td>Tomorrow Never Dies</td><td>1997</td><td>Pierce Brosnan</td><td>Roger Spottiswoode</td><td>463.2</td><td>133.9</td><td>10.0</td></tr><tr><td>The World Is Not Enough</td><td>1999</td><td>Pierce Brosnan</td><td>Michael Apted</td><td>439.5</td><td>158.3</td><td>13.5</td></tr><tr><td>Die Another Day</td><td>2002</td><td>Pierce Brosnan</td><td>Lee Tamahori</td><td>465.4</td><td>154.2</td><td>17.9</td></tr></tbody></table></div>"
      ]
     },
     "metadata": {
      "application/vnd.databricks.v1+output": {
       "addedWidgets": {},
       "aggData": [],
       "aggError": "",
       "aggOverflow": false,
       "aggSchema": [],
       "aggSeriesLimitReached": false,
       "aggType": "",
       "arguments": {},
       "columnCustomDisplayInfos": {},
       "data": [
        [
         "GoldenEye",
         1995,
         "Pierce Brosnan",
         "Martin Campbell",
         518.5,
         76.9,
         5.1
        ],
        [
         "Tomorrow Never Dies",
         1997,
         "Pierce Brosnan",
         "Roger Spottiswoode",
         463.2,
         133.9,
         10.0
        ],
        [
         "The World Is Not Enough",
         1999,
         "Pierce Brosnan",
         "Michael Apted",
         439.5,
         158.3,
         13.5
        ],
        [
         "Die Another Day",
         2002,
         "Pierce Brosnan",
         "Lee Tamahori",
         465.4,
         154.2,
         17.9
        ]
       ],
       "datasetInfos": [],
       "dbfsResultPath": null,
       "isJsonSchema": true,
       "metadata": {},
       "overflow": false,
       "plotOptions": {
        "customPlotOptions": {},
        "displayType": "table",
        "pivotAggregation": null,
        "pivotColumns": null,
        "xColumns": null,
        "yColumns": null
       },
       "removedWidgets": [],
       "schema": [
        {
         "metadata": "{}",
         "name": "Film",
         "type": "\"string\""
        },
        {
         "metadata": "{}",
         "name": "Year",
         "type": "\"integer\""
        },
        {
         "metadata": "{}",
         "name": "Actor",
         "type": "\"string\""
        },
        {
         "metadata": "{}",
         "name": "Director",
         "type": "\"string\""
        },
        {
         "metadata": "{}",
         "name": "Box Office",
         "type": "\"double\""
        },
        {
         "metadata": "{}",
         "name": "Budget",
         "type": "\"double\""
        },
        {
         "metadata": "{}",
         "name": "Bond Actor Salary",
         "type": "\"double\""
        }
       ],
       "type": "table"
      }
     },
     "output_type": "display_data"
    }
   ],
   "source": [
    "df.filter(df.Actor.startswith('Daniel')).display()\n",
    "df.filter(df.Actor.endswith('Niven')).display()\n",
    "df.filter(df.Actor.contains('Pierce')).display()"
   ]
  },
  {
   "cell_type": "code",
   "execution_count": 0,
   "metadata": {
    "application/vnd.databricks.v1+cell": {
     "cellMetadata": {
      "byteLimit": 2048000,
      "rowLimit": 10000
     },
     "inputWidgets": {},
     "nuid": "0e018801-c6c8-4ce3-b2ab-ceec42e9b3c9",
     "showTitle": false,
     "title": ""
    }
   },
   "outputs": [
    {
     "output_type": "display_data",
     "data": {
      "text/html": [
       "<style scoped>\n",
       "  .table-result-container {\n",
       "    max-height: 300px;\n",
       "    overflow: auto;\n",
       "  }\n",
       "  table, th, td {\n",
       "    border: 1px solid black;\n",
       "    border-collapse: collapse;\n",
       "  }\n",
       "  th, td {\n",
       "    padding: 5px;\n",
       "  }\n",
       "  th {\n",
       "    text-align: left;\n",
       "  }\n",
       "</style><div class='table-result-container'><table class='table-result'><thead style='background-color: white'><tr><th>Film</th><th>Year</th><th>Actor</th><th>Director</th><th>Box Office</th><th>Budget</th><th>Bond Actor Salary</th></tr></thead><tbody><tr><td>Never Say Never Again</td><td>1983</td><td>Sean Connery</td><td>Irvin Kershner</td><td>380.0</td><td>86.0</td><td>null</td></tr><tr><td>Octopussy</td><td>1983</td><td>Roger Moore</td><td>John Glen</td><td>373.8</td><td>53.9</td><td>7.8</td></tr><tr><td>Skyfall</td><td>2012</td><td>Daniel Craig</td><td>Sam Mendes</td><td>943.5</td><td>170.2</td><td>14.5</td></tr></tbody></table></div>"
      ]
     },
     "metadata": {
      "application/vnd.databricks.v1+output": {
       "addedWidgets": {},
       "aggData": [],
       "aggError": "",
       "aggOverflow": false,
       "aggSchema": [],
       "aggSeriesLimitReached": false,
       "aggType": "",
       "arguments": {},
       "columnCustomDisplayInfos": {},
       "data": [
        [
         "Never Say Never Again",
         1983,
         "Sean Connery",
         "Irvin Kershner",
         380.0,
         86.0,
         null
        ],
        [
         "Octopussy",
         1983,
         "Roger Moore",
         "John Glen",
         373.8,
         53.9,
         7.8
        ],
        [
         "Skyfall",
         2012,
         "Daniel Craig",
         "Sam Mendes",
         943.5,
         170.2,
         14.5
        ]
       ],
       "datasetInfos": [],
       "dbfsResultPath": null,
       "isJsonSchema": true,
       "metadata": {},
       "overflow": false,
       "plotOptions": {
        "customPlotOptions": {},
        "displayType": "table",
        "pivotAggregation": null,
        "pivotColumns": null,
        "xColumns": null,
        "yColumns": null
       },
       "removedWidgets": [],
       "schema": [
        {
         "metadata": "{}",
         "name": "Film",
         "type": "\"string\""
        },
        {
         "metadata": "{}",
         "name": "Year",
         "type": "\"integer\""
        },
        {
         "metadata": "{}",
         "name": "Actor",
         "type": "\"string\""
        },
        {
         "metadata": "{}",
         "name": "Director",
         "type": "\"string\""
        },
        {
         "metadata": "{}",
         "name": "Box Office",
         "type": "\"double\""
        },
        {
         "metadata": "{}",
         "name": "Budget",
         "type": "\"double\""
        },
        {
         "metadata": "{}",
         "name": "Bond Actor Salary",
         "type": "\"double\""
        }
       ],
       "type": "table"
      }
     },
     "output_type": "display_data"
    },
    {
     "output_type": "display_data",
     "data": {
      "text/html": [
       "<style scoped>\n",
       "  .table-result-container {\n",
       "    max-height: 300px;\n",
       "    overflow: auto;\n",
       "  }\n",
       "  table, th, td {\n",
       "    border: 1px solid black;\n",
       "    border-collapse: collapse;\n",
       "  }\n",
       "  th, td {\n",
       "    padding: 5px;\n",
       "  }\n",
       "  th {\n",
       "    text-align: left;\n",
       "  }\n",
       "</style><div class='table-result-container'><table class='table-result'><thead style='background-color: white'><tr><th>Film</th><th>Year</th><th>Actor</th><th>Director</th><th>Box Office</th><th>Budget</th><th>Bond Actor Salary</th></tr></thead><tbody><tr><td>Dr. No</td><td>1962</td><td>Sean Connery</td><td>Terence Young</td><td>448.8</td><td>7.0</td><td>0.6</td></tr><tr><td>From Russia with Love</td><td>1963</td><td>Sean Connery</td><td>Terence Young</td><td>543.8</td><td>12.6</td><td>1.6</td></tr><tr><td>Goldfinger</td><td>1964</td><td>Sean Connery</td><td>Guy Hamilton</td><td>820.4</td><td>18.6</td><td>3.2</td></tr><tr><td>Thunderball</td><td>1965</td><td>Sean Connery</td><td>Terence Young</td><td>848.1</td><td>41.9</td><td>4.7</td></tr><tr><td>Casino Royale</td><td>1967</td><td>David Niven</td><td>Ken Hughes</td><td>315.0</td><td>85.0</td><td>null</td></tr><tr><td>You Only Live Twice</td><td>1967</td><td>Sean Connery</td><td>Lewis Gilbert</td><td>514.2</td><td>59.9</td><td>4.4</td></tr><tr><td>On Her Majesty's Secret Service</td><td>1969</td><td>George Lazenby</td><td>Peter R. Hunt</td><td>291.5</td><td>37.3</td><td>0.6</td></tr><tr><td>Diamonds Are Forever</td><td>1971</td><td>Sean Connery</td><td>Guy Hamilton</td><td>442.5</td><td>34.7</td><td>5.8</td></tr><tr><td>Live and Let Die</td><td>1973</td><td>Roger Moore</td><td>Guy Hamilton</td><td>460.3</td><td>30.8</td><td>null</td></tr><tr><td>The Man with the Golden Gun</td><td>1974</td><td>Roger Moore</td><td>Guy Hamilton</td><td>334.0</td><td>27.7</td><td>null</td></tr><tr><td>The Spy Who Loved Me</td><td>1977</td><td>Roger Moore</td><td>Lewis Gilbert</td><td>533.0</td><td>45.1</td><td>null</td></tr><tr><td>Moonraker</td><td>1979</td><td>Roger Moore</td><td>Lewis Gilbert</td><td>535.0</td><td>91.5</td><td>null</td></tr></tbody></table></div>"
      ]
     },
     "metadata": {
      "application/vnd.databricks.v1+output": {
       "addedWidgets": {},
       "aggData": [],
       "aggError": "",
       "aggOverflow": false,
       "aggSchema": [],
       "aggSeriesLimitReached": false,
       "aggType": "",
       "arguments": {},
       "columnCustomDisplayInfos": {},
       "data": [
        [
         "Dr. No",
         1962,
         "Sean Connery",
         "Terence Young",
         448.8,
         7.0,
         0.6
        ],
        [
         "From Russia with Love",
         1963,
         "Sean Connery",
         "Terence Young",
         543.8,
         12.6,
         1.6
        ],
        [
         "Goldfinger",
         1964,
         "Sean Connery",
         "Guy Hamilton",
         820.4,
         18.6,
         3.2
        ],
        [
         "Thunderball",
         1965,
         "Sean Connery",
         "Terence Young",
         848.1,
         41.9,
         4.7
        ],
        [
         "Casino Royale",
         1967,
         "David Niven",
         "Ken Hughes",
         315.0,
         85.0,
         null
        ],
        [
         "You Only Live Twice",
         1967,
         "Sean Connery",
         "Lewis Gilbert",
         514.2,
         59.9,
         4.4
        ],
        [
         "On Her Majesty's Secret Service",
         1969,
         "George Lazenby",
         "Peter R. Hunt",
         291.5,
         37.3,
         0.6
        ],
        [
         "Diamonds Are Forever",
         1971,
         "Sean Connery",
         "Guy Hamilton",
         442.5,
         34.7,
         5.8
        ],
        [
         "Live and Let Die",
         1973,
         "Roger Moore",
         "Guy Hamilton",
         460.3,
         30.8,
         null
        ],
        [
         "The Man with the Golden Gun",
         1974,
         "Roger Moore",
         "Guy Hamilton",
         334.0,
         27.7,
         null
        ],
        [
         "The Spy Who Loved Me",
         1977,
         "Roger Moore",
         "Lewis Gilbert",
         533.0,
         45.1,
         null
        ],
        [
         "Moonraker",
         1979,
         "Roger Moore",
         "Lewis Gilbert",
         535.0,
         91.5,
         null
        ]
       ],
       "datasetInfos": [],
       "dbfsResultPath": null,
       "isJsonSchema": true,
       "metadata": {},
       "overflow": false,
       "plotOptions": {
        "customPlotOptions": {},
        "displayType": "table",
        "pivotAggregation": null,
        "pivotColumns": null,
        "xColumns": null,
        "yColumns": null
       },
       "removedWidgets": [],
       "schema": [
        {
         "metadata": "{}",
         "name": "Film",
         "type": "\"string\""
        },
        {
         "metadata": "{}",
         "name": "Year",
         "type": "\"integer\""
        },
        {
         "metadata": "{}",
         "name": "Actor",
         "type": "\"string\""
        },
        {
         "metadata": "{}",
         "name": "Director",
         "type": "\"string\""
        },
        {
         "metadata": "{}",
         "name": "Box Office",
         "type": "\"double\""
        },
        {
         "metadata": "{}",
         "name": "Budget",
         "type": "\"double\""
        },
        {
         "metadata": "{}",
         "name": "Bond Actor Salary",
         "type": "\"double\""
        }
       ],
       "type": "table"
      }
     },
     "output_type": "display_data"
    }
   ],
   "source": [
    "df.filter(df.Year.isin(\"1983\", \"2012\")).display()\n",
    "df.filter(df.Year.between(1950, 1980)).display()"
   ]
  },
  {
   "cell_type": "markdown",
   "metadata": {
    "application/vnd.databricks.v1+cell": {
     "cellMetadata": {},
     "inputWidgets": {},
     "nuid": "a0074063-1b28-42c0-9fda-0827de2d5db3",
     "showTitle": false,
     "title": ""
    }
   },
   "source": [
    "####isNotNull() – Returns True if the current expression is NOT null.\n",
    "####isNull() – Returns True if the current expression is null."
   ]
  },
  {
   "cell_type": "code",
   "execution_count": 0,
   "metadata": {
    "application/vnd.databricks.v1+cell": {
     "cellMetadata": {
      "byteLimit": 2048000,
      "rowLimit": 10000
     },
     "inputWidgets": {},
     "nuid": "05599958-6914-4f9c-addb-260d35abc233",
     "showTitle": false,
     "title": ""
    }
   },
   "outputs": [
    {
     "output_type": "display_data",
     "data": {
      "text/html": [
       "<style scoped>\n",
       "  .table-result-container {\n",
       "    max-height: 300px;\n",
       "    overflow: auto;\n",
       "  }\n",
       "  table, th, td {\n",
       "    border: 1px solid black;\n",
       "    border-collapse: collapse;\n",
       "  }\n",
       "  th, td {\n",
       "    padding: 5px;\n",
       "  }\n",
       "  th {\n",
       "    text-align: left;\n",
       "  }\n",
       "</style><div class='table-result-container'><table class='table-result'><thead style='background-color: white'><tr><th>Film</th><th>Year</th><th>Actor</th><th>Director</th><th>Box Office</th><th>Budget</th><th>Bond Actor Salary</th></tr></thead><tbody><tr><td>Dr. No</td><td>1962</td><td>Sean Connery</td><td>Terence Young</td><td>448.8</td><td>7.0</td><td>0.6</td></tr><tr><td>From Russia with Love</td><td>1963</td><td>Sean Connery</td><td>Terence Young</td><td>543.8</td><td>12.6</td><td>1.6</td></tr><tr><td>Goldfinger</td><td>1964</td><td>Sean Connery</td><td>Guy Hamilton</td><td>820.4</td><td>18.6</td><td>3.2</td></tr><tr><td>Thunderball</td><td>1965</td><td>Sean Connery</td><td>Terence Young</td><td>848.1</td><td>41.9</td><td>4.7</td></tr><tr><td>Casino Royale</td><td>1967</td><td>David Niven</td><td>Ken Hughes</td><td>315.0</td><td>85.0</td><td>null</td></tr><tr><td>You Only Live Twice</td><td>1967</td><td>Sean Connery</td><td>Lewis Gilbert</td><td>514.2</td><td>59.9</td><td>4.4</td></tr><tr><td>On Her Majesty's Secret Service</td><td>1969</td><td>George Lazenby</td><td>Peter R. Hunt</td><td>291.5</td><td>37.3</td><td>0.6</td></tr><tr><td>Diamonds Are Forever</td><td>1971</td><td>Sean Connery</td><td>Guy Hamilton</td><td>442.5</td><td>34.7</td><td>5.8</td></tr><tr><td>Live and Let Die</td><td>1973</td><td>Roger Moore</td><td>Guy Hamilton</td><td>460.3</td><td>30.8</td><td>null</td></tr><tr><td>The Man with the Golden Gun</td><td>1974</td><td>Roger Moore</td><td>Guy Hamilton</td><td>334.0</td><td>27.7</td><td>null</td></tr><tr><td>The Spy Who Loved Me</td><td>1977</td><td>Roger Moore</td><td>Lewis Gilbert</td><td>533.0</td><td>45.1</td><td>null</td></tr><tr><td>Moonraker</td><td>1979</td><td>Roger Moore</td><td>Lewis Gilbert</td><td>535.0</td><td>91.5</td><td>null</td></tr><tr><td>For Your Eyes Only</td><td>1981</td><td>Roger Moore</td><td>John Glen</td><td>449.4</td><td>60.2</td><td>null</td></tr><tr><td>Never Say Never Again</td><td>1983</td><td>Sean Connery</td><td>Irvin Kershner</td><td>380.0</td><td>86.0</td><td>null</td></tr><tr><td>Octopussy</td><td>1983</td><td>Roger Moore</td><td>John Glen</td><td>373.8</td><td>53.9</td><td>7.8</td></tr><tr><td>A View to a Kill</td><td>1985</td><td>Roger Moore</td><td>John Glen</td><td>275.2</td><td>54.5</td><td>9.1</td></tr><tr><td>The Living Daylights</td><td>1987</td><td>Timothy Dalton</td><td>John Glen</td><td>313.5</td><td>68.8</td><td>5.2</td></tr><tr><td>Licence to Kill</td><td>1989</td><td>Timothy Dalton</td><td>John Glen</td><td>250.9</td><td>56.7</td><td>7.9</td></tr><tr><td>GoldenEye</td><td>1995</td><td>Pierce Brosnan</td><td>Martin Campbell</td><td>518.5</td><td>76.9</td><td>5.1</td></tr><tr><td>Tomorrow Never Dies</td><td>1997</td><td>Pierce Brosnan</td><td>Roger Spottiswoode</td><td>463.2</td><td>133.9</td><td>10.0</td></tr><tr><td>The World Is Not Enough</td><td>1999</td><td>Pierce Brosnan</td><td>Michael Apted</td><td>439.5</td><td>158.3</td><td>13.5</td></tr><tr><td>Die Another Day</td><td>2002</td><td>Pierce Brosnan</td><td>Lee Tamahori</td><td>465.4</td><td>154.2</td><td>17.9</td></tr><tr><td>Casino Royale</td><td>2006</td><td>Daniel Craig</td><td>Martin Campbell</td><td>581.5</td><td>145.3</td><td>3.3</td></tr><tr><td>Quantum of Solace</td><td>2008</td><td>Daniel Craig</td><td>Marc Forster</td><td>514.2</td><td>181.4</td><td>8.1</td></tr><tr><td>Skyfall</td><td>2012</td><td>Daniel Craig</td><td>Sam Mendes</td><td>943.5</td><td>170.2</td><td>14.5</td></tr><tr><td>Spectre</td><td>2015</td><td>Daniel Craig</td><td>Sam Mendes</td><td>726.7</td><td>206.3</td><td>null</td></tr></tbody></table></div>"
      ]
     },
     "metadata": {
      "application/vnd.databricks.v1+output": {
       "addedWidgets": {},
       "aggData": [],
       "aggError": "",
       "aggOverflow": false,
       "aggSchema": [],
       "aggSeriesLimitReached": false,
       "aggType": "",
       "arguments": {},
       "columnCustomDisplayInfos": {},
       "data": [
        [
         "Dr. No",
         1962,
         "Sean Connery",
         "Terence Young",
         448.8,
         7.0,
         0.6
        ],
        [
         "From Russia with Love",
         1963,
         "Sean Connery",
         "Terence Young",
         543.8,
         12.6,
         1.6
        ],
        [
         "Goldfinger",
         1964,
         "Sean Connery",
         "Guy Hamilton",
         820.4,
         18.6,
         3.2
        ],
        [
         "Thunderball",
         1965,
         "Sean Connery",
         "Terence Young",
         848.1,
         41.9,
         4.7
        ],
        [
         "Casino Royale",
         1967,
         "David Niven",
         "Ken Hughes",
         315.0,
         85.0,
         null
        ],
        [
         "You Only Live Twice",
         1967,
         "Sean Connery",
         "Lewis Gilbert",
         514.2,
         59.9,
         4.4
        ],
        [
         "On Her Majesty's Secret Service",
         1969,
         "George Lazenby",
         "Peter R. Hunt",
         291.5,
         37.3,
         0.6
        ],
        [
         "Diamonds Are Forever",
         1971,
         "Sean Connery",
         "Guy Hamilton",
         442.5,
         34.7,
         5.8
        ],
        [
         "Live and Let Die",
         1973,
         "Roger Moore",
         "Guy Hamilton",
         460.3,
         30.8,
         null
        ],
        [
         "The Man with the Golden Gun",
         1974,
         "Roger Moore",
         "Guy Hamilton",
         334.0,
         27.7,
         null
        ],
        [
         "The Spy Who Loved Me",
         1977,
         "Roger Moore",
         "Lewis Gilbert",
         533.0,
         45.1,
         null
        ],
        [
         "Moonraker",
         1979,
         "Roger Moore",
         "Lewis Gilbert",
         535.0,
         91.5,
         null
        ],
        [
         "For Your Eyes Only",
         1981,
         "Roger Moore",
         "John Glen",
         449.4,
         60.2,
         null
        ],
        [
         "Never Say Never Again",
         1983,
         "Sean Connery",
         "Irvin Kershner",
         380.0,
         86.0,
         null
        ],
        [
         "Octopussy",
         1983,
         "Roger Moore",
         "John Glen",
         373.8,
         53.9,
         7.8
        ],
        [
         "A View to a Kill",
         1985,
         "Roger Moore",
         "John Glen",
         275.2,
         54.5,
         9.1
        ],
        [
         "The Living Daylights",
         1987,
         "Timothy Dalton",
         "John Glen",
         313.5,
         68.8,
         5.2
        ],
        [
         "Licence to Kill",
         1989,
         "Timothy Dalton",
         "John Glen",
         250.9,
         56.7,
         7.9
        ],
        [
         "GoldenEye",
         1995,
         "Pierce Brosnan",
         "Martin Campbell",
         518.5,
         76.9,
         5.1
        ],
        [
         "Tomorrow Never Dies",
         1997,
         "Pierce Brosnan",
         "Roger Spottiswoode",
         463.2,
         133.9,
         10.0
        ],
        [
         "The World Is Not Enough",
         1999,
         "Pierce Brosnan",
         "Michael Apted",
         439.5,
         158.3,
         13.5
        ],
        [
         "Die Another Day",
         2002,
         "Pierce Brosnan",
         "Lee Tamahori",
         465.4,
         154.2,
         17.9
        ],
        [
         "Casino Royale",
         2006,
         "Daniel Craig",
         "Martin Campbell",
         581.5,
         145.3,
         3.3
        ],
        [
         "Quantum of Solace",
         2008,
         "Daniel Craig",
         "Marc Forster",
         514.2,
         181.4,
         8.1
        ],
        [
         "Skyfall",
         2012,
         "Daniel Craig",
         "Sam Mendes",
         943.5,
         170.2,
         14.5
        ],
        [
         "Spectre",
         2015,
         "Daniel Craig",
         "Sam Mendes",
         726.7,
         206.3,
         null
        ]
       ],
       "datasetInfos": [],
       "dbfsResultPath": null,
       "isJsonSchema": true,
       "metadata": {},
       "overflow": false,
       "plotOptions": {
        "customPlotOptions": {},
        "displayType": "table",
        "pivotAggregation": null,
        "pivotColumns": null,
        "xColumns": null,
        "yColumns": null
       },
       "removedWidgets": [],
       "schema": [
        {
         "metadata": "{}",
         "name": "Film",
         "type": "\"string\""
        },
        {
         "metadata": "{}",
         "name": "Year",
         "type": "\"integer\""
        },
        {
         "metadata": "{}",
         "name": "Actor",
         "type": "\"string\""
        },
        {
         "metadata": "{}",
         "name": "Director",
         "type": "\"string\""
        },
        {
         "metadata": "{}",
         "name": "Box Office",
         "type": "\"double\""
        },
        {
         "metadata": "{}",
         "name": "Budget",
         "type": "\"double\""
        },
        {
         "metadata": "{}",
         "name": "Bond Actor Salary",
         "type": "\"double\""
        }
       ],
       "type": "table"
      }
     },
     "output_type": "display_data"
    },
    {
     "output_type": "display_data",
     "data": {
      "text/html": [
       "<style scoped>\n",
       "  .table-result-container {\n",
       "    max-height: 300px;\n",
       "    overflow: auto;\n",
       "  }\n",
       "  table, th, td {\n",
       "    border: 1px solid black;\n",
       "    border-collapse: collapse;\n",
       "  }\n",
       "  th, td {\n",
       "    padding: 5px;\n",
       "  }\n",
       "  th {\n",
       "    text-align: left;\n",
       "  }\n",
       "</style><div class='table-result-container'><table class='table-result'><thead style='background-color: white'><tr><th>Film</th><th>Year</th><th>Actor</th><th>Director</th><th>Box Office</th><th>Budget</th><th>Bond Actor Salary</th></tr></thead><tbody></tbody></table></div>"
      ]
     },
     "metadata": {
      "application/vnd.databricks.v1+output": {
       "addedWidgets": {},
       "aggData": [],
       "aggError": "",
       "aggOverflow": false,
       "aggSchema": [],
       "aggSeriesLimitReached": false,
       "aggType": "",
       "arguments": {},
       "columnCustomDisplayInfos": {},
       "data": [],
       "datasetInfos": [],
       "dbfsResultPath": null,
       "isJsonSchema": true,
       "metadata": {},
       "overflow": false,
       "plotOptions": {
        "customPlotOptions": {},
        "displayType": "table",
        "pivotAggregation": null,
        "pivotColumns": null,
        "xColumns": null,
        "yColumns": null
       },
       "removedWidgets": [],
       "schema": [
        {
         "metadata": "{}",
         "name": "Film",
         "type": "\"string\""
        },
        {
         "metadata": "{}",
         "name": "Year",
         "type": "\"integer\""
        },
        {
         "metadata": "{}",
         "name": "Actor",
         "type": "\"string\""
        },
        {
         "metadata": "{}",
         "name": "Director",
         "type": "\"string\""
        },
        {
         "metadata": "{}",
         "name": "Box Office",
         "type": "\"double\""
        },
        {
         "metadata": "{}",
         "name": "Budget",
         "type": "\"double\""
        },
        {
         "metadata": "{}",
         "name": "Bond Actor Salary",
         "type": "\"double\""
        }
       ],
       "type": "table"
      }
     },
     "output_type": "display_data"
    }
   ],
   "source": [
    "# isNotNull() isNull()\n",
    "\n",
    "df.filter(df.Budget.isNotNull()).display()\n",
    "df.filter(df.Actor.isNull()).display()"
   ]
  },
  {
   "cell_type": "code",
   "execution_count": 0,
   "metadata": {
    "application/vnd.databricks.v1+cell": {
     "cellMetadata": {
      "byteLimit": 2048000,
      "rowLimit": 10000
     },
     "inputWidgets": {},
     "nuid": "2f0d64c3-9aea-4f60-a46a-783f84b6a90a",
     "showTitle": false,
     "title": ""
    }
   },
   "outputs": [
    {
     "output_type": "display_data",
     "data": {
      "text/html": [
       "<style scoped>\n",
       "  .table-result-container {\n",
       "    max-height: 300px;\n",
       "    overflow: auto;\n",
       "  }\n",
       "  table, th, td {\n",
       "    border: 1px solid black;\n",
       "    border-collapse: collapse;\n",
       "  }\n",
       "  th, td {\n",
       "    padding: 5px;\n",
       "  }\n",
       "  th {\n",
       "    text-align: left;\n",
       "  }\n",
       "</style><div class='table-result-container'><table class='table-result'><thead style='background-color: white'><tr><th>Film</th><th>Year</th><th>Actor</th><th>Director</th><th>Box Office</th><th>Budget</th><th>Bond Actor Salary</th></tr></thead><tbody><tr><td>For Your Eyes Only</td><td>1981</td><td>Roger Moore</td><td>John Glen</td><td>449.4</td><td>60.2</td><td>null</td></tr></tbody></table></div>"
      ]
     },
     "metadata": {
      "application/vnd.databricks.v1+output": {
       "addedWidgets": {},
       "aggData": [],
       "aggError": "",
       "aggOverflow": false,
       "aggSchema": [],
       "aggSeriesLimitReached": false,
       "aggType": "",
       "arguments": {},
       "columnCustomDisplayInfos": {},
       "data": [
        [
         "For Your Eyes Only",
         1981,
         "Roger Moore",
         "John Glen",
         449.4,
         60.2,
         null
        ]
       ],
       "datasetInfos": [],
       "dbfsResultPath": null,
       "isJsonSchema": true,
       "metadata": {},
       "overflow": false,
       "plotOptions": {
        "customPlotOptions": {},
        "displayType": "table",
        "pivotAggregation": null,
        "pivotColumns": null,
        "xColumns": null,
        "yColumns": null
       },
       "removedWidgets": [],
       "schema": [
        {
         "metadata": "{}",
         "name": "Film",
         "type": "\"string\""
        },
        {
         "metadata": "{}",
         "name": "Year",
         "type": "\"integer\""
        },
        {
         "metadata": "{}",
         "name": "Actor",
         "type": "\"string\""
        },
        {
         "metadata": "{}",
         "name": "Director",
         "type": "\"string\""
        },
        {
         "metadata": "{}",
         "name": "Box Office",
         "type": "\"double\""
        },
        {
         "metadata": "{}",
         "name": "Budget",
         "type": "\"double\""
        },
        {
         "metadata": "{}",
         "name": "Bond Actor Salary",
         "type": "\"double\""
        }
       ],
       "type": "table"
      }
     },
     "output_type": "display_data"
    }
   ],
   "source": [
    "# PySpark Filter like()\n",
    "\n",
    "df.filter(df.Year.like(\"%81\")).display()"
   ]
  },
  {
   "cell_type": "code",
   "execution_count": 0,
   "metadata": {
    "application/vnd.databricks.v1+cell": {
     "cellMetadata": {
      "byteLimit": 2048000,
      "rowLimit": 10000
     },
     "inputWidgets": {},
     "nuid": "3d6d88e9-40ce-4f19-a5e5-b96b5f1c7061",
     "showTitle": false,
     "title": ""
    }
   },
   "outputs": [
    {
     "output_type": "display_data",
     "data": {
      "text/html": [
       "<style scoped>\n",
       "  .table-result-container {\n",
       "    max-height: 300px;\n",
       "    overflow: auto;\n",
       "  }\n",
       "  table, th, td {\n",
       "    border: 1px solid black;\n",
       "    border-collapse: collapse;\n",
       "  }\n",
       "  th, td {\n",
       "    padding: 5px;\n",
       "  }\n",
       "  th {\n",
       "    text-align: left;\n",
       "  }\n",
       "</style><div class='table-result-container'><table class='table-result'><thead style='background-color: white'><tr><th>Actor</th><th>count</th></tr></thead><tbody><tr><td>George Lazenby</td><td>1</td></tr><tr><td>David Niven</td><td>1</td></tr><tr><td>Timothy Dalton</td><td>2</td></tr><tr><td>Daniel Craig</td><td>4</td></tr><tr><td>Pierce Brosnan</td><td>4</td></tr><tr><td>Sean Connery</td><td>7</td></tr><tr><td>Roger Moore</td><td>7</td></tr></tbody></table></div>"
      ]
     },
     "metadata": {
      "application/vnd.databricks.v1+output": {
       "addedWidgets": {},
       "aggData": [],
       "aggError": "",
       "aggOverflow": false,
       "aggSchema": [],
       "aggSeriesLimitReached": false,
       "aggType": "",
       "arguments": {},
       "columnCustomDisplayInfos": {},
       "data": [
        [
         "George Lazenby",
         1
        ],
        [
         "David Niven",
         1
        ],
        [
         "Timothy Dalton",
         2
        ],
        [
         "Daniel Craig",
         4
        ],
        [
         "Pierce Brosnan",
         4
        ],
        [
         "Sean Connery",
         7
        ],
        [
         "Roger Moore",
         7
        ]
       ],
       "datasetInfos": [],
       "dbfsResultPath": null,
       "isJsonSchema": true,
       "metadata": {},
       "overflow": false,
       "plotOptions": {
        "customPlotOptions": {},
        "displayType": "table",
        "pivotAggregation": null,
        "pivotColumns": null,
        "xColumns": null,
        "yColumns": null
       },
       "removedWidgets": [],
       "schema": [
        {
         "metadata": "{}",
         "name": "Actor",
         "type": "\"string\""
        },
        {
         "metadata": "{}",
         "name": "count",
         "type": "\"long\""
        }
       ],
       "type": "table"
      }
     },
     "output_type": "display_data"
    }
   ],
   "source": [
    "from pyspark.sql.functions import asc,desc\n",
    "df.groupBy(df.Actor).count().alias(\"count\").sort(asc (\"count\")).display()"
   ]
  },
  {
   "cell_type": "code",
   "execution_count": 0,
   "metadata": {
    "application/vnd.databricks.v1+cell": {
     "cellMetadata": {
      "byteLimit": 2048000,
      "rowLimit": 10000
     },
     "inputWidgets": {},
     "nuid": "332a8aa8-9f29-4217-9f48-3173ad240c63",
     "showTitle": false,
     "title": ""
    }
   },
   "outputs": [
    {
     "output_type": "display_data",
     "data": {
      "text/html": [
       "<style scoped>\n",
       "  .table-result-container {\n",
       "    max-height: 300px;\n",
       "    overflow: auto;\n",
       "  }\n",
       "  table, th, td {\n",
       "    border: 1px solid black;\n",
       "    border-collapse: collapse;\n",
       "  }\n",
       "  th, td {\n",
       "    padding: 5px;\n",
       "  }\n",
       "  th {\n",
       "    text-align: left;\n",
       "  }\n",
       "</style><div class='table-result-container'><table class='table-result'><thead style='background-color: white'><tr><th>Actor</th><th>maximum</th></tr></thead><tbody><tr><td>George Lazenby</td><td>37.3</td></tr><tr><td>Sean Connery</td><td>86.0</td></tr><tr><td>Roger Moore</td><td>91.5</td></tr><tr><td>David Niven</td><td>85.0</td></tr><tr><td>Daniel Craig</td><td>206.3</td></tr><tr><td>Timothy Dalton</td><td>68.8</td></tr><tr><td>Pierce Brosnan</td><td>158.3</td></tr></tbody></table></div>"
      ]
     },
     "metadata": {
      "application/vnd.databricks.v1+output": {
       "addedWidgets": {},
       "aggData": [],
       "aggError": "",
       "aggOverflow": false,
       "aggSchema": [],
       "aggSeriesLimitReached": false,
       "aggType": "",
       "arguments": {},
       "columnCustomDisplayInfos": {},
       "data": [
        [
         "George Lazenby",
         37.3
        ],
        [
         "Sean Connery",
         86.0
        ],
        [
         "Roger Moore",
         91.5
        ],
        [
         "David Niven",
         85.0
        ],
        [
         "Daniel Craig",
         206.3
        ],
        [
         "Timothy Dalton",
         68.8
        ],
        [
         "Pierce Brosnan",
         158.3
        ]
       ],
       "datasetInfos": [],
       "dbfsResultPath": null,
       "isJsonSchema": true,
       "metadata": {},
       "overflow": false,
       "plotOptions": {
        "customPlotOptions": {},
        "displayType": "table",
        "pivotAggregation": null,
        "pivotColumns": null,
        "xColumns": null,
        "yColumns": null
       },
       "removedWidgets": [],
       "schema": [
        {
         "metadata": "{}",
         "name": "Actor",
         "type": "\"string\""
        },
        {
         "metadata": "{}",
         "name": "maximum",
         "type": "\"double\""
        }
       ],
       "type": "table"
      }
     },
     "output_type": "display_data"
    }
   ],
   "source": [
    "df.groupBy(df.Actor).agg(max(\"Budget\").alias(\"maximum\")).display()"
   ]
  },
  {
   "cell_type": "code",
   "execution_count": 0,
   "metadata": {
    "application/vnd.databricks.v1+cell": {
     "cellMetadata": {
      "byteLimit": 2048000,
      "rowLimit": 10000
     },
     "inputWidgets": {},
     "nuid": "689912c1-f1bd-4dff-80ab-efef923fab21",
     "showTitle": false,
     "title": ""
    }
   },
   "outputs": [
    {
     "output_type": "display_data",
     "data": {
      "text/html": [
       "<style scoped>\n",
       "  .table-result-container {\n",
       "    max-height: 300px;\n",
       "    overflow: auto;\n",
       "  }\n",
       "  table, th, td {\n",
       "    border: 1px solid black;\n",
       "    border-collapse: collapse;\n",
       "  }\n",
       "  th, td {\n",
       "    padding: 5px;\n",
       "  }\n",
       "  th {\n",
       "    text-align: left;\n",
       "  }\n",
       "</style><div class='table-result-container'><table class='table-result'><thead style='background-color: white'><tr><th>Amount</th></tr></thead><tbody><tr><td>206.3</td></tr><tr><td>181.4</td></tr><tr><td>170.2</td></tr><tr><td>158.3</td></tr><tr><td>154.2</td></tr><tr><td>145.3</td></tr><tr><td>133.9</td></tr><tr><td>91.5</td></tr><tr><td>86.0</td></tr><tr><td>85.0</td></tr><tr><td>76.9</td></tr><tr><td>68.8</td></tr><tr><td>60.2</td></tr><tr><td>59.9</td></tr><tr><td>56.7</td></tr><tr><td>54.5</td></tr><tr><td>53.9</td></tr><tr><td>45.1</td></tr><tr><td>41.9</td></tr><tr><td>37.3</td></tr><tr><td>34.7</td></tr><tr><td>30.8</td></tr><tr><td>27.7</td></tr><tr><td>18.6</td></tr><tr><td>12.6</td></tr><tr><td>7.0</td></tr></tbody></table></div>"
      ]
     },
     "metadata": {
      "application/vnd.databricks.v1+output": {
       "addedWidgets": {},
       "aggData": [],
       "aggError": "",
       "aggOverflow": false,
       "aggSchema": [],
       "aggSeriesLimitReached": false,
       "aggType": "",
       "arguments": {},
       "columnCustomDisplayInfos": {},
       "data": [
        [
         206.3
        ],
        [
         181.4
        ],
        [
         170.2
        ],
        [
         158.3
        ],
        [
         154.2
        ],
        [
         145.3
        ],
        [
         133.9
        ],
        [
         91.5
        ],
        [
         86.0
        ],
        [
         85.0
        ],
        [
         76.9
        ],
        [
         68.8
        ],
        [
         60.2
        ],
        [
         59.9
        ],
        [
         56.7
        ],
        [
         54.5
        ],
        [
         53.9
        ],
        [
         45.1
        ],
        [
         41.9
        ],
        [
         37.3
        ],
        [
         34.7
        ],
        [
         30.8
        ],
        [
         27.7
        ],
        [
         18.6
        ],
        [
         12.6
        ],
        [
         7.0
        ]
       ],
       "datasetInfos": [],
       "dbfsResultPath": null,
       "isJsonSchema": true,
       "metadata": {},
       "overflow": false,
       "plotOptions": {
        "customPlotOptions": {},
        "displayType": "table",
        "pivotAggregation": null,
        "pivotColumns": null,
        "xColumns": null,
        "yColumns": null
       },
       "removedWidgets": [],
       "schema": [
        {
         "metadata": "{}",
         "name": "Amount",
         "type": "\"double\""
        }
       ],
       "type": "table"
      }
     },
     "output_type": "display_data"
    }
   ],
   "source": [
    "df.select(df.Budget.alias(\"Amount\")).sort(desc (\"Amount\")).display()"
   ]
  },
  {
   "cell_type": "code",
   "execution_count": 0,
   "metadata": {
    "application/vnd.databricks.v1+cell": {
     "cellMetadata": {},
     "inputWidgets": {},
     "nuid": "9b7f935c-ef93-42b4-8d96-b04fac74057d",
     "showTitle": false,
     "title": ""
    }
   },
   "outputs": [],
   "source": []
  }
 ],
 "metadata": {
  "application/vnd.databricks.v1+notebook": {
   "dashboards": [],
   "language": "python",
   "notebookMetadata": {
    "pythonIndentUnit": 2
   },
   "notebookName": "Basics",
   "widgets": {}
  }
 },
 "nbformat": 4,
 "nbformat_minor": 0
}
