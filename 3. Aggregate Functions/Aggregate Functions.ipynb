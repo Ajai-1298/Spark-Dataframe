{
 "cells": [
  {
   "cell_type": "markdown",
   "metadata": {
    "application/vnd.databricks.v1+cell": {
     "cellMetadata": {},
     "inputWidgets": {},
     "nuid": "cd37c414-20b6-49a1-aaa7-03216b46a1b7",
     "showTitle": false,
     "title": ""
    }
   },
   "source": [
    "###Aggregate Functions\n",
    "Aggregate functions in PySpark are functions that operate on a group of rows and return a single value. These functions are used in Spark SQL queries to summarize and \n",
    "analyze data.\n",
    "1. SUM()       -> This function returns the sum of the values in a specified column.\n",
    "2. COUNT()     -> This function returns the number of rows in a specified column.\n",
    "3. AVG()       -> This function returns the average value of a specified column.\n",
    "4. MAX()       -> This function returns the maximum value in a specified column.\n",
    "5. MIN()       -> This function returns the minimum value in a specified column.\n",
    "6. GROUP BY()  ->This function groups the data by one or more columns and then applies an aggregate function to each group."
   ]
  },
  {
   "cell_type": "code",
   "execution_count": 0,
   "metadata": {
    "application/vnd.databricks.v1+cell": {
     "cellMetadata": {
      "byteLimit": 2048000,
      "rowLimit": 10000
     },
     "inputWidgets": {},
     "nuid": "3e658a9e-4fb5-405b-969a-fadfdf1222ad",
     "showTitle": false,
     "title": ""
    }
   },
   "outputs": [
    {
     "output_type": "display_data",
     "data": {
      "text/html": [
       "<style scoped>\n",
       "  .table-result-container {\n",
       "    max-height: 300px;\n",
       "    overflow: auto;\n",
       "  }\n",
       "  table, th, td {\n",
       "    border: 1px solid black;\n",
       "    border-collapse: collapse;\n",
       "  }\n",
       "  th, td {\n",
       "    padding: 5px;\n",
       "  }\n",
       "  th {\n",
       "    text-align: left;\n",
       "  }\n",
       "</style><div class='table-result-container'><table class='table-result'><thead style='background-color: white'><tr><th>First Name</th><th>Gender</th><th>Start Date</th><th>Last Login Time</th><th>Salary</th><th>Bonus %</th><th>Senior Management</th><th>Team</th></tr></thead><tbody><tr><td>Douglas</td><td>Male</td><td>1993-08-06</td><td>12:42 PM</td><td>97308</td><td>6.945</td><td>true</td><td>Marketing</td></tr><tr><td>Thomas</td><td>Male</td><td>1996-03-31</td><td>6:53 AM</td><td>61933</td><td>4.17</td><td>true</td><td>null</td></tr><tr><td>Maria</td><td>Female</td><td>1993-04-23</td><td>11:17 AM</td><td>130590</td><td>11.858</td><td>false</td><td>Finance</td></tr><tr><td>Jerry</td><td>Male</td><td>2005-03-04</td><td>1:00 PM</td><td>138705</td><td>9.34</td><td>true</td><td>Finance</td></tr><tr><td>Larry</td><td>Male</td><td>1998-01-24</td><td>4:47 PM</td><td>101004</td><td>1.389</td><td>true</td><td>Client Services</td></tr><tr><td>Dennis</td><td>Male</td><td>1987-04-18</td><td>1:35 AM</td><td>115163</td><td>10.125</td><td>false</td><td>Legal</td></tr><tr><td>Ruby</td><td>Female</td><td>1987-08-17</td><td>4:20 PM</td><td>65476</td><td>10.012</td><td>true</td><td>Product</td></tr><tr><td>null</td><td>Female</td><td>2015-07-20</td><td>10:43 AM</td><td>45906</td><td>11.598</td><td>null</td><td>Finance</td></tr><tr><td>Angela</td><td>Female</td><td>2005-11-22</td><td>6:29 AM</td><td>95570</td><td>18.523</td><td>true</td><td>Engineering</td></tr><tr><td>Frances</td><td>Female</td><td>2002-08-08</td><td>6:51 AM</td><td>139852</td><td>7.524</td><td>true</td><td>Business Development</td></tr></tbody></table></div>"
      ]
     },
     "metadata": {
      "application/vnd.databricks.v1+output": {
       "addedWidgets": {},
       "aggData": [],
       "aggError": "",
       "aggOverflow": false,
       "aggSchema": [],
       "aggSeriesLimitReached": false,
       "aggType": "",
       "arguments": {},
       "columnCustomDisplayInfos": {},
       "data": [
        [
         "Douglas",
         "Male",
         "1993-08-06",
         "12:42 PM",
         97308,
         6.945,
         true,
         "Marketing"
        ],
        [
         "Thomas",
         "Male",
         "1996-03-31",
         "6:53 AM",
         61933,
         4.17,
         true,
         null
        ],
        [
         "Maria",
         "Female",
         "1993-04-23",
         "11:17 AM",
         130590,
         11.858,
         false,
         "Finance"
        ],
        [
         "Jerry",
         "Male",
         "2005-03-04",
         "1:00 PM",
         138705,
         9.34,
         true,
         "Finance"
        ],
        [
         "Larry",
         "Male",
         "1998-01-24",
         "4:47 PM",
         101004,
         1.389,
         true,
         "Client Services"
        ],
        [
         "Dennis",
         "Male",
         "1987-04-18",
         "1:35 AM",
         115163,
         10.125,
         false,
         "Legal"
        ],
        [
         "Ruby",
         "Female",
         "1987-08-17",
         "4:20 PM",
         65476,
         10.012,
         true,
         "Product"
        ],
        [
         null,
         "Female",
         "2015-07-20",
         "10:43 AM",
         45906,
         11.598,
         null,
         "Finance"
        ],
        [
         "Angela",
         "Female",
         "2005-11-22",
         "6:29 AM",
         95570,
         18.523,
         true,
         "Engineering"
        ],
        [
         "Frances",
         "Female",
         "2002-08-08",
         "6:51 AM",
         139852,
         7.524,
         true,
         "Business Development"
        ]
       ],
       "datasetInfos": [],
       "dbfsResultPath": null,
       "isJsonSchema": true,
       "metadata": {},
       "overflow": false,
       "plotOptions": {
        "customPlotOptions": {},
        "displayType": "table",
        "pivotAggregation": null,
        "pivotColumns": null,
        "xColumns": null,
        "yColumns": null
       },
       "removedWidgets": [],
       "schema": [
        {
         "metadata": "{}",
         "name": "First Name",
         "type": "\"string\""
        },
        {
         "metadata": "{}",
         "name": "Gender",
         "type": "\"string\""
        },
        {
         "metadata": "{\"__detected_date_formats\":\"M/d/yyyy\"}",
         "name": "Start Date",
         "type": "\"date\""
        },
        {
         "metadata": "{}",
         "name": "Last Login Time",
         "type": "\"string\""
        },
        {
         "metadata": "{}",
         "name": "Salary",
         "type": "\"integer\""
        },
        {
         "metadata": "{}",
         "name": "Bonus %",
         "type": "\"double\""
        },
        {
         "metadata": "{}",
         "name": "Senior Management",
         "type": "\"boolean\""
        },
        {
         "metadata": "{}",
         "name": "Team",
         "type": "\"string\""
        }
       ],
       "type": "table"
      }
     },
     "output_type": "display_data"
    }
   ],
   "source": [
    "df = (\n",
    "    spark.read.format(\"csv\")\n",
    "    .option(\"header\", True)\n",
    "    .option(\"inferSchema\", True)\n",
    "    .load(\"/FileStore/tables/employees.csv\")\n",
    ")\n",
    "df.limit(10).display()"
   ]
  },
  {
   "cell_type": "code",
   "execution_count": 0,
   "metadata": {
    "application/vnd.databricks.v1+cell": {
     "cellMetadata": {
      "byteLimit": 2048000,
      "rowLimit": 10000
     },
     "inputWidgets": {},
     "nuid": "1f3e7c13-e01c-40b7-a127-512ee35c0871",
     "showTitle": false,
     "title": ""
    }
   },
   "outputs": [],
   "source": [
    "from pyspark.sql.functions import asc, desc, count, max, min, avg, sum"
   ]
  },
  {
   "cell_type": "code",
   "execution_count": 0,
   "metadata": {
    "application/vnd.databricks.v1+cell": {
     "cellMetadata": {
      "byteLimit": 2048000,
      "rowLimit": 10000
     },
     "inputWidgets": {},
     "nuid": "9db46df8-77a7-4c87-b355-47ea9406946f",
     "showTitle": false,
     "title": ""
    }
   },
   "outputs": [
    {
     "output_type": "display_data",
     "data": {
      "text/html": [
       "<style scoped>\n",
       "  .table-result-container {\n",
       "    max-height: 300px;\n",
       "    overflow: auto;\n",
       "  }\n",
       "  table, th, td {\n",
       "    border: 1px solid black;\n",
       "    border-collapse: collapse;\n",
       "  }\n",
       "  th, td {\n",
       "    padding: 5px;\n",
       "  }\n",
       "  th {\n",
       "    text-align: left;\n",
       "  }\n",
       "</style><div class='table-result-container'><table class='table-result'><thead style='background-color: white'><tr><th>max(salary)</th></tr></thead><tbody><tr><td>149908</td></tr></tbody></table></div>"
      ]
     },
     "metadata": {
      "application/vnd.databricks.v1+output": {
       "addedWidgets": {},
       "aggData": [],
       "aggError": "",
       "aggOverflow": false,
       "aggSchema": [],
       "aggSeriesLimitReached": false,
       "aggType": "",
       "arguments": {},
       "columnCustomDisplayInfos": {},
       "data": [
        [
         149908
        ]
       ],
       "datasetInfos": [],
       "dbfsResultPath": null,
       "isJsonSchema": true,
       "metadata": {},
       "overflow": false,
       "plotOptions": {
        "customPlotOptions": {},
        "displayType": "table",
        "pivotAggregation": null,
        "pivotColumns": null,
        "xColumns": null,
        "yColumns": null
       },
       "removedWidgets": [],
       "schema": [
        {
         "metadata": "{}",
         "name": "max(salary)",
         "type": "\"integer\""
        }
       ],
       "type": "table"
      }
     },
     "output_type": "display_data"
    }
   ],
   "source": [
    "# max()\n",
    "df.select(max(\"salary\")).display()"
   ]
  },
  {
   "cell_type": "code",
   "execution_count": 0,
   "metadata": {
    "application/vnd.databricks.v1+cell": {
     "cellMetadata": {
      "byteLimit": 2048000,
      "rowLimit": 10000
     },
     "inputWidgets": {},
     "nuid": "bac5fd30-0e23-49a7-adab-b2a2eb6a09d7",
     "showTitle": false,
     "title": ""
    }
   },
   "outputs": [
    {
     "output_type": "display_data",
     "data": {
      "text/html": [
       "<style scoped>\n",
       "  .table-result-container {\n",
       "    max-height: 300px;\n",
       "    overflow: auto;\n",
       "  }\n",
       "  table, th, td {\n",
       "    border: 1px solid black;\n",
       "    border-collapse: collapse;\n",
       "  }\n",
       "  th, td {\n",
       "    padding: 5px;\n",
       "  }\n",
       "  th {\n",
       "    text-align: left;\n",
       "  }\n",
       "</style><div class='table-result-container'><table class='table-result'><thead style='background-color: white'><tr><th>min(salary)</th></tr></thead><tbody><tr><td>35013</td></tr></tbody></table></div>"
      ]
     },
     "metadata": {
      "application/vnd.databricks.v1+output": {
       "addedWidgets": {},
       "aggData": [],
       "aggError": "",
       "aggOverflow": false,
       "aggSchema": [],
       "aggSeriesLimitReached": false,
       "aggType": "",
       "arguments": {},
       "columnCustomDisplayInfos": {},
       "data": [
        [
         35013
        ]
       ],
       "datasetInfos": [],
       "dbfsResultPath": null,
       "isJsonSchema": true,
       "metadata": {},
       "overflow": false,
       "plotOptions": {
        "customPlotOptions": {},
        "displayType": "table",
        "pivotAggregation": null,
        "pivotColumns": null,
        "xColumns": null,
        "yColumns": null
       },
       "removedWidgets": [],
       "schema": [
        {
         "metadata": "{}",
         "name": "min(salary)",
         "type": "\"integer\""
        }
       ],
       "type": "table"
      }
     },
     "output_type": "display_data"
    }
   ],
   "source": [
    "# min()\n",
    "df.select(min(\"salary\")).display()"
   ]
  },
  {
   "cell_type": "code",
   "execution_count": 0,
   "metadata": {
    "application/vnd.databricks.v1+cell": {
     "cellMetadata": {
      "byteLimit": 2048000,
      "rowLimit": 10000
     },
     "inputWidgets": {},
     "nuid": "2d4475d5-827e-40e6-aa61-a3ebac5e51a9",
     "showTitle": false,
     "title": ""
    }
   },
   "outputs": [
    {
     "output_type": "display_data",
     "data": {
      "text/html": [
       "<style scoped>\n",
       "  .table-result-container {\n",
       "    max-height: 300px;\n",
       "    overflow: auto;\n",
       "  }\n",
       "  table, th, td {\n",
       "    border: 1px solid black;\n",
       "    border-collapse: collapse;\n",
       "  }\n",
       "  th, td {\n",
       "    padding: 5px;\n",
       "  }\n",
       "  th {\n",
       "    text-align: left;\n",
       "  }\n",
       "</style><div class='table-result-container'><table class='table-result'><thead style='background-color: white'><tr><th>sum(Bonus %)</th></tr></thead><tbody><tr><td>10207.554999999998</td></tr></tbody></table></div>"
      ]
     },
     "metadata": {
      "application/vnd.databricks.v1+output": {
       "addedWidgets": {},
       "aggData": [],
       "aggError": "",
       "aggOverflow": false,
       "aggSchema": [],
       "aggSeriesLimitReached": false,
       "aggType": "",
       "arguments": {},
       "columnCustomDisplayInfos": {},
       "data": [
        [
         10207.554999999998
        ]
       ],
       "datasetInfos": [],
       "dbfsResultPath": null,
       "isJsonSchema": true,
       "metadata": {},
       "overflow": false,
       "plotOptions": {
        "customPlotOptions": {},
        "displayType": "table",
        "pivotAggregation": null,
        "pivotColumns": null,
        "xColumns": null,
        "yColumns": null
       },
       "removedWidgets": [],
       "schema": [
        {
         "metadata": "{}",
         "name": "sum(Bonus %)",
         "type": "\"double\""
        }
       ],
       "type": "table"
      }
     },
     "output_type": "display_data"
    }
   ],
   "source": [
    "# sum()\n",
    "df.select(sum(\"Bonus %\")).display()"
   ]
  },
  {
   "cell_type": "code",
   "execution_count": 0,
   "metadata": {
    "application/vnd.databricks.v1+cell": {
     "cellMetadata": {
      "byteLimit": 2048000,
      "rowLimit": 10000
     },
     "inputWidgets": {},
     "nuid": "306e7993-c4a2-452f-8ce2-4123325aa475",
     "showTitle": false,
     "title": ""
    }
   },
   "outputs": [
    {
     "output_type": "display_data",
     "data": {
      "text/html": [
       "<style scoped>\n",
       "  .table-result-container {\n",
       "    max-height: 300px;\n",
       "    overflow: auto;\n",
       "  }\n",
       "  table, th, td {\n",
       "    border: 1px solid black;\n",
       "    border-collapse: collapse;\n",
       "  }\n",
       "  th, td {\n",
       "    padding: 5px;\n",
       "  }\n",
       "  th {\n",
       "    text-align: left;\n",
       "  }\n",
       "</style><div class='table-result-container'><table class='table-result'><thead style='background-color: white'><tr><th>count(1)</th></tr></thead><tbody><tr><td>1000</td></tr></tbody></table></div>"
      ]
     },
     "metadata": {
      "application/vnd.databricks.v1+output": {
       "addedWidgets": {},
       "aggData": [],
       "aggError": "",
       "aggOverflow": false,
       "aggSchema": [],
       "aggSeriesLimitReached": false,
       "aggType": "",
       "arguments": {},
       "columnCustomDisplayInfos": {},
       "data": [
        [
         1000
        ]
       ],
       "datasetInfos": [],
       "dbfsResultPath": null,
       "isJsonSchema": true,
       "metadata": {},
       "overflow": false,
       "plotOptions": {
        "customPlotOptions": {},
        "displayType": "table",
        "pivotAggregation": null,
        "pivotColumns": null,
        "xColumns": null,
        "yColumns": null
       },
       "removedWidgets": [],
       "schema": [
        {
         "metadata": "{}",
         "name": "count(1)",
         "type": "\"long\""
        }
       ],
       "type": "table"
      }
     },
     "output_type": "display_data"
    }
   ],
   "source": [
    "# count()\n",
    "df.select(count(\"*\")).display()"
   ]
  },
  {
   "cell_type": "code",
   "execution_count": 0,
   "metadata": {
    "application/vnd.databricks.v1+cell": {
     "cellMetadata": {
      "byteLimit": 2048000,
      "rowLimit": 10000
     },
     "inputWidgets": {},
     "nuid": "4526e924-f895-4865-bf54-bd8847104295",
     "showTitle": false,
     "title": ""
    }
   },
   "outputs": [
    {
     "output_type": "display_data",
     "data": {
      "text/html": [
       "<style scoped>\n",
       "  .table-result-container {\n",
       "    max-height: 300px;\n",
       "    overflow: auto;\n",
       "  }\n",
       "  table, th, td {\n",
       "    border: 1px solid black;\n",
       "    border-collapse: collapse;\n",
       "  }\n",
       "  th, td {\n",
       "    padding: 5px;\n",
       "  }\n",
       "  th {\n",
       "    text-align: left;\n",
       "  }\n",
       "</style><div class='table-result-container'><table class='table-result'><thead style='background-color: white'><tr><th>avg(salary)</th></tr></thead><tbody><tr><td>90662.181</td></tr></tbody></table></div>"
      ]
     },
     "metadata": {
      "application/vnd.databricks.v1+output": {
       "addedWidgets": {},
       "aggData": [],
       "aggError": "",
       "aggOverflow": false,
       "aggSchema": [],
       "aggSeriesLimitReached": false,
       "aggType": "",
       "arguments": {},
       "columnCustomDisplayInfos": {},
       "data": [
        [
         90662.181
        ]
       ],
       "datasetInfos": [],
       "dbfsResultPath": null,
       "isJsonSchema": true,
       "metadata": {},
       "overflow": false,
       "plotOptions": {
        "customPlotOptions": {},
        "displayType": "table",
        "pivotAggregation": null,
        "pivotColumns": null,
        "xColumns": null,
        "yColumns": null
       },
       "removedWidgets": [],
       "schema": [
        {
         "metadata": "{}",
         "name": "avg(salary)",
         "type": "\"double\""
        }
       ],
       "type": "table"
      }
     },
     "output_type": "display_data"
    }
   ],
   "source": [
    "# avg()\n",
    "df.select(avg(\"salary\")).display()"
   ]
  },
  {
   "cell_type": "code",
   "execution_count": 0,
   "metadata": {
    "application/vnd.databricks.v1+cell": {
     "cellMetadata": {
      "byteLimit": 2048000,
      "rowLimit": 10000
     },
     "inputWidgets": {},
     "nuid": "183b8741-f108-4ce0-89d3-bd16da181ef0",
     "showTitle": false,
     "title": ""
    }
   },
   "outputs": [
    {
     "output_type": "display_data",
     "data": {
      "text/html": [
       "<style scoped>\n",
       "  .table-result-container {\n",
       "    max-height: 300px;\n",
       "    overflow: auto;\n",
       "  }\n",
       "  table, th, td {\n",
       "    border: 1px solid black;\n",
       "    border-collapse: collapse;\n",
       "  }\n",
       "  th, td {\n",
       "    padding: 5px;\n",
       "  }\n",
       "  th {\n",
       "    text-align: left;\n",
       "  }\n",
       "</style><div class='table-result-container'><table class='table-result'><thead style='background-color: white'><tr><th>Team</th><th>count</th></tr></thead><tbody><tr><td>Sales</td><td>94</td></tr><tr><td>Engineering</td><td>92</td></tr><tr><td>null</td><td>43</td></tr><tr><td>Business Development</td><td>101</td></tr><tr><td>Finance</td><td>102</td></tr><tr><td>Client Services</td><td>106</td></tr><tr><td>Distribution</td><td>90</td></tr><tr><td>Legal</td><td>88</td></tr><tr><td>Marketing</td><td>98</td></tr><tr><td>Product</td><td>95</td></tr><tr><td>Human Resources</td><td>91</td></tr></tbody></table></div>"
      ]
     },
     "metadata": {
      "application/vnd.databricks.v1+output": {
       "addedWidgets": {},
       "aggData": [],
       "aggError": "",
       "aggOverflow": false,
       "aggSchema": [],
       "aggSeriesLimitReached": false,
       "aggType": "",
       "arguments": {},
       "columnCustomDisplayInfos": {},
       "data": [
        [
         "Sales",
         94
        ],
        [
         "Engineering",
         92
        ],
        [
         null,
         43
        ],
        [
         "Business Development",
         101
        ],
        [
         "Finance",
         102
        ],
        [
         "Client Services",
         106
        ],
        [
         "Distribution",
         90
        ],
        [
         "Legal",
         88
        ],
        [
         "Marketing",
         98
        ],
        [
         "Product",
         95
        ],
        [
         "Human Resources",
         91
        ]
       ],
       "datasetInfos": [],
       "dbfsResultPath": null,
       "isJsonSchema": true,
       "metadata": {},
       "overflow": false,
       "plotOptions": {
        "customPlotOptions": {},
        "displayType": "table",
        "pivotAggregation": null,
        "pivotColumns": null,
        "xColumns": null,
        "yColumns": null
       },
       "removedWidgets": [],
       "schema": [
        {
         "metadata": "{}",
         "name": "Team",
         "type": "\"string\""
        },
        {
         "metadata": "{}",
         "name": "count",
         "type": "\"long\""
        }
       ],
       "type": "table"
      }
     },
     "output_type": "display_data"
    }
   ],
   "source": [
    "# groupBy()\n",
    "df.groupBy(\"Team\").count().display()"
   ]
  },
  {
   "cell_type": "markdown",
   "metadata": {
    "application/vnd.databricks.v1+cell": {
     "cellMetadata": {},
     "inputWidgets": {},
     "nuid": "abbb8027-0e11-4927-9e3f-c57515aff33e",
     "showTitle": false,
     "title": ""
    }
   },
   "source": [
    "#### *To find out the number of Male and Female working in the respective teams.*"
   ]
  },
  {
   "cell_type": "code",
   "execution_count": 0,
   "metadata": {
    "application/vnd.databricks.v1+cell": {
     "cellMetadata": {
      "byteLimit": 2048000,
      "rowLimit": 10000
     },
     "inputWidgets": {},
     "nuid": "e341e183-0b4a-4aa2-be1e-b68f4d06f2f8",
     "showTitle": false,
     "title": ""
    }
   },
   "outputs": [
    {
     "output_type": "display_data",
     "data": {
      "text/html": [
       "<style scoped>\n",
       "  .table-result-container {\n",
       "    max-height: 300px;\n",
       "    overflow: auto;\n",
       "  }\n",
       "  table, th, td {\n",
       "    border: 1px solid black;\n",
       "    border-collapse: collapse;\n",
       "  }\n",
       "  th, td {\n",
       "    padding: 5px;\n",
       "  }\n",
       "  th {\n",
       "    text-align: left;\n",
       "  }\n",
       "</style><div class='table-result-container'><table class='table-result'><thead style='background-color: white'><tr><th>Gender</th><th>Team</th><th>count</th></tr></thead><tbody><tr><td>Female</td><td>Legal</td><td>34</td></tr><tr><td>null</td><td>Sales</td><td>16</td></tr><tr><td>Female</td><td>Client Services</td><td>48</td></tr><tr><td>Female</td><td>Sales</td><td>39</td></tr><tr><td>null</td><td>Engineering</td><td>8</td></tr><tr><td>Female</td><td>Distribution</td><td>37</td></tr><tr><td>null</td><td>null</td><td>4</td></tr><tr><td>null</td><td>Business Development</td><td>11</td></tr><tr><td>null</td><td>Finance</td><td>17</td></tr><tr><td>Female</td><td>null</td><td>13</td></tr><tr><td>null</td><td>Client Services</td><td>16</td></tr><tr><td>null</td><td>Distribution</td><td>18</td></tr><tr><td>Male</td><td>Legal</td><td>35</td></tr><tr><td>Male</td><td>Product</td><td>40</td></tr><tr><td>Male</td><td>Marketing</td><td>41</td></tr><tr><td>null</td><td>Legal</td><td>19</td></tr><tr><td>Male</td><td>Finance</td><td>41</td></tr><tr><td>Female</td><td>Marketing</td><td>40</td></tr><tr><td>null</td><td>Marketing</td><td>17</td></tr><tr><td>Male</td><td>Human Resources</td><td>45</td></tr><tr><td>Female</td><td>Human Resources</td><td>37</td></tr><tr><td>Male</td><td>Engineering</td><td>40</td></tr><tr><td>Male</td><td>Client Services</td><td>42</td></tr><tr><td>Male</td><td>Business Development</td><td>40</td></tr><tr><td>Female</td><td>Product</td><td>45</td></tr><tr><td>Male</td><td>null</td><td>26</td></tr><tr><td>null</td><td>Product</td><td>10</td></tr><tr><td>Female</td><td>Finance</td><td>44</td></tr><tr><td>Male</td><td>Sales</td><td>39</td></tr><tr><td>Female</td><td>Engineering</td><td>44</td></tr><tr><td>Female</td><td>Business Development</td><td>50</td></tr><tr><td>Male</td><td>Distribution</td><td>35</td></tr><tr><td>null</td><td>Human Resources</td><td>9</td></tr></tbody></table></div>"
      ]
     },
     "metadata": {
      "application/vnd.databricks.v1+output": {
       "addedWidgets": {},
       "aggData": [],
       "aggError": "",
       "aggOverflow": false,
       "aggSchema": [],
       "aggSeriesLimitReached": false,
       "aggType": "",
       "arguments": {},
       "columnCustomDisplayInfos": {},
       "data": [
        [
         "Female",
         "Legal",
         34
        ],
        [
         null,
         "Sales",
         16
        ],
        [
         "Female",
         "Client Services",
         48
        ],
        [
         "Female",
         "Sales",
         39
        ],
        [
         null,
         "Engineering",
         8
        ],
        [
         "Female",
         "Distribution",
         37
        ],
        [
         null,
         null,
         4
        ],
        [
         null,
         "Business Development",
         11
        ],
        [
         null,
         "Finance",
         17
        ],
        [
         "Female",
         null,
         13
        ],
        [
         null,
         "Client Services",
         16
        ],
        [
         null,
         "Distribution",
         18
        ],
        [
         "Male",
         "Legal",
         35
        ],
        [
         "Male",
         "Product",
         40
        ],
        [
         "Male",
         "Marketing",
         41
        ],
        [
         null,
         "Legal",
         19
        ],
        [
         "Male",
         "Finance",
         41
        ],
        [
         "Female",
         "Marketing",
         40
        ],
        [
         null,
         "Marketing",
         17
        ],
        [
         "Male",
         "Human Resources",
         45
        ],
        [
         "Female",
         "Human Resources",
         37
        ],
        [
         "Male",
         "Engineering",
         40
        ],
        [
         "Male",
         "Client Services",
         42
        ],
        [
         "Male",
         "Business Development",
         40
        ],
        [
         "Female",
         "Product",
         45
        ],
        [
         "Male",
         null,
         26
        ],
        [
         null,
         "Product",
         10
        ],
        [
         "Female",
         "Finance",
         44
        ],
        [
         "Male",
         "Sales",
         39
        ],
        [
         "Female",
         "Engineering",
         44
        ],
        [
         "Female",
         "Business Development",
         50
        ],
        [
         "Male",
         "Distribution",
         35
        ],
        [
         null,
         "Human Resources",
         9
        ]
       ],
       "datasetInfos": [],
       "dbfsResultPath": null,
       "isJsonSchema": true,
       "metadata": {},
       "overflow": false,
       "plotOptions": {
        "customPlotOptions": {},
        "displayType": "table",
        "pivotAggregation": null,
        "pivotColumns": null,
        "xColumns": null,
        "yColumns": null
       },
       "removedWidgets": [],
       "schema": [
        {
         "metadata": "{}",
         "name": "Gender",
         "type": "\"string\""
        },
        {
         "metadata": "{}",
         "name": "Team",
         "type": "\"string\""
        },
        {
         "metadata": "{}",
         "name": "count",
         "type": "\"long\""
        }
       ],
       "type": "table"
      }
     },
     "output_type": "display_data"
    }
   ],
   "source": [
    "df.groupBy(\"Gender\", \"Team\").count().display()"
   ]
  },
  {
   "cell_type": "markdown",
   "metadata": {
    "application/vnd.databricks.v1+cell": {
     "cellMetadata": {},
     "inputWidgets": {},
     "nuid": "9963ed6a-9742-49d2-9d49-8ed84e59c9a3",
     "showTitle": false,
     "title": ""
    }
   },
   "source": [
    "#### *To find the maximimum salary provided in each Team.*"
   ]
  },
  {
   "cell_type": "code",
   "execution_count": 0,
   "metadata": {
    "application/vnd.databricks.v1+cell": {
     "cellMetadata": {
      "byteLimit": 2048000,
      "rowLimit": 10000
     },
     "inputWidgets": {},
     "nuid": "5cde2bdb-3707-439d-8ba3-d9327590e2e5",
     "showTitle": false,
     "title": ""
    }
   },
   "outputs": [
    {
     "output_type": "display_data",
     "data": {
      "text/html": [
       "<style scoped>\n",
       "  .table-result-container {\n",
       "    max-height: 300px;\n",
       "    overflow: auto;\n",
       "  }\n",
       "  table, th, td {\n",
       "    border: 1px solid black;\n",
       "    border-collapse: collapse;\n",
       "  }\n",
       "  th, td {\n",
       "    padding: 5px;\n",
       "  }\n",
       "  th {\n",
       "    text-align: left;\n",
       "  }\n",
       "</style><div class='table-result-container'><table class='table-result'><thead style='background-color: white'><tr><th>team</th><th>Maximum</th></tr></thead><tbody><tr><td>Sales</td><td>149654</td></tr><tr><td>Engineering</td><td>147362</td></tr><tr><td>null</td><td>148291</td></tr><tr><td>Business Development</td><td>147417</td></tr><tr><td>Finance</td><td>149908</td></tr><tr><td>Client Services</td><td>147183</td></tr><tr><td>Distribution</td><td>149105</td></tr><tr><td>Legal</td><td>148985</td></tr><tr><td>Marketing</td><td>149456</td></tr><tr><td>Product</td><td>149684</td></tr><tr><td>Human Resources</td><td>149903</td></tr></tbody></table></div>"
      ]
     },
     "metadata": {
      "application/vnd.databricks.v1+output": {
       "addedWidgets": {},
       "aggData": [],
       "aggError": "",
       "aggOverflow": false,
       "aggSchema": [],
       "aggSeriesLimitReached": false,
       "aggType": "",
       "arguments": {},
       "columnCustomDisplayInfos": {},
       "data": [
        [
         "Sales",
         149654
        ],
        [
         "Engineering",
         147362
        ],
        [
         null,
         148291
        ],
        [
         "Business Development",
         147417
        ],
        [
         "Finance",
         149908
        ],
        [
         "Client Services",
         147183
        ],
        [
         "Distribution",
         149105
        ],
        [
         "Legal",
         148985
        ],
        [
         "Marketing",
         149456
        ],
        [
         "Product",
         149684
        ],
        [
         "Human Resources",
         149903
        ]
       ],
       "datasetInfos": [],
       "dbfsResultPath": null,
       "isJsonSchema": true,
       "metadata": {},
       "overflow": false,
       "plotOptions": {
        "customPlotOptions": {},
        "displayType": "table",
        "pivotAggregation": null,
        "pivotColumns": null,
        "xColumns": null,
        "yColumns": null
       },
       "removedWidgets": [],
       "schema": [
        {
         "metadata": "{}",
         "name": "team",
         "type": "\"string\""
        },
        {
         "metadata": "{}",
         "name": "Maximum",
         "type": "\"integer\""
        }
       ],
       "type": "table"
      }
     },
     "output_type": "display_data"
    }
   ],
   "source": [
    "df.groupBy(\"team\").agg(max(\"salary\").alias(\"Maximum\")).display()"
   ]
  },
  {
   "cell_type": "markdown",
   "metadata": {
    "application/vnd.databricks.v1+cell": {
     "cellMetadata": {},
     "inputWidgets": {},
     "nuid": "115d12c1-9506-40cc-bcc3-9a6f96469882",
     "showTitle": false,
     "title": ""
    }
   },
   "source": [
    "### *Applying all the aggregate functions inside the groupBy() clause.*"
   ]
  },
  {
   "cell_type": "code",
   "execution_count": 0,
   "metadata": {
    "application/vnd.databricks.v1+cell": {
     "cellMetadata": {
      "byteLimit": 2048000,
      "rowLimit": 10000
     },
     "inputWidgets": {},
     "nuid": "6ebbf642-cab8-426b-868a-74853860fee9",
     "showTitle": false,
     "title": ""
    }
   },
   "outputs": [
    {
     "output_type": "display_data",
     "data": {
      "text/html": [
       "<style scoped>\n",
       "  .table-result-container {\n",
       "    max-height: 300px;\n",
       "    overflow: auto;\n",
       "  }\n",
       "  table, th, td {\n",
       "    border: 1px solid black;\n",
       "    border-collapse: collapse;\n",
       "  }\n",
       "  th, td {\n",
       "    padding: 5px;\n",
       "  }\n",
       "  th {\n",
       "    text-align: left;\n",
       "  }\n",
       "</style><div class='table-result-container'><table class='table-result'><thead style='background-color: white'><tr><th>Team</th><th>Max Salary</th><th>Min salary</th><th>Avg salary</th><th>Total</th></tr></thead><tbody><tr><td>Sales</td><td>149654</td><td>35802</td><td>92173.43617021276</td><td>8664303</td></tr><tr><td>Engineering</td><td>147362</td><td>36946</td><td>94269.19565217392</td><td>8672766</td></tr><tr><td>null</td><td>148291</td><td>37919</td><td>90763.13953488372</td><td>3902815</td></tr><tr><td>Business Development</td><td>147417</td><td>36844</td><td>91866.31683168317</td><td>9278498</td></tr><tr><td>Finance</td><td>149908</td><td>35381</td><td>92219.48039215687</td><td>9406387</td></tr><tr><td>Client Services</td><td>147183</td><td>35095</td><td>88224.42452830188</td><td>9351789</td></tr><tr><td>Distribution</td><td>149105</td><td>35575</td><td>88500.46666666666</td><td>7965042</td></tr><tr><td>Legal</td><td>148985</td><td>35061</td><td>89303.61363636363</td><td>7858718</td></tr><tr><td>Marketing</td><td>149456</td><td>36643</td><td>90435.59183673469</td><td>8862688</td></tr><tr><td>Product</td><td>149684</td><td>35013</td><td>88665.5052631579</td><td>8423223</td></tr><tr><td>Human Resources</td><td>149903</td><td>35203</td><td>90944.52747252748</td><td>8275952</td></tr></tbody></table></div>"
      ]
     },
     "metadata": {
      "application/vnd.databricks.v1+output": {
       "addedWidgets": {},
       "aggData": [],
       "aggError": "",
       "aggOverflow": false,
       "aggSchema": [],
       "aggSeriesLimitReached": false,
       "aggType": "",
       "arguments": {},
       "columnCustomDisplayInfos": {},
       "data": [
        [
         "Sales",
         149654,
         35802,
         92173.43617021276,
         8664303
        ],
        [
         "Engineering",
         147362,
         36946,
         94269.19565217392,
         8672766
        ],
        [
         null,
         148291,
         37919,
         90763.13953488372,
         3902815
        ],
        [
         "Business Development",
         147417,
         36844,
         91866.31683168317,
         9278498
        ],
        [
         "Finance",
         149908,
         35381,
         92219.48039215687,
         9406387
        ],
        [
         "Client Services",
         147183,
         35095,
         88224.42452830188,
         9351789
        ],
        [
         "Distribution",
         149105,
         35575,
         88500.46666666666,
         7965042
        ],
        [
         "Legal",
         148985,
         35061,
         89303.61363636363,
         7858718
        ],
        [
         "Marketing",
         149456,
         36643,
         90435.59183673469,
         8862688
        ],
        [
         "Product",
         149684,
         35013,
         88665.5052631579,
         8423223
        ],
        [
         "Human Resources",
         149903,
         35203,
         90944.52747252748,
         8275952
        ]
       ],
       "datasetInfos": [],
       "dbfsResultPath": null,
       "isJsonSchema": true,
       "metadata": {},
       "overflow": false,
       "plotOptions": {
        "customPlotOptions": {},
        "displayType": "table",
        "pivotAggregation": null,
        "pivotColumns": null,
        "xColumns": null,
        "yColumns": null
       },
       "removedWidgets": [],
       "schema": [
        {
         "metadata": "{}",
         "name": "Team",
         "type": "\"string\""
        },
        {
         "metadata": "{}",
         "name": "Max Salary",
         "type": "\"integer\""
        },
        {
         "metadata": "{}",
         "name": "Min salary",
         "type": "\"integer\""
        },
        {
         "metadata": "{}",
         "name": "Avg salary",
         "type": "\"double\""
        },
        {
         "metadata": "{}",
         "name": "Total",
         "type": "\"long\""
        }
       ],
       "type": "table"
      }
     },
     "output_type": "display_data"
    }
   ],
   "source": [
    "df.groupBy(df.Team).agg(\n",
    "    max(\"Salary\").alias(\"Max Salary\"),\n",
    "    min(\"salary\").alias(\"Min salary\"),\n",
    "    avg(\"salary\").alias(\"Avg salary\"),\n",
    "    sum(\"salary\").alias(\"Total\"),\n",
    ").display()"
   ]
  },
  {
   "cell_type": "markdown",
   "metadata": {
    "application/vnd.databricks.v1+cell": {
     "cellMetadata": {},
     "inputWidgets": {},
     "nuid": "878ee1ce-48fc-4591-a435-bfb8b0c4ef05",
     "showTitle": false,
     "title": ""
    }
   },
   "source": [
    "#### *To find the total number of male,female and others are present in the company and to specifically take out a specific gender count.*"
   ]
  },
  {
   "cell_type": "code",
   "execution_count": 0,
   "metadata": {
    "application/vnd.databricks.v1+cell": {
     "cellMetadata": {
      "byteLimit": 2048000,
      "rowLimit": 10000
     },
     "inputWidgets": {},
     "nuid": "a6d70a62-3ab5-4e69-aae3-9cace8ba206d",
     "showTitle": false,
     "title": ""
    }
   },
   "outputs": [
    {
     "output_type": "display_data",
     "data": {
      "text/html": [
       "<style scoped>\n",
       "  .table-result-container {\n",
       "    max-height: 300px;\n",
       "    overflow: auto;\n",
       "  }\n",
       "  table, th, td {\n",
       "    border: 1px solid black;\n",
       "    border-collapse: collapse;\n",
       "  }\n",
       "  th, td {\n",
       "    padding: 5px;\n",
       "  }\n",
       "  th {\n",
       "    text-align: left;\n",
       "  }\n",
       "</style><div class='table-result-container'><table class='table-result'><thead style='background-color: white'><tr><th>Gender</th><th>count</th></tr></thead><tbody><tr><td>null</td><td>145</td></tr><tr><td>Female</td><td>431</td></tr><tr><td>Male</td><td>424</td></tr></tbody></table></div>"
      ]
     },
     "metadata": {
      "application/vnd.databricks.v1+output": {
       "addedWidgets": {},
       "aggData": [],
       "aggError": "",
       "aggOverflow": false,
       "aggSchema": [],
       "aggSeriesLimitReached": false,
       "aggType": "",
       "arguments": {},
       "columnCustomDisplayInfos": {},
       "data": [
        [
         null,
         145
        ],
        [
         "Female",
         431
        ],
        [
         "Male",
         424
        ]
       ],
       "datasetInfos": [],
       "dbfsResultPath": null,
       "isJsonSchema": true,
       "metadata": {},
       "overflow": false,
       "plotOptions": {
        "customPlotOptions": {},
        "displayType": "table",
        "pivotAggregation": null,
        "pivotColumns": null,
        "xColumns": null,
        "yColumns": null
       },
       "removedWidgets": [],
       "schema": [
        {
         "metadata": "{}",
         "name": "Gender",
         "type": "\"string\""
        },
        {
         "metadata": "{}",
         "name": "count",
         "type": "\"long\""
        }
       ],
       "type": "table"
      }
     },
     "output_type": "display_data"
    },
    {
     "output_type": "display_data",
     "data": {
      "text/html": [
       "<style scoped>\n",
       "  .table-result-container {\n",
       "    max-height: 300px;\n",
       "    overflow: auto;\n",
       "  }\n",
       "  table, th, td {\n",
       "    border: 1px solid black;\n",
       "    border-collapse: collapse;\n",
       "  }\n",
       "  th, td {\n",
       "    padding: 5px;\n",
       "  }\n",
       "  th {\n",
       "    text-align: left;\n",
       "  }\n",
       "</style><div class='table-result-container'><table class='table-result'><thead style='background-color: white'><tr><th>Gender</th><th>count</th></tr></thead><tbody><tr><td>Male</td><td>424</td></tr></tbody></table></div>"
      ]
     },
     "metadata": {
      "application/vnd.databricks.v1+output": {
       "addedWidgets": {},
       "aggData": [],
       "aggError": "",
       "aggOverflow": false,
       "aggSchema": [],
       "aggSeriesLimitReached": false,
       "aggType": "",
       "arguments": {},
       "columnCustomDisplayInfos": {},
       "data": [
        [
         "Male",
         424
        ]
       ],
       "datasetInfos": [],
       "dbfsResultPath": null,
       "isJsonSchema": true,
       "metadata": {},
       "overflow": false,
       "plotOptions": {
        "customPlotOptions": {},
        "displayType": "table",
        "pivotAggregation": null,
        "pivotColumns": null,
        "xColumns": null,
        "yColumns": null
       },
       "removedWidgets": [],
       "schema": [
        {
         "metadata": "{}",
         "name": "Gender",
         "type": "\"string\""
        },
        {
         "metadata": "{}",
         "name": "count",
         "type": "\"long\""
        }
       ],
       "type": "table"
      }
     },
     "output_type": "display_data"
    }
   ],
   "source": [
    "df.groupby(df.Gender).count().display()\n",
    "df.groupby(df.Gender).count().filter(df.Gender == 'Male').display()"
   ]
  },
  {
   "cell_type": "markdown",
   "metadata": {
    "application/vnd.databricks.v1+cell": {
     "cellMetadata": {},
     "inputWidgets": {},
     "nuid": "eedc7eb5-4945-4e3f-919e-333b96f63817",
     "showTitle": false,
     "title": ""
    }
   },
   "source": [
    "#### *To find the max salary given in the sales Team.*"
   ]
  },
  {
   "cell_type": "code",
   "execution_count": 0,
   "metadata": {
    "application/vnd.databricks.v1+cell": {
     "cellMetadata": {
      "byteLimit": 2048000,
      "rowLimit": 10000
     },
     "inputWidgets": {},
     "nuid": "6046d930-dbf0-416b-9165-cafd85b916b4",
     "showTitle": false,
     "title": ""
    }
   },
   "outputs": [
    {
     "output_type": "display_data",
     "data": {
      "text/html": [
       "<style scoped>\n",
       "  .table-result-container {\n",
       "    max-height: 300px;\n",
       "    overflow: auto;\n",
       "  }\n",
       "  table, th, td {\n",
       "    border: 1px solid black;\n",
       "    border-collapse: collapse;\n",
       "  }\n",
       "  th, td {\n",
       "    padding: 5px;\n",
       "  }\n",
       "  th {\n",
       "    text-align: left;\n",
       "  }\n",
       "</style><div class='table-result-container'><table class='table-result'><thead style='background-color: white'><tr><th>Team</th><th>max(Salary)</th></tr></thead><tbody><tr><td>Sales</td><td>149654</td></tr></tbody></table></div>"
      ]
     },
     "metadata": {
      "application/vnd.databricks.v1+output": {
       "addedWidgets": {},
       "aggData": [],
       "aggError": "",
       "aggOverflow": false,
       "aggSchema": [],
       "aggSeriesLimitReached": false,
       "aggType": "",
       "arguments": {},
       "columnCustomDisplayInfos": {},
       "data": [
        [
         "Sales",
         149654
        ]
       ],
       "datasetInfos": [],
       "dbfsResultPath": null,
       "isJsonSchema": true,
       "metadata": {},
       "overflow": false,
       "plotOptions": {
        "customPlotOptions": {},
        "displayType": "table",
        "pivotAggregation": null,
        "pivotColumns": null,
        "xColumns": null,
        "yColumns": null
       },
       "removedWidgets": [],
       "schema": [
        {
         "metadata": "{}",
         "name": "Team",
         "type": "\"string\""
        },
        {
         "metadata": "{}",
         "name": "max(Salary)",
         "type": "\"integer\""
        }
       ],
       "type": "table"
      }
     },
     "output_type": "display_data"
    }
   ],
   "source": [
    "df.groupBy(df.Team).max(\"Salary\").where(df.Team  == ('Sales')).display()"
   ]
  },
  {
   "cell_type": "markdown",
   "metadata": {
    "application/vnd.databricks.v1+cell": {
     "cellMetadata": {},
     "inputWidgets": {},
     "nuid": "eb609f0f-2d99-4f23-a141-551c7bde91f7",
     "showTitle": false,
     "title": ""
    }
   },
   "source": [
    "#### *To find out how many Male employees are working in the specific Teams.*"
   ]
  },
  {
   "cell_type": "code",
   "execution_count": 0,
   "metadata": {
    "application/vnd.databricks.v1+cell": {
     "cellMetadata": {
      "byteLimit": 2048000,
      "rowLimit": 10000
     },
     "inputWidgets": {},
     "nuid": "c97a5647-e567-40d2-9338-c003855f64b3",
     "showTitle": false,
     "title": ""
    }
   },
   "outputs": [
    {
     "output_type": "display_data",
     "data": {
      "text/html": [
       "<style scoped>\n",
       "  .table-result-container {\n",
       "    max-height: 300px;\n",
       "    overflow: auto;\n",
       "  }\n",
       "  table, th, td {\n",
       "    border: 1px solid black;\n",
       "    border-collapse: collapse;\n",
       "  }\n",
       "  th, td {\n",
       "    padding: 5px;\n",
       "  }\n",
       "  th {\n",
       "    text-align: left;\n",
       "  }\n",
       "</style><div class='table-result-container'><table class='table-result'><thead style='background-color: white'><tr><th>Team</th><th>Gender</th><th>count</th></tr></thead><tbody><tr><td>Product</td><td>Male</td><td>40</td></tr><tr><td>Engineering</td><td>Male</td><td>40</td></tr><tr><td>Sales</td><td>Male</td><td>39</td></tr><tr><td>Legal</td><td>Male</td><td>35</td></tr><tr><td>Marketing</td><td>Male</td><td>41</td></tr><tr><td>Finance</td><td>Male</td><td>41</td></tr><tr><td>Distribution</td><td>Male</td><td>35</td></tr><tr><td>Human Resources</td><td>Male</td><td>45</td></tr><tr><td>null</td><td>Male</td><td>26</td></tr><tr><td>Client Services</td><td>Male</td><td>42</td></tr><tr><td>Business Development</td><td>Male</td><td>40</td></tr></tbody></table></div>"
      ]
     },
     "metadata": {
      "application/vnd.databricks.v1+output": {
       "addedWidgets": {},
       "aggData": [],
       "aggError": "",
       "aggOverflow": false,
       "aggSchema": [],
       "aggSeriesLimitReached": false,
       "aggType": "",
       "arguments": {},
       "columnCustomDisplayInfos": {},
       "data": [
        [
         "Product",
         "Male",
         40
        ],
        [
         "Engineering",
         "Male",
         40
        ],
        [
         "Sales",
         "Male",
         39
        ],
        [
         "Legal",
         "Male",
         35
        ],
        [
         "Marketing",
         "Male",
         41
        ],
        [
         "Finance",
         "Male",
         41
        ],
        [
         "Distribution",
         "Male",
         35
        ],
        [
         "Human Resources",
         "Male",
         45
        ],
        [
         null,
         "Male",
         26
        ],
        [
         "Client Services",
         "Male",
         42
        ],
        [
         "Business Development",
         "Male",
         40
        ]
       ],
       "datasetInfos": [],
       "dbfsResultPath": null,
       "isJsonSchema": true,
       "metadata": {},
       "overflow": false,
       "plotOptions": {
        "customPlotOptions": {},
        "displayType": "table",
        "pivotAggregation": null,
        "pivotColumns": null,
        "xColumns": null,
        "yColumns": null
       },
       "removedWidgets": [],
       "schema": [
        {
         "metadata": "{}",
         "name": "Team",
         "type": "\"string\""
        },
        {
         "metadata": "{}",
         "name": "Gender",
         "type": "\"string\""
        },
        {
         "metadata": "{}",
         "name": "count",
         "type": "\"long\""
        }
       ],
       "type": "table"
      }
     },
     "output_type": "display_data"
    }
   ],
   "source": [
    "df.groupBy(df.Team, df.Gender).count().filter(df.Gender == \"Male\").display()"
   ]
  },
  {
   "cell_type": "code",
   "execution_count": 0,
   "metadata": {
    "application/vnd.databricks.v1+cell": {
     "cellMetadata": {
      "byteLimit": 2048000,
      "rowLimit": 10000
     },
     "inputWidgets": {},
     "nuid": "b83294dc-2f77-4059-9bf1-b424b44f74e1",
     "showTitle": false,
     "title": ""
    }
   },
   "outputs": [
    {
     "output_type": "display_data",
     "data": {
      "text/html": [
       "<style scoped>\n",
       "  .table-result-container {\n",
       "    max-height: 300px;\n",
       "    overflow: auto;\n",
       "  }\n",
       "  table, th, td {\n",
       "    border: 1px solid black;\n",
       "    border-collapse: collapse;\n",
       "  }\n",
       "  th, td {\n",
       "    padding: 5px;\n",
       "  }\n",
       "  th {\n",
       "    text-align: left;\n",
       "  }\n",
       "</style><div class='table-result-container'><table class='table-result'><thead style='background-color: white'><tr><th>First Name</th><th>Gender</th><th>Start Date</th><th>Last Login Time</th><th>Salary</th><th>Bonus %</th><th>Senior Management</th><th>Team</th></tr></thead><tbody><tr><td>Douglas</td><td>Male</td><td>1993-08-06</td><td>12:42 PM</td><td>97308</td><td>6.945</td><td>true</td><td>Marketing</td></tr><tr><td>Thomas</td><td>Male</td><td>1996-03-31</td><td>6:53 AM</td><td>61933</td><td>4.17</td><td>true</td><td>null</td></tr><tr><td>Maria</td><td>Female</td><td>1993-04-23</td><td>11:17 AM</td><td>130590</td><td>11.858</td><td>false</td><td>Finance</td></tr><tr><td>Jerry</td><td>Male</td><td>2005-03-04</td><td>1:00 PM</td><td>138705</td><td>9.34</td><td>true</td><td>Finance</td></tr><tr><td>Larry</td><td>Male</td><td>1998-01-24</td><td>4:47 PM</td><td>101004</td><td>1.389</td><td>true</td><td>Client Services</td></tr><tr><td>Dennis</td><td>Male</td><td>1987-04-18</td><td>1:35 AM</td><td>115163</td><td>10.125</td><td>false</td><td>Legal</td></tr><tr><td>Ruby</td><td>Female</td><td>1987-08-17</td><td>4:20 PM</td><td>65476</td><td>10.012</td><td>true</td><td>Product</td></tr><tr><td>null</td><td>Female</td><td>2015-07-20</td><td>10:43 AM</td><td>45906</td><td>11.598</td><td>null</td><td>Finance</td></tr><tr><td>Angela</td><td>Female</td><td>2005-11-22</td><td>6:29 AM</td><td>95570</td><td>18.523</td><td>true</td><td>Engineering</td></tr><tr><td>Frances</td><td>Female</td><td>2002-08-08</td><td>6:51 AM</td><td>139852</td><td>7.524</td><td>true</td><td>Business Development</td></tr></tbody></table></div>"
      ]
     },
     "metadata": {
      "application/vnd.databricks.v1+output": {
       "addedWidgets": {},
       "aggData": [],
       "aggError": "",
       "aggOverflow": false,
       "aggSchema": [],
       "aggSeriesLimitReached": false,
       "aggType": "",
       "arguments": {},
       "columnCustomDisplayInfos": {},
       "data": [
        [
         "Douglas",
         "Male",
         "1993-08-06",
         "12:42 PM",
         97308,
         6.945,
         true,
         "Marketing"
        ],
        [
         "Thomas",
         "Male",
         "1996-03-31",
         "6:53 AM",
         61933,
         4.17,
         true,
         null
        ],
        [
         "Maria",
         "Female",
         "1993-04-23",
         "11:17 AM",
         130590,
         11.858,
         false,
         "Finance"
        ],
        [
         "Jerry",
         "Male",
         "2005-03-04",
         "1:00 PM",
         138705,
         9.34,
         true,
         "Finance"
        ],
        [
         "Larry",
         "Male",
         "1998-01-24",
         "4:47 PM",
         101004,
         1.389,
         true,
         "Client Services"
        ],
        [
         "Dennis",
         "Male",
         "1987-04-18",
         "1:35 AM",
         115163,
         10.125,
         false,
         "Legal"
        ],
        [
         "Ruby",
         "Female",
         "1987-08-17",
         "4:20 PM",
         65476,
         10.012,
         true,
         "Product"
        ],
        [
         null,
         "Female",
         "2015-07-20",
         "10:43 AM",
         45906,
         11.598,
         null,
         "Finance"
        ],
        [
         "Angela",
         "Female",
         "2005-11-22",
         "6:29 AM",
         95570,
         18.523,
         true,
         "Engineering"
        ],
        [
         "Frances",
         "Female",
         "2002-08-08",
         "6:51 AM",
         139852,
         7.524,
         true,
         "Business Development"
        ]
       ],
       "datasetInfos": [],
       "dbfsResultPath": null,
       "isJsonSchema": true,
       "metadata": {},
       "overflow": false,
       "plotOptions": {
        "customPlotOptions": {},
        "displayType": "table",
        "pivotAggregation": null,
        "pivotColumns": null,
        "xColumns": null,
        "yColumns": null
       },
       "removedWidgets": [],
       "schema": [
        {
         "metadata": "{}",
         "name": "First Name",
         "type": "\"string\""
        },
        {
         "metadata": "{}",
         "name": "Gender",
         "type": "\"string\""
        },
        {
         "metadata": "{\"__detected_date_formats\":\"M/d/yyyy\"}",
         "name": "Start Date",
         "type": "\"date\""
        },
        {
         "metadata": "{}",
         "name": "Last Login Time",
         "type": "\"string\""
        },
        {
         "metadata": "{}",
         "name": "Salary",
         "type": "\"integer\""
        },
        {
         "metadata": "{}",
         "name": "Bonus %",
         "type": "\"double\""
        },
        {
         "metadata": "{}",
         "name": "Senior Management",
         "type": "\"boolean\""
        },
        {
         "metadata": "{}",
         "name": "Team",
         "type": "\"string\""
        }
       ],
       "type": "table"
      }
     },
     "output_type": "display_data"
    }
   ],
   "source": [
    "df.limit(10).display()"
   ]
  },
  {
   "cell_type": "markdown",
   "metadata": {
    "application/vnd.databricks.v1+cell": {
     "cellMetadata": {},
     "inputWidgets": {},
     "nuid": "bd0303aa-683c-422f-9071-cd89d3d7dc83",
     "showTitle": false,
     "title": ""
    }
   },
   "source": [
    "#### *To display the person's who doesn't work in any Teams.*"
   ]
  },
  {
   "cell_type": "code",
   "execution_count": 0,
   "metadata": {
    "application/vnd.databricks.v1+cell": {
     "cellMetadata": {
      "byteLimit": 2048000,
      "rowLimit": 10000
     },
     "inputWidgets": {},
     "nuid": "8782bf1b-9c26-4163-b1d0-17d67f1bbd40",
     "showTitle": false,
     "title": ""
    }
   },
   "outputs": [
    {
     "output_type": "display_data",
     "data": {
      "text/html": [
       "<style scoped>\n",
       "  .table-result-container {\n",
       "    max-height: 300px;\n",
       "    overflow: auto;\n",
       "  }\n",
       "  table, th, td {\n",
       "    border: 1px solid black;\n",
       "    border-collapse: collapse;\n",
       "  }\n",
       "  th, td {\n",
       "    padding: 5px;\n",
       "  }\n",
       "  th {\n",
       "    text-align: left;\n",
       "  }\n",
       "</style><div class='table-result-container'><table class='table-result'><thead style='background-color: white'><tr><th>First Name</th><th>Team</th><th>count</th></tr></thead><tbody><tr><td>Louise</td><td>null</td><td>1</td></tr><tr><td>James</td><td>null</td><td>1</td></tr><tr><td>Jason</td><td>null</td><td>1</td></tr><tr><td>Antonio</td><td>null</td><td>1</td></tr><tr><td>Chris</td><td>null</td><td>1</td></tr><tr><td>Phillip</td><td>null</td><td>1</td></tr><tr><td>Jonathan</td><td>null</td><td>1</td></tr><tr><td>Mildred</td><td>null</td><td>1</td></tr><tr><td>Wanda</td><td>null</td><td>1</td></tr><tr><td>Joe</td><td>null</td><td>1</td></tr><tr><td>null</td><td>null</td><td>9</td></tr><tr><td>Christopher</td><td>null</td><td>1</td></tr><tr><td>Todd</td><td>null</td><td>1</td></tr><tr><td>Nicole</td><td>null</td><td>1</td></tr><tr><td>Michael</td><td>null</td><td>1</td></tr><tr><td>Edward</td><td>null</td><td>1</td></tr><tr><td>Charles</td><td>null</td><td>1</td></tr><tr><td>Donald</td><td>null</td><td>1</td></tr><tr><td>Joyce</td><td>null</td><td>1</td></tr><tr><td>Alice</td><td>null</td><td>1</td></tr><tr><td>Richard</td><td>null</td><td>1</td></tr><tr><td>Carl</td><td>null</td><td>1</td></tr><tr><td>Bobby</td><td>null</td><td>2</td></tr><tr><td>Randy</td><td>null</td><td>1</td></tr><tr><td>Joseph</td><td>null</td><td>1</td></tr><tr><td>Daniel</td><td>null</td><td>1</td></tr><tr><td>Jimmy</td><td>null</td><td>1</td></tr><tr><td>Harry</td><td>null</td><td>1</td></tr><tr><td>Peter</td><td>null</td><td>1</td></tr><tr><td>Ryan</td><td>null</td><td>1</td></tr><tr><td>Kimberly</td><td>null</td><td>1</td></tr><tr><td>Thomas</td><td>null</td><td>1</td></tr><tr><td>Jeremy</td><td>null</td><td>1</td></tr><tr><td>Lawrence</td><td>null</td><td>1</td></tr></tbody></table></div>"
      ]
     },
     "metadata": {
      "application/vnd.databricks.v1+output": {
       "addedWidgets": {},
       "aggData": [],
       "aggError": "",
       "aggOverflow": false,
       "aggSchema": [],
       "aggSeriesLimitReached": false,
       "aggType": "",
       "arguments": {},
       "columnCustomDisplayInfos": {},
       "data": [
        [
         "Louise",
         null,
         1
        ],
        [
         "James",
         null,
         1
        ],
        [
         "Jason",
         null,
         1
        ],
        [
         "Antonio",
         null,
         1
        ],
        [
         "Chris",
         null,
         1
        ],
        [
         "Phillip",
         null,
         1
        ],
        [
         "Jonathan",
         null,
         1
        ],
        [
         "Mildred",
         null,
         1
        ],
        [
         "Wanda",
         null,
         1
        ],
        [
         "Joe",
         null,
         1
        ],
        [
         null,
         null,
         9
        ],
        [
         "Christopher",
         null,
         1
        ],
        [
         "Todd",
         null,
         1
        ],
        [
         "Nicole",
         null,
         1
        ],
        [
         "Michael",
         null,
         1
        ],
        [
         "Edward",
         null,
         1
        ],
        [
         "Charles",
         null,
         1
        ],
        [
         "Donald",
         null,
         1
        ],
        [
         "Joyce",
         null,
         1
        ],
        [
         "Alice",
         null,
         1
        ],
        [
         "Richard",
         null,
         1
        ],
        [
         "Carl",
         null,
         1
        ],
        [
         "Bobby",
         null,
         2
        ],
        [
         "Randy",
         null,
         1
        ],
        [
         "Joseph",
         null,
         1
        ],
        [
         "Daniel",
         null,
         1
        ],
        [
         "Jimmy",
         null,
         1
        ],
        [
         "Harry",
         null,
         1
        ],
        [
         "Peter",
         null,
         1
        ],
        [
         "Ryan",
         null,
         1
        ],
        [
         "Kimberly",
         null,
         1
        ],
        [
         "Thomas",
         null,
         1
        ],
        [
         "Jeremy",
         null,
         1
        ],
        [
         "Lawrence",
         null,
         1
        ]
       ],
       "datasetInfos": [],
       "dbfsResultPath": null,
       "isJsonSchema": true,
       "metadata": {},
       "overflow": false,
       "plotOptions": {
        "customPlotOptions": {},
        "displayType": "table",
        "pivotAggregation": null,
        "pivotColumns": null,
        "xColumns": null,
        "yColumns": null
       },
       "removedWidgets": [],
       "schema": [
        {
         "metadata": "{}",
         "name": "First Name",
         "type": "\"string\""
        },
        {
         "metadata": "{}",
         "name": "Team",
         "type": "\"string\""
        },
        {
         "metadata": "{}",
         "name": "count",
         "type": "\"long\""
        }
       ],
       "type": "table"
      }
     },
     "output_type": "display_data"
    }
   ],
   "source": [
    "df.groupBy(\"First Name\", df.Team).count().filter(df.Team.isNull()).display()"
   ]
  },
  {
   "cell_type": "code",
   "execution_count": 0,
   "metadata": {
    "application/vnd.databricks.v1+cell": {
     "cellMetadata": {},
     "inputWidgets": {},
     "nuid": "0acd9624-6b4c-4d1b-a76a-23e684b1940e",
     "showTitle": false,
     "title": ""
    }
   },
   "outputs": [],
   "source": []
  }
 ],
 "metadata": {
  "application/vnd.databricks.v1+notebook": {
   "dashboards": [],
   "language": "python",
   "notebookMetadata": {
    "mostRecentlyExecutedCommandWithImplicitDF": {
     "commandId": 3220521773161861,
     "dataframes": [
      "_sqldf"
     ]
    },
    "pythonIndentUnit": 2
   },
   "notebookName": "Aggregate Functions",
   "widgets": {}
  }
 },
 "nbformat": 4,
 "nbformat_minor": 0
}
