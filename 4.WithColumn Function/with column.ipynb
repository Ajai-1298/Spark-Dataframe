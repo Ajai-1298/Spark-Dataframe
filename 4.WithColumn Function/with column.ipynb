{
 "cells": [
  {
   "cell_type": "markdown",
   "metadata": {
    "application/vnd.databricks.v1+cell": {
     "cellMetadata": {},
     "inputWidgets": {},
     "nuid": "fb0d8453-3ab7-40a4-98c8-7f733d14a069",
     "showTitle": false,
     "title": ""
    }
   },
   "source": [
    "#### *WithColumn()*\n",
    "PySpark withColumn() is a transformation function of DataFrame which is used to change the value, convert the datatype of an existing column, create a new column, and many more. In this notebook we can see commonly used PySpark DataFrame column operations using withColumn() examples."
   ]
  },
  {
   "cell_type": "code",
   "execution_count": 0,
   "metadata": {
    "application/vnd.databricks.v1+cell": {
     "cellMetadata": {
      "byteLimit": 2048000,
      "rowLimit": 10000
     },
     "inputWidgets": {},
     "nuid": "55381521-a8f3-41a7-94f9-155e50f85761",
     "showTitle": false,
     "title": ""
    }
   },
   "outputs": [],
   "source": [
    "# Creating Dataframe\n",
    "\n",
    "data = [\n",
    "    (\"James\", \"Developer\", 3000),\n",
    "    (\"Michael\", \"Testing\", 2000),\n",
    "    (\"Tony\", \"Developer\", 4000),\n",
    "    (\"Parker\", \"Support\", 3000),\n",
    "    (\"Stephen\", \"Developer\", 4000),\n",
    "    (\"Clark\", \"Support\", 3500),\n",
    "    (\"Bruce\", \"Testing\", 3000),\n",
    "    (\"Allen\", \"Developer\", 3500),\n",
    "    (\"Loki\", \"Support\", 3000),\n",
    "    (\"Buttowski\", \"Developer\", 5000),\n",
    "]\n",
    "\n",
    "schema = [\"Name\", \"Role\", \"Salary\"]"
   ]
  },
  {
   "cell_type": "code",
   "execution_count": 0,
   "metadata": {
    "application/vnd.databricks.v1+cell": {
     "cellMetadata": {
      "byteLimit": 2048000,
      "rowLimit": 10000
     },
     "inputWidgets": {},
     "nuid": "86de8eeb-5a61-4175-974f-98ad4d7abd1a",
     "showTitle": false,
     "title": ""
    }
   },
   "outputs": [],
   "source": [
    "df = spark.createDataFrame(data, schema)"
   ]
  },
  {
   "cell_type": "code",
   "execution_count": 0,
   "metadata": {
    "application/vnd.databricks.v1+cell": {
     "cellMetadata": {
      "byteLimit": 2048000,
      "rowLimit": 10000
     },
     "inputWidgets": {},
     "nuid": "7d4147f6-6083-4d92-9067-5becea2b13a3",
     "showTitle": false,
     "title": ""
    }
   },
   "outputs": [
    {
     "output_type": "display_data",
     "data": {
      "text/html": [
       "<style scoped>\n",
       "  .table-result-container {\n",
       "    max-height: 300px;\n",
       "    overflow: auto;\n",
       "  }\n",
       "  table, th, td {\n",
       "    border: 1px solid black;\n",
       "    border-collapse: collapse;\n",
       "  }\n",
       "  th, td {\n",
       "    padding: 5px;\n",
       "  }\n",
       "  th {\n",
       "    text-align: left;\n",
       "  }\n",
       "</style><div class='table-result-container'><table class='table-result'><thead style='background-color: white'><tr><th>Name</th><th>Role</th><th>Salary</th></tr></thead><tbody><tr><td>James</td><td>Developer</td><td>3000</td></tr><tr><td>Michael</td><td>Testing</td><td>2000</td></tr><tr><td>Tony</td><td>Developer</td><td>4000</td></tr><tr><td>Parker</td><td>Support</td><td>3000</td></tr><tr><td>Stephen</td><td>Developer</td><td>4000</td></tr><tr><td>Clark</td><td>Support</td><td>3500</td></tr><tr><td>Bruce</td><td>Testing</td><td>3000</td></tr><tr><td>Allen</td><td>Developer</td><td>3500</td></tr><tr><td>Loki</td><td>Support</td><td>3000</td></tr><tr><td>Buttowski</td><td>Developer</td><td>5000</td></tr></tbody></table></div>"
      ]
     },
     "metadata": {
      "application/vnd.databricks.v1+output": {
       "addedWidgets": {},
       "aggData": [],
       "aggError": "",
       "aggOverflow": false,
       "aggSchema": [],
       "aggSeriesLimitReached": false,
       "aggType": "",
       "arguments": {},
       "columnCustomDisplayInfos": {},
       "data": [
        [
         "James",
         "Developer",
         3000
        ],
        [
         "Michael",
         "Testing",
         2000
        ],
        [
         "Tony",
         "Developer",
         4000
        ],
        [
         "Parker",
         "Support",
         3000
        ],
        [
         "Stephen",
         "Developer",
         4000
        ],
        [
         "Clark",
         "Support",
         3500
        ],
        [
         "Bruce",
         "Testing",
         3000
        ],
        [
         "Allen",
         "Developer",
         3500
        ],
        [
         "Loki",
         "Support",
         3000
        ],
        [
         "Buttowski",
         "Developer",
         5000
        ]
       ],
       "datasetInfos": [],
       "dbfsResultPath": null,
       "isJsonSchema": true,
       "metadata": {},
       "overflow": false,
       "plotOptions": {
        "customPlotOptions": {},
        "displayType": "table",
        "pivotAggregation": null,
        "pivotColumns": null,
        "xColumns": null,
        "yColumns": null
       },
       "removedWidgets": [],
       "schema": [
        {
         "metadata": "{}",
         "name": "Name",
         "type": "\"string\""
        },
        {
         "metadata": "{}",
         "name": "Role",
         "type": "\"string\""
        },
        {
         "metadata": "{}",
         "name": "Salary",
         "type": "\"long\""
        }
       ],
       "type": "table"
      }
     },
     "output_type": "display_data"
    }
   ],
   "source": [
    "df.display()"
   ]
  },
  {
   "cell_type": "code",
   "execution_count": 0,
   "metadata": {
    "application/vnd.databricks.v1+cell": {
     "cellMetadata": {
      "byteLimit": 2048000,
      "rowLimit": 10000
     },
     "inputWidgets": {},
     "nuid": "95789a3e-b815-4465-b792-53fcf0b9bfd7",
     "showTitle": false,
     "title": ""
    }
   },
   "outputs": [],
   "source": [
    "from pyspark.sql.functions import col, cast, lit"
   ]
  },
  {
   "cell_type": "markdown",
   "metadata": {
    "application/vnd.databricks.v1+cell": {
     "cellMetadata": {},
     "inputWidgets": {},
     "nuid": "b2c5cbe8-c32c-4508-b139-46d9981fd30a",
     "showTitle": false,
     "title": ""
    }
   },
   "source": [
    "#### *Converting the datatype for a column. As you can see before the datatype for 'Salary' column is 'long' now we have changed it to 'integer'*"
   ]
  },
  {
   "cell_type": "code",
   "execution_count": 0,
   "metadata": {
    "application/vnd.databricks.v1+cell": {
     "cellMetadata": {
      "byteLimit": 2048000,
      "rowLimit": 10000
     },
     "inputWidgets": {},
     "nuid": "3dc8181f-593f-44e6-aafa-30f042ef1d05",
     "showTitle": false,
     "title": ""
    }
   },
   "outputs": [
    {
     "output_type": "stream",
     "name": "stdout",
     "output_type": "stream",
     "text": [
      "root\n |-- Name: string (nullable = true)\n |-- Role: string (nullable = true)\n |-- Salary: long (nullable = true)\n\n"
     ]
    },
    {
     "output_type": "display_data",
     "data": {
      "text/html": [
       "<style scoped>\n",
       "  .table-result-container {\n",
       "    max-height: 300px;\n",
       "    overflow: auto;\n",
       "  }\n",
       "  table, th, td {\n",
       "    border: 1px solid black;\n",
       "    border-collapse: collapse;\n",
       "  }\n",
       "  th, td {\n",
       "    padding: 5px;\n",
       "  }\n",
       "  th {\n",
       "    text-align: left;\n",
       "  }\n",
       "</style><div class='table-result-container'><table class='table-result'><thead style='background-color: white'><tr><th>Name</th><th>Role</th><th>Salary</th></tr></thead><tbody><tr><td>James</td><td>Developer</td><td>3000</td></tr><tr><td>Michael</td><td>Testing</td><td>2000</td></tr><tr><td>Tony</td><td>Developer</td><td>4000</td></tr><tr><td>Parker</td><td>Support</td><td>3000</td></tr><tr><td>Stephen</td><td>Developer</td><td>4000</td></tr><tr><td>Clark</td><td>Support</td><td>3500</td></tr><tr><td>Bruce</td><td>Testing</td><td>3000</td></tr><tr><td>Allen</td><td>Developer</td><td>3500</td></tr><tr><td>Loki</td><td>Support</td><td>3000</td></tr><tr><td>Buttowski</td><td>Developer</td><td>5000</td></tr></tbody></table></div>"
      ]
     },
     "metadata": {
      "application/vnd.databricks.v1+output": {
       "addedWidgets": {},
       "aggData": [],
       "aggError": "",
       "aggOverflow": false,
       "aggSchema": [],
       "aggSeriesLimitReached": false,
       "aggType": "",
       "arguments": {},
       "columnCustomDisplayInfos": {},
       "data": [
        [
         "James",
         "Developer",
         3000
        ],
        [
         "Michael",
         "Testing",
         2000
        ],
        [
         "Tony",
         "Developer",
         4000
        ],
        [
         "Parker",
         "Support",
         3000
        ],
        [
         "Stephen",
         "Developer",
         4000
        ],
        [
         "Clark",
         "Support",
         3500
        ],
        [
         "Bruce",
         "Testing",
         3000
        ],
        [
         "Allen",
         "Developer",
         3500
        ],
        [
         "Loki",
         "Support",
         3000
        ],
        [
         "Buttowski",
         "Developer",
         5000
        ]
       ],
       "datasetInfos": [],
       "dbfsResultPath": null,
       "isJsonSchema": true,
       "metadata": {},
       "overflow": false,
       "plotOptions": {
        "customPlotOptions": {},
        "displayType": "table",
        "pivotAggregation": null,
        "pivotColumns": null,
        "xColumns": null,
        "yColumns": null
       },
       "removedWidgets": [],
       "schema": [
        {
         "metadata": "{}",
         "name": "Name",
         "type": "\"string\""
        },
        {
         "metadata": "{}",
         "name": "Role",
         "type": "\"string\""
        },
        {
         "metadata": "{}",
         "name": "Salary",
         "type": "\"integer\""
        }
       ],
       "type": "table"
      }
     },
     "output_type": "display_data"
    },
    {
     "output_type": "stream",
     "name": "stdout",
     "output_type": "stream",
     "text": [
      "root\n |-- Name: string (nullable = true)\n |-- Role: string (nullable = true)\n |-- Salary: integer (nullable = true)\n\n"
     ]
    }
   ],
   "source": [
    "df.printSchema()\n",
    "df1 = df.withColumn(\"Salary\", col(\"Salary\").cast(\"integer\"))\n",
    "df1.display()\n",
    "df1.printSchema()"
   ]
  },
  {
   "cell_type": "markdown",
   "metadata": {
    "application/vnd.databricks.v1+cell": {
     "cellMetadata": {},
     "inputWidgets": {},
     "nuid": "6692be6d-59ad-43fc-afa3-16cc14aec8f8",
     "showTitle": false,
     "title": ""
    }
   },
   "source": [
    "#### *PySpark withColumn() function of DataFrame can also be used to change the value of an existing column. In order to change the value, pass an existing column name as a first argument and a value to be assigned as a second argument to the withColumn() function. Note that the second argument should be Column type.*"
   ]
  },
  {
   "cell_type": "code",
   "execution_count": 0,
   "metadata": {
    "application/vnd.databricks.v1+cell": {
     "cellMetadata": {
      "byteLimit": 2048000,
      "rowLimit": 10000
     },
     "inputWidgets": {},
     "nuid": "2d1caa28-4dcd-4180-a69a-4b2ab9d39012",
     "showTitle": false,
     "title": ""
    }
   },
   "outputs": [
    {
     "output_type": "display_data",
     "data": {
      "text/html": [
       "<style scoped>\n",
       "  .table-result-container {\n",
       "    max-height: 300px;\n",
       "    overflow: auto;\n",
       "  }\n",
       "  table, th, td {\n",
       "    border: 1px solid black;\n",
       "    border-collapse: collapse;\n",
       "  }\n",
       "  th, td {\n",
       "    padding: 5px;\n",
       "  }\n",
       "  th {\n",
       "    text-align: left;\n",
       "  }\n",
       "</style><div class='table-result-container'><table class='table-result'><thead style='background-color: white'><tr><th>Name</th><th>Role</th><th>Salary</th></tr></thead><tbody><tr><td>James</td><td>Developer</td><td>6000</td></tr><tr><td>Michael</td><td>Testing</td><td>4000</td></tr><tr><td>Tony</td><td>Developer</td><td>8000</td></tr><tr><td>Parker</td><td>Support</td><td>6000</td></tr><tr><td>Stephen</td><td>Developer</td><td>8000</td></tr><tr><td>Clark</td><td>Support</td><td>7000</td></tr><tr><td>Bruce</td><td>Testing</td><td>6000</td></tr><tr><td>Allen</td><td>Developer</td><td>7000</td></tr><tr><td>Loki</td><td>Support</td><td>6000</td></tr><tr><td>Buttowski</td><td>Developer</td><td>10000</td></tr></tbody></table></div>"
      ]
     },
     "metadata": {
      "application/vnd.databricks.v1+output": {
       "addedWidgets": {},
       "aggData": [],
       "aggError": "",
       "aggOverflow": false,
       "aggSchema": [],
       "aggSeriesLimitReached": false,
       "aggType": "",
       "arguments": {},
       "columnCustomDisplayInfos": {},
       "data": [
        [
         "James",
         "Developer",
         6000
        ],
        [
         "Michael",
         "Testing",
         4000
        ],
        [
         "Tony",
         "Developer",
         8000
        ],
        [
         "Parker",
         "Support",
         6000
        ],
        [
         "Stephen",
         "Developer",
         8000
        ],
        [
         "Clark",
         "Support",
         7000
        ],
        [
         "Bruce",
         "Testing",
         6000
        ],
        [
         "Allen",
         "Developer",
         7000
        ],
        [
         "Loki",
         "Support",
         6000
        ],
        [
         "Buttowski",
         "Developer",
         10000
        ]
       ],
       "datasetInfos": [],
       "dbfsResultPath": null,
       "isJsonSchema": true,
       "metadata": {},
       "overflow": false,
       "plotOptions": {
        "customPlotOptions": {},
        "displayType": "table",
        "pivotAggregation": null,
        "pivotColumns": null,
        "xColumns": null,
        "yColumns": null
       },
       "removedWidgets": [],
       "schema": [
        {
         "metadata": "{}",
         "name": "Name",
         "type": "\"string\""
        },
        {
         "metadata": "{}",
         "name": "Role",
         "type": "\"string\""
        },
        {
         "metadata": "{}",
         "name": "Salary",
         "type": "\"long\""
        }
       ],
       "type": "table"
      }
     },
     "output_type": "display_data"
    }
   ],
   "source": [
    "# Updating a column value in the table.\n",
    "\n",
    "df.withColumn(\"Salary\", col(\"Salary\") * 2).display()"
   ]
  },
  {
   "cell_type": "markdown",
   "metadata": {
    "application/vnd.databricks.v1+cell": {
     "cellMetadata": {},
     "inputWidgets": {},
     "nuid": "f8986b31-6dfe-415e-9dd7-f27ba3487a86",
     "showTitle": false,
     "title": ""
    }
   },
   "source": [
    "####*In order to create a new column, pass the column name you wanted to the first argument of withColumn() transformation function. Make sure this new column not already present on DataFrame, if it presents it updates the value of that column.*"
   ]
  },
  {
   "cell_type": "code",
   "execution_count": 0,
   "metadata": {
    "application/vnd.databricks.v1+cell": {
     "cellMetadata": {
      "byteLimit": 2048000,
      "rowLimit": 10000
     },
     "inputWidgets": {},
     "nuid": "92edc9e3-72ff-4d22-bc8f-b4870d3270d6",
     "showTitle": false,
     "title": ""
    }
   },
   "outputs": [
    {
     "output_type": "display_data",
     "data": {
      "text/html": [
       "<style scoped>\n",
       "  .table-result-container {\n",
       "    max-height: 300px;\n",
       "    overflow: auto;\n",
       "  }\n",
       "  table, th, td {\n",
       "    border: 1px solid black;\n",
       "    border-collapse: collapse;\n",
       "  }\n",
       "  th, td {\n",
       "    padding: 5px;\n",
       "  }\n",
       "  th {\n",
       "    text-align: left;\n",
       "  }\n",
       "</style><div class='table-result-container'><table class='table-result'><thead style='background-color: white'><tr><th>Name</th><th>Role</th><th>Salary</th><th>Country</th></tr></thead><tbody><tr><td>James</td><td>Developer</td><td>3000</td><td>India</td></tr><tr><td>Michael</td><td>Testing</td><td>2000</td><td>India</td></tr><tr><td>Tony</td><td>Developer</td><td>4000</td><td>India</td></tr><tr><td>Parker</td><td>Support</td><td>3000</td><td>India</td></tr><tr><td>Stephen</td><td>Developer</td><td>4000</td><td>India</td></tr><tr><td>Clark</td><td>Support</td><td>3500</td><td>India</td></tr><tr><td>Bruce</td><td>Testing</td><td>3000</td><td>India</td></tr><tr><td>Allen</td><td>Developer</td><td>3500</td><td>India</td></tr><tr><td>Loki</td><td>Support</td><td>3000</td><td>India</td></tr><tr><td>Buttowski</td><td>Developer</td><td>5000</td><td>India</td></tr></tbody></table></div>"
      ]
     },
     "metadata": {
      "application/vnd.databricks.v1+output": {
       "addedWidgets": {},
       "aggData": [],
       "aggError": "",
       "aggOverflow": false,
       "aggSchema": [],
       "aggSeriesLimitReached": false,
       "aggType": "",
       "arguments": {},
       "columnCustomDisplayInfos": {},
       "data": [
        [
         "James",
         "Developer",
         3000,
         "India"
        ],
        [
         "Michael",
         "Testing",
         2000,
         "India"
        ],
        [
         "Tony",
         "Developer",
         4000,
         "India"
        ],
        [
         "Parker",
         "Support",
         3000,
         "India"
        ],
        [
         "Stephen",
         "Developer",
         4000,
         "India"
        ],
        [
         "Clark",
         "Support",
         3500,
         "India"
        ],
        [
         "Bruce",
         "Testing",
         3000,
         "India"
        ],
        [
         "Allen",
         "Developer",
         3500,
         "India"
        ],
        [
         "Loki",
         "Support",
         3000,
         "India"
        ],
        [
         "Buttowski",
         "Developer",
         5000,
         "India"
        ]
       ],
       "datasetInfos": [],
       "dbfsResultPath": null,
       "isJsonSchema": true,
       "metadata": {},
       "overflow": false,
       "plotOptions": {
        "customPlotOptions": {},
        "displayType": "table",
        "pivotAggregation": null,
        "pivotColumns": null,
        "xColumns": null,
        "yColumns": null
       },
       "removedWidgets": [],
       "schema": [
        {
         "metadata": "{}",
         "name": "Name",
         "type": "\"string\""
        },
        {
         "metadata": "{}",
         "name": "Role",
         "type": "\"string\""
        },
        {
         "metadata": "{}",
         "name": "Salary",
         "type": "\"long\""
        },
        {
         "metadata": "{}",
         "name": "Country",
         "type": "\"string\""
        }
       ],
       "type": "table"
      }
     },
     "output_type": "display_data"
    }
   ],
   "source": [
    "# Creating a new column in the table.\n",
    "\n",
    "df2 = df.withColumn(\"Country\", lit(\"India\"))\n",
    "df2.display()"
   ]
  },
  {
   "cell_type": "markdown",
   "metadata": {
    "application/vnd.databricks.v1+cell": {
     "cellMetadata": {},
     "inputWidgets": {},
     "nuid": "83f31fa2-ea20-4235-9094-4b1e671df879",
     "showTitle": false,
     "title": ""
    }
   },
   "source": [
    "#### *Creating a new column using an existing column in the table using withColumn().*\n"
   ]
  },
  {
   "cell_type": "code",
   "execution_count": 0,
   "metadata": {
    "application/vnd.databricks.v1+cell": {
     "cellMetadata": {
      "byteLimit": 2048000,
      "rowLimit": 10000
     },
     "inputWidgets": {},
     "nuid": "6dc988dd-4add-4ca0-9ce1-9ed75d1f4581",
     "showTitle": false,
     "title": ""
    }
   },
   "outputs": [
    {
     "output_type": "display_data",
     "data": {
      "text/html": [
       "<style scoped>\n",
       "  .table-result-container {\n",
       "    max-height: 300px;\n",
       "    overflow: auto;\n",
       "  }\n",
       "  table, th, td {\n",
       "    border: 1px solid black;\n",
       "    border-collapse: collapse;\n",
       "  }\n",
       "  th, td {\n",
       "    padding: 5px;\n",
       "  }\n",
       "  th {\n",
       "    text-align: left;\n",
       "  }\n",
       "</style><div class='table-result-container'><table class='table-result'><thead style='background-color: white'><tr><th>Name</th><th>Role</th><th>Salary</th><th>Country</th><th>Bonus</th></tr></thead><tbody><tr><td>James</td><td>Developer</td><td>3000</td><td>India</td><td>300.0</td></tr><tr><td>Michael</td><td>Testing</td><td>2000</td><td>India</td><td>200.0</td></tr><tr><td>Tony</td><td>Developer</td><td>4000</td><td>India</td><td>400.0</td></tr><tr><td>Parker</td><td>Support</td><td>3000</td><td>India</td><td>300.0</td></tr><tr><td>Stephen</td><td>Developer</td><td>4000</td><td>India</td><td>400.0</td></tr><tr><td>Clark</td><td>Support</td><td>3500</td><td>India</td><td>350.0</td></tr><tr><td>Bruce</td><td>Testing</td><td>3000</td><td>India</td><td>300.0</td></tr><tr><td>Allen</td><td>Developer</td><td>3500</td><td>India</td><td>350.0</td></tr><tr><td>Loki</td><td>Support</td><td>3000</td><td>India</td><td>300.0</td></tr><tr><td>Buttowski</td><td>Developer</td><td>5000</td><td>India</td><td>500.0</td></tr></tbody></table></div>"
      ]
     },
     "metadata": {
      "application/vnd.databricks.v1+output": {
       "addedWidgets": {},
       "aggData": [],
       "aggError": "",
       "aggOverflow": false,
       "aggSchema": [],
       "aggSeriesLimitReached": false,
       "aggType": "",
       "arguments": {},
       "columnCustomDisplayInfos": {},
       "data": [
        [
         "James",
         "Developer",
         3000,
         "India",
         300.0
        ],
        [
         "Michael",
         "Testing",
         2000,
         "India",
         200.0
        ],
        [
         "Tony",
         "Developer",
         4000,
         "India",
         400.0
        ],
        [
         "Parker",
         "Support",
         3000,
         "India",
         300.0
        ],
        [
         "Stephen",
         "Developer",
         4000,
         "India",
         400.0
        ],
        [
         "Clark",
         "Support",
         3500,
         "India",
         350.0
        ],
        [
         "Bruce",
         "Testing",
         3000,
         "India",
         300.0
        ],
        [
         "Allen",
         "Developer",
         3500,
         "India",
         350.0
        ],
        [
         "Loki",
         "Support",
         3000,
         "India",
         300.0
        ],
        [
         "Buttowski",
         "Developer",
         5000,
         "India",
         500.0
        ]
       ],
       "datasetInfos": [],
       "dbfsResultPath": null,
       "isJsonSchema": true,
       "metadata": {},
       "overflow": false,
       "plotOptions": {
        "customPlotOptions": {},
        "displayType": "table",
        "pivotAggregation": null,
        "pivotColumns": null,
        "xColumns": null,
        "yColumns": null
       },
       "removedWidgets": [],
       "schema": [
        {
         "metadata": "{}",
         "name": "Name",
         "type": "\"string\""
        },
        {
         "metadata": "{}",
         "name": "Role",
         "type": "\"string\""
        },
        {
         "metadata": "{}",
         "name": "Salary",
         "type": "\"long\""
        },
        {
         "metadata": "{}",
         "name": "Country",
         "type": "\"string\""
        },
        {
         "metadata": "{}",
         "name": "Bonus",
         "type": "\"double\""
        }
       ],
       "type": "table"
      }
     },
     "output_type": "display_data"
    }
   ],
   "source": [
    "df2.withColumn(\"Bonus\",col(\"Salary\")/10).display()"
   ]
  },
  {
   "cell_type": "markdown",
   "metadata": {
    "application/vnd.databricks.v1+cell": {
     "cellMetadata": {},
     "inputWidgets": {},
     "nuid": "952f5a15-e11a-41c6-897c-e8b964c83d42",
     "showTitle": false,
     "title": ""
    }
   },
   "source": [
    "#### *To rename an existing column use withColumnRenamed() function on DataFrame. 'Country' column is renamed to 'Nation'.*"
   ]
  },
  {
   "cell_type": "code",
   "execution_count": 0,
   "metadata": {
    "application/vnd.databricks.v1+cell": {
     "cellMetadata": {
      "byteLimit": 2048000,
      "rowLimit": 10000
     },
     "inputWidgets": {},
     "nuid": "bb27132d-6801-4e6a-9030-1afef7eff27f",
     "showTitle": false,
     "title": ""
    }
   },
   "outputs": [
    {
     "output_type": "display_data",
     "data": {
      "text/html": [
       "<style scoped>\n",
       "  .table-result-container {\n",
       "    max-height: 300px;\n",
       "    overflow: auto;\n",
       "  }\n",
       "  table, th, td {\n",
       "    border: 1px solid black;\n",
       "    border-collapse: collapse;\n",
       "  }\n",
       "  th, td {\n",
       "    padding: 5px;\n",
       "  }\n",
       "  th {\n",
       "    text-align: left;\n",
       "  }\n",
       "</style><div class='table-result-container'><table class='table-result'><thead style='background-color: white'><tr><th>Name</th><th>Role</th><th>Salary</th><th>Nation</th></tr></thead><tbody><tr><td>James</td><td>Developer</td><td>3000</td><td>India</td></tr><tr><td>Michael</td><td>Testing</td><td>2000</td><td>India</td></tr><tr><td>Tony</td><td>Developer</td><td>4000</td><td>India</td></tr><tr><td>Parker</td><td>Support</td><td>3000</td><td>India</td></tr><tr><td>Stephen</td><td>Developer</td><td>4000</td><td>India</td></tr><tr><td>Clark</td><td>Support</td><td>3500</td><td>India</td></tr><tr><td>Bruce</td><td>Testing</td><td>3000</td><td>India</td></tr><tr><td>Allen</td><td>Developer</td><td>3500</td><td>India</td></tr><tr><td>Loki</td><td>Support</td><td>3000</td><td>India</td></tr><tr><td>Buttowski</td><td>Developer</td><td>5000</td><td>India</td></tr></tbody></table></div>"
      ]
     },
     "metadata": {
      "application/vnd.databricks.v1+output": {
       "addedWidgets": {},
       "aggData": [],
       "aggError": "",
       "aggOverflow": false,
       "aggSchema": [],
       "aggSeriesLimitReached": false,
       "aggType": "",
       "arguments": {},
       "columnCustomDisplayInfos": {},
       "data": [
        [
         "James",
         "Developer",
         3000,
         "India"
        ],
        [
         "Michael",
         "Testing",
         2000,
         "India"
        ],
        [
         "Tony",
         "Developer",
         4000,
         "India"
        ],
        [
         "Parker",
         "Support",
         3000,
         "India"
        ],
        [
         "Stephen",
         "Developer",
         4000,
         "India"
        ],
        [
         "Clark",
         "Support",
         3500,
         "India"
        ],
        [
         "Bruce",
         "Testing",
         3000,
         "India"
        ],
        [
         "Allen",
         "Developer",
         3500,
         "India"
        ],
        [
         "Loki",
         "Support",
         3000,
         "India"
        ],
        [
         "Buttowski",
         "Developer",
         5000,
         "India"
        ]
       ],
       "datasetInfos": [],
       "dbfsResultPath": null,
       "isJsonSchema": true,
       "metadata": {},
       "overflow": false,
       "plotOptions": {
        "customPlotOptions": {},
        "displayType": "table",
        "pivotAggregation": null,
        "pivotColumns": null,
        "xColumns": null,
        "yColumns": null
       },
       "removedWidgets": [],
       "schema": [
        {
         "metadata": "{}",
         "name": "Name",
         "type": "\"string\""
        },
        {
         "metadata": "{}",
         "name": "Role",
         "type": "\"string\""
        },
        {
         "metadata": "{}",
         "name": "Salary",
         "type": "\"long\""
        },
        {
         "metadata": "{}",
         "name": "Nation",
         "type": "\"string\""
        }
       ],
       "type": "table"
      }
     },
     "output_type": "display_data"
    }
   ],
   "source": [
    "df2.withColumnRenamed(\"Country\",\"Nation\").display()"
   ]
  },
  {
   "cell_type": "markdown",
   "metadata": {
    "application/vnd.databricks.v1+cell": {
     "cellMetadata": {
      "byteLimit": 2048000,
      "rowLimit": 10000
     },
     "inputWidgets": {},
     "nuid": "e08d9307-88c1-475a-8030-06f7a5a86fe7",
     "showTitle": false,
     "title": ""
    }
   },
   "source": [
    "#### *Drop function is used to delete a particular column or a group of column from the table*"
   ]
  },
  {
   "cell_type": "code",
   "execution_count": 0,
   "metadata": {
    "application/vnd.databricks.v1+cell": {
     "cellMetadata": {
      "byteLimit": 2048000,
      "rowLimit": 10000
     },
     "inputWidgets": {},
     "nuid": "c29c6b2d-3921-4f89-ad49-e4237eb485df",
     "showTitle": false,
     "title": ""
    }
   },
   "outputs": [
    {
     "output_type": "display_data",
     "data": {
      "text/html": [
       "<style scoped>\n",
       "  .table-result-container {\n",
       "    max-height: 300px;\n",
       "    overflow: auto;\n",
       "  }\n",
       "  table, th, td {\n",
       "    border: 1px solid black;\n",
       "    border-collapse: collapse;\n",
       "  }\n",
       "  th, td {\n",
       "    padding: 5px;\n",
       "  }\n",
       "  th {\n",
       "    text-align: left;\n",
       "  }\n",
       "</style><div class='table-result-container'><table class='table-result'><thead style='background-color: white'><tr><th>Name</th><th>Role</th><th>Salary</th></tr></thead><tbody><tr><td>James</td><td>Developer</td><td>3000</td></tr><tr><td>Michael</td><td>Testing</td><td>2000</td></tr><tr><td>Tony</td><td>Developer</td><td>4000</td></tr><tr><td>Parker</td><td>Support</td><td>3000</td></tr><tr><td>Stephen</td><td>Developer</td><td>4000</td></tr></tbody></table></div>"
      ]
     },
     "metadata": {
      "application/vnd.databricks.v1+output": {
       "addedWidgets": {},
       "aggData": [],
       "aggError": "",
       "aggOverflow": false,
       "aggSchema": [],
       "aggSeriesLimitReached": false,
       "aggType": "",
       "arguments": {},
       "columnCustomDisplayInfos": {},
       "data": [
        [
         "James",
         "Developer",
         3000
        ],
        [
         "Michael",
         "Testing",
         2000
        ],
        [
         "Tony",
         "Developer",
         4000
        ],
        [
         "Parker",
         "Support",
         3000
        ],
        [
         "Stephen",
         "Developer",
         4000
        ]
       ],
       "datasetInfos": [],
       "dbfsResultPath": null,
       "isJsonSchema": true,
       "metadata": {},
       "overflow": false,
       "plotOptions": {
        "customPlotOptions": {},
        "displayType": "table",
        "pivotAggregation": null,
        "pivotColumns": null,
        "xColumns": null,
        "yColumns": null
       },
       "removedWidgets": [],
       "schema": [
        {
         "metadata": "{}",
         "name": "Name",
         "type": "\"string\""
        },
        {
         "metadata": "{}",
         "name": "Role",
         "type": "\"string\""
        },
        {
         "metadata": "{}",
         "name": "Salary",
         "type": "\"long\""
        }
       ],
       "type": "table"
      }
     },
     "output_type": "display_data"
    },
    {
     "output_type": "display_data",
     "data": {
      "text/html": [
       "<style scoped>\n",
       "  .table-result-container {\n",
       "    max-height: 300px;\n",
       "    overflow: auto;\n",
       "  }\n",
       "  table, th, td {\n",
       "    border: 1px solid black;\n",
       "    border-collapse: collapse;\n",
       "  }\n",
       "  th, td {\n",
       "    padding: 5px;\n",
       "  }\n",
       "  th {\n",
       "    text-align: left;\n",
       "  }\n",
       "</style><div class='table-result-container'><table class='table-result'><thead style='background-color: white'><tr><th>Name</th><th>Role</th></tr></thead><tbody><tr><td>James</td><td>Developer</td></tr><tr><td>Michael</td><td>Testing</td></tr><tr><td>Tony</td><td>Developer</td></tr><tr><td>Parker</td><td>Support</td></tr><tr><td>Stephen</td><td>Developer</td></tr></tbody></table></div>"
      ]
     },
     "metadata": {
      "application/vnd.databricks.v1+output": {
       "addedWidgets": {},
       "aggData": [],
       "aggError": "",
       "aggOverflow": false,
       "aggSchema": [],
       "aggSeriesLimitReached": false,
       "aggType": "",
       "arguments": {},
       "columnCustomDisplayInfos": {},
       "data": [
        [
         "James",
         "Developer"
        ],
        [
         "Michael",
         "Testing"
        ],
        [
         "Tony",
         "Developer"
        ],
        [
         "Parker",
         "Support"
        ],
        [
         "Stephen",
         "Developer"
        ]
       ],
       "datasetInfos": [],
       "dbfsResultPath": null,
       "isJsonSchema": true,
       "metadata": {},
       "overflow": false,
       "plotOptions": {
        "customPlotOptions": {},
        "displayType": "table",
        "pivotAggregation": null,
        "pivotColumns": null,
        "xColumns": null,
        "yColumns": null
       },
       "removedWidgets": [],
       "schema": [
        {
         "metadata": "{}",
         "name": "Name",
         "type": "\"string\""
        },
        {
         "metadata": "{}",
         "name": "Role",
         "type": "\"string\""
        }
       ],
       "type": "table"
      }
     },
     "output_type": "display_data"
    },
    {
     "output_type": "display_data",
     "data": {
      "text/html": [
       "<style scoped>\n",
       "  .table-result-container {\n",
       "    max-height: 300px;\n",
       "    overflow: auto;\n",
       "  }\n",
       "  table, th, td {\n",
       "    border: 1px solid black;\n",
       "    border-collapse: collapse;\n",
       "  }\n",
       "  th, td {\n",
       "    padding: 5px;\n",
       "  }\n",
       "  th {\n",
       "    text-align: left;\n",
       "  }\n",
       "</style><div class='table-result-container'><table class='table-result'><thead style='background-color: white'><tr><th>Name</th><th>Role</th><th>Salary</th><th>Country</th></tr></thead><tbody><tr><td>James</td><td>Developer</td><td>3000</td><td>India</td></tr><tr><td>Michael</td><td>Testing</td><td>2000</td><td>India</td></tr><tr><td>Tony</td><td>Developer</td><td>4000</td><td>India</td></tr><tr><td>Parker</td><td>Support</td><td>3000</td><td>India</td></tr><tr><td>Stephen</td><td>Developer</td><td>4000</td><td>India</td></tr></tbody></table></div>"
      ]
     },
     "metadata": {
      "application/vnd.databricks.v1+output": {
       "addedWidgets": {},
       "aggData": [],
       "aggError": "",
       "aggOverflow": false,
       "aggSchema": [],
       "aggSeriesLimitReached": false,
       "aggType": "",
       "arguments": {},
       "columnCustomDisplayInfos": {},
       "data": [
        [
         "James",
         "Developer",
         3000,
         "India"
        ],
        [
         "Michael",
         "Testing",
         2000,
         "India"
        ],
        [
         "Tony",
         "Developer",
         4000,
         "India"
        ],
        [
         "Parker",
         "Support",
         3000,
         "India"
        ],
        [
         "Stephen",
         "Developer",
         4000,
         "India"
        ]
       ],
       "datasetInfos": [],
       "dbfsResultPath": null,
       "isJsonSchema": true,
       "metadata": {},
       "overflow": false,
       "plotOptions": {
        "customPlotOptions": {},
        "displayType": "table",
        "pivotAggregation": null,
        "pivotColumns": null,
        "xColumns": null,
        "yColumns": null
       },
       "removedWidgets": [],
       "schema": [
        {
         "metadata": "{}",
         "name": "Name",
         "type": "\"string\""
        },
        {
         "metadata": "{}",
         "name": "Role",
         "type": "\"string\""
        },
        {
         "metadata": "{}",
         "name": "Salary",
         "type": "\"long\""
        },
        {
         "metadata": "{}",
         "name": "Country",
         "type": "\"string\""
        }
       ],
       "type": "table"
      }
     },
     "output_type": "display_data"
    },
    {
     "output_type": "display_data",
     "data": {
      "text/html": [
       "<style scoped>\n",
       "  .table-result-container {\n",
       "    max-height: 300px;\n",
       "    overflow: auto;\n",
       "  }\n",
       "  table, th, td {\n",
       "    border: 1px solid black;\n",
       "    border-collapse: collapse;\n",
       "  }\n",
       "  th, td {\n",
       "    padding: 5px;\n",
       "  }\n",
       "  th {\n",
       "    text-align: left;\n",
       "  }\n",
       "</style><div class='table-result-container'><table class='table-result'><thead style='background-color: white'><tr><th>Name</th><th>Salary</th></tr></thead><tbody><tr><td>James</td><td>3000</td></tr><tr><td>Michael</td><td>2000</td></tr><tr><td>Tony</td><td>4000</td></tr><tr><td>Parker</td><td>3000</td></tr><tr><td>Stephen</td><td>4000</td></tr></tbody></table></div>"
      ]
     },
     "metadata": {
      "application/vnd.databricks.v1+output": {
       "addedWidgets": {},
       "aggData": [],
       "aggError": "",
       "aggOverflow": false,
       "aggSchema": [],
       "aggSeriesLimitReached": false,
       "aggType": "",
       "arguments": {},
       "columnCustomDisplayInfos": {},
       "data": [
        [
         "James",
         3000
        ],
        [
         "Michael",
         2000
        ],
        [
         "Tony",
         4000
        ],
        [
         "Parker",
         3000
        ],
        [
         "Stephen",
         4000
        ]
       ],
       "datasetInfos": [],
       "dbfsResultPath": null,
       "isJsonSchema": true,
       "metadata": {},
       "overflow": false,
       "plotOptions": {
        "customPlotOptions": {},
        "displayType": "table",
        "pivotAggregation": null,
        "pivotColumns": null,
        "xColumns": null,
        "yColumns": null
       },
       "removedWidgets": [],
       "schema": [
        {
         "metadata": "{}",
         "name": "Name",
         "type": "\"string\""
        },
        {
         "metadata": "{}",
         "name": "Salary",
         "type": "\"long\""
        }
       ],
       "type": "table"
      }
     },
     "output_type": "display_data"
    }
   ],
   "source": [
    "# Dropping one column.\n",
    "\n",
    "df.limit(5).display()\n",
    "df3=df.drop(df.Salary).limit(5).display()\n",
    "\n",
    "# Dropping multiple columns.\n",
    "\n",
    "df2.limit(5).display()\n",
    "df4=df2.drop(df2.Role,df2.Country).limit(5).display()"
   ]
  },
  {
   "cell_type": "code",
   "execution_count": 0,
   "metadata": {
    "application/vnd.databricks.v1+cell": {
     "cellMetadata": {},
     "inputWidgets": {},
     "nuid": "b8a6c8a2-c525-41d9-adfb-d54aab122b73",
     "showTitle": false,
     "title": ""
    }
   },
   "outputs": [],
   "source": []
  }
 ],
 "metadata": {
  "application/vnd.databricks.v1+notebook": {
   "dashboards": [],
   "language": "python",
   "notebookMetadata": {
    "pythonIndentUnit": 2
   },
   "notebookName": "with column",
   "widgets": {}
  }
 },
 "nbformat": 4,
 "nbformat_minor": 0
}
